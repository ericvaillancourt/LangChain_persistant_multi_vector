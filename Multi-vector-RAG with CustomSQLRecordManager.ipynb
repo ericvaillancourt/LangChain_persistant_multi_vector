{
 "cells": [
  {
   "cell_type": "code",
   "execution_count": 1,
   "id": "0d0a71bd",
   "metadata": {},
   "outputs": [
    {
     "data": {
      "text/plain": [
       "True"
      ]
     },
     "execution_count": 1,
     "metadata": {},
     "output_type": "execute_result"
    }
   ],
   "source": [
    "from dotenv import load_dotenv\n",
    "import os\n",
    "\n",
    "# Load environment variables\n",
    "load_dotenv()"
   ]
  },
  {
   "cell_type": "markdown",
   "id": "f45d302a",
   "metadata": {},
   "source": [
    "### Understanding Store in LangChain"
   ]
  },
  {
   "cell_type": "code",
   "execution_count": 2,
   "id": "28880508",
   "metadata": {},
   "outputs": [
    {
     "data": {
      "text/plain": [
       "[Document(page_content=\"Things to Do in Montreal \\nMontréal is a vibrant city with a rich cultural heritage and an array of activities to suit every \\ninterest. \\nOld Montreal  \\nDebute  your exploration in the historic Old Montreal, where cobblestone streets and 17th-\\ncentury architecture transport you back in time. Visit the stunning Notre-Dame Basilica, \\nrenowned for its intricate interior and dramatic light shows. \\nMontreal Museum of Fine Arts  \\nFor a taste of the local arts scene, head to the Montreal Museum of Fine Arts, home to an \\nimpressive collection of Canadian and international works. \\nMont Royal  \\nIf you're an outdoor enthusiast, Mont Royal o Ưers scenic hiking trails and panoramic views \\nof the city. In the summer, the park becomes a hub for picnics and outdoor events, \\nincluding the popular Tam-Tams festival, where locals gather to enjoy music and dance. \\nMile End District   \\nFor a modern twist, the Mile End district is a must-visit. Known for its bohemian vibe, this \\narea is packed with indie boutiques, art galleries, and eclectic cafes. Don’t miss the vibrant \\nstreet art that adorns many of the buildings here. \\nMontreal’s Underground City   \\nIf you're visiting in the winter, Montreal’s Underground City is a unique experience, \\nproviding over 30 kilometers of pedestrian pathways that connect shops, hotels, and metro \\nstations, all sheltered from the cold. \\nFestivals   \\nAdditionally, the city is famous for its festivals, such as the Montreal International Jazz \\nFestival and Just for Laughs, which attract visitors from around the globe.\", metadata={'source': 'data\\\\montreal.pdf', 'page': 0}),\n",
       " Document(page_content='Dining in Montreal \\nMontreal’s culinary scene is just as diverse and exciting as its activities. \\nSchwartz’s Deli  \\nStart your gastronomic journey with a visit to Schwartz’s Deli, an iconic establishment \\nknown for its mouth-watering smoked meat sandwiches. \\nLa Banquise  \\nFor a true taste of Montreal, try poutine – a delectable dish of fries topped with cheese \\ncurds and gravy – available at La Banquise, a local favorite that o Ưers numerous variations \\nof this classic comfort food. \\nToqué!  \\nFor ﬁne dining, Toqué! is a standout choice, o Ưering an innovative menu that highlights \\nseasonal ingredients and Quebecois ﬂavors. \\nJoe Beef  \\nFoodies will also appreciate Joe Beef, a beloved bistro that combines French culinary \\ntechniques with hearty, local ingredients. \\nFairmount Bagel and St-Viateur Bagel  \\nIf you’re in the mood for something sweet, a stop at Fairmount Bagel or St-Viateur Bagel is \\nessential. These bagel shops have been serving freshly baked, wood-ﬁred bagels for \\ndecades and are a staple of Montreal’s food culture. \\nCandide and Damas  \\nIn the mood for something more exotic? Try Candide, which serves contemporary dishes \\nwith a focus on local and sustainable ingredients, or Damas, a high-end Syrian restaurant \\nknown for its exquisite Middle Eastern cuisine. \\nWith its diverse array of dining options, Montreal truly o Ưers something for every palate.', metadata={'source': 'data\\\\montreal.pdf', 'page': 1})]"
      ]
     },
     "execution_count": 2,
     "metadata": {},
     "output_type": "execute_result"
    }
   ],
   "source": [
    "from langchain.document_loaders import PyPDFLoader\n",
    "from langchain.text_splitter import RecursiveCharacterTextSplitter\n",
    "\n",
    "file_path = r\"data\\montreal.pdf\"\n",
    "\n",
    "loader = PyPDFLoader(file_path=file_path)\n",
    "\n",
    "# by default, we will split by pages with no text_splitter\n",
    "documents = loader.load_and_split(text_splitter=None)\n",
    "documents"
   ]
  },
  {
   "cell_type": "markdown",
   "id": "b41e5a7f",
   "metadata": {},
   "source": [
    "### Unsing the PostgresByteStore"
   ]
  },
  {
   "cell_type": "code",
   "execution_count": 3,
   "id": "833c1001",
   "metadata": {},
   "outputs": [
    {
     "data": {
      "text/plain": [
       "MultiVectorRetriever(vectorstore=<langchain_postgres.vectorstores.PGVector object at 0x00000263E43CD2D0>, docstore=<utils.store.PostgresByteStore object at 0x00000263E471BCD0>)"
      ]
     },
     "execution_count": 3,
     "metadata": {},
     "output_type": "execute_result"
    }
   ],
   "source": [
    "from langchain.vectorstores import Chroma\n",
    "from langchain.storage import InMemoryStore\n",
    "from langchain_openai import OpenAIEmbeddings\n",
    "from langchain.retrievers.multi_vector import MultiVectorRetriever\n",
    "from langchain_postgres import PGVector\n",
    "from database import COLLECTION_NAME, CONNECTION_STRING\n",
    "from utils.store import PostgresByteStore\n",
    "from langchain_postgres import PostgresSaver, PickleCheckpointSerializer\n",
    "from utils.custom_sql_record_manager import CustomSQLRecordManager\n",
    "from utils.index_with_ids import index_with_ids\n",
    "\n",
    "embeddings = OpenAIEmbeddings()\n",
    "vectorstore = PGVector(\n",
    "    embeddings=embeddings,\n",
    "    collection_name=COLLECTION_NAME,\n",
    "    connection=CONNECTION_STRING,\n",
    "    use_jsonb=True,\n",
    ")\n",
    "\n",
    "store = PostgresByteStore(CONNECTION_STRING, COLLECTION_NAME)\n",
    "id_key = \"doc_id\"\n",
    "\n",
    "retriever = MultiVectorRetriever(\n",
    "    vectorstore=vectorstore, \n",
    "    docstore=store, \n",
    "    id_key=id_key,\n",
    ")\n",
    "\n",
    "# define record manager\n",
    "namespace = f\"pgvector/{COLLECTION_NAME}\"\n",
    "record_manager = CustomSQLRecordManager(\n",
    "    namespace, db_url=CONNECTION_STRING\n",
    ")\n",
    "record_manager.create_schema()\n",
    "\n",
    "retriever"
   ]
  },
  {
   "cell_type": "code",
   "execution_count": null,
   "id": "90c6b671",
   "metadata": {},
   "outputs": [],
   "source": [
    "# import uuid\n",
    "\n",
    "# # Add a unique doc_id to each document's metadata\n",
    "# for doc in documents:\n",
    "#     doc.metadata[\"doc_id\"] = str(uuid.uuid4())"
   ]
  },
  {
   "cell_type": "code",
   "execution_count": 4,
   "id": "d6255a2f",
   "metadata": {},
   "outputs": [],
   "source": [
    "from utils.utils import generate_reproducible_id_by_content\n",
    "\n",
    "# Add a reproducible unique doc_id to each document's metadata\n",
    "for position, doc in enumerate(documents):\n",
    "    doc.metadata[\"doc_id\"] = generate_reproducible_id_by_content(doc.page_content, doc.metadata)"
   ]
  },
  {
   "cell_type": "code",
   "execution_count": 5,
   "id": "9e59b583",
   "metadata": {},
   "outputs": [
    {
     "data": {
      "text/plain": [
       "[Document(page_content=\"Things to Do in Montreal \\nMontréal is a vibrant city with a rich cultural heritage and an array of activities to suit every \\ninterest. \\nOld Montreal  \\nDebute  your exploration in the historic Old Montreal, where cobblestone streets and 17th-\\ncentury architecture transport you back in time. Visit the stunning Notre-Dame Basilica, \\nrenowned for its intricate interior and dramatic light shows. \\nMontreal Museum of Fine Arts  \\nFor a taste of the local arts scene, head to the Montreal Museum of Fine Arts, home to an \\nimpressive collection of Canadian and international works. \\nMont Royal  \\nIf you're an outdoor enthusiast, Mont Royal o Ưers scenic hiking trails and panoramic views \\nof the city. In the summer, the park becomes a hub for picnics and outdoor events, \\nincluding the popular Tam-Tams festival, where locals gather to enjoy music and dance. \\nMile End District   \\nFor a modern twist, the Mile End district is a must-visit. Known for its bohemian vibe, this \\narea is packed with indie boutiques, art galleries, and eclectic cafes. Don’t miss the vibrant \\nstreet art that adorns many of the buildings here. \\nMontreal’s Underground City   \\nIf you're visiting in the winter, Montreal’s Underground City is a unique experience, \\nproviding over 30 kilometers of pedestrian pathways that connect shops, hotels, and metro \\nstations, all sheltered from the cold. \\nFestivals   \\nAdditionally, the city is famous for its festivals, such as the Montreal International Jazz \\nFestival and Just for Laughs, which attract visitors from around the globe.\", metadata={'source': 'data\\\\montreal.pdf', 'page': 0, 'doc_id': '44840752-2ea4-51bd-9ece-fd7cf31454b9'}),\n",
       " Document(page_content='Dining in Montreal \\nMontreal’s culinary scene is just as diverse and exciting as its activities. \\nSchwartz’s Deli  \\nStart your gastronomic journey with a visit to Schwartz’s Deli, an iconic establishment \\nknown for its mouth-watering smoked meat sandwiches. \\nLa Banquise  \\nFor a true taste of Montreal, try poutine – a delectable dish of fries topped with cheese \\ncurds and gravy – available at La Banquise, a local favorite that o Ưers numerous variations \\nof this classic comfort food. \\nToqué!  \\nFor ﬁne dining, Toqué! is a standout choice, o Ưering an innovative menu that highlights \\nseasonal ingredients and Quebecois ﬂavors. \\nJoe Beef  \\nFoodies will also appreciate Joe Beef, a beloved bistro that combines French culinary \\ntechniques with hearty, local ingredients. \\nFairmount Bagel and St-Viateur Bagel  \\nIf you’re in the mood for something sweet, a stop at Fairmount Bagel or St-Viateur Bagel is \\nessential. These bagel shops have been serving freshly baked, wood-ﬁred bagels for \\ndecades and are a staple of Montreal’s food culture. \\nCandide and Damas  \\nIn the mood for something more exotic? Try Candide, which serves contemporary dishes \\nwith a focus on local and sustainable ingredients, or Damas, a high-end Syrian restaurant \\nknown for its exquisite Middle Eastern cuisine. \\nWith its diverse array of dining options, Montreal truly o Ưers something for every palate.', metadata={'source': 'data\\\\montreal.pdf', 'page': 1, 'doc_id': '8ce6d14a-45f3-559f-a679-09f830fd5199'})]"
      ]
     },
     "execution_count": 5,
     "metadata": {},
     "output_type": "execute_result"
    }
   ],
   "source": [
    "documents"
   ]
  },
  {
   "cell_type": "code",
   "execution_count": 6,
   "id": "2e3c48fd",
   "metadata": {},
   "outputs": [
    {
     "data": {
      "text/plain": [
       "[Document(page_content='Things to Do in Montreal \\nMontréal is a vibrant city with a rich cultural heritage and an array of activities to suit every \\ninterest. \\nOld Montreal  \\nDebute  your exploration in the historic Old Montreal, where cobblestone streets and 17th-\\ncentury architecture transport you back in time. Visit the stunning Notre-Dame Basilica, \\nrenowned for its intricate interior and dramatic light shows.', metadata={'source': 'data\\\\montreal.pdf(smaller chunk)', 'page': 0, 'doc_id': '44840752-2ea4-51bd-9ece-fd7cf31454b9'}),\n",
       " Document(page_content='century architecture transport you back in time. Visit the stunning Notre-Dame Basilica, \\nrenowned for its intricate interior and dramatic light shows. \\nMontreal Museum of Fine Arts  \\nFor a taste of the local arts scene, head to the Montreal Museum of Fine Arts, home to an \\nimpressive collection of Canadian and international works. \\nMont Royal', metadata={'source': 'data\\\\montreal.pdf(smaller chunk)', 'page': 0, 'doc_id': '44840752-2ea4-51bd-9ece-fd7cf31454b9'}),\n",
       " Document(page_content=\"Montreal Museum of Fine Arts  \\nFor a taste of the local arts scene, head to the Montreal Museum of Fine Arts, home to an \\nimpressive collection of Canadian and international works. \\nMont Royal  \\nIf you're an outdoor enthusiast, Mont Royal o Ưers scenic hiking trails and panoramic views \\nof the city. In the summer, the park becomes a hub for picnics and outdoor events,\", metadata={'source': 'data\\\\montreal.pdf(smaller chunk)', 'page': 0, 'doc_id': '44840752-2ea4-51bd-9ece-fd7cf31454b9'}),\n",
       " Document(page_content=\"Mont Royal  \\nIf you're an outdoor enthusiast, Mont Royal o Ưers scenic hiking trails and panoramic views \\nof the city. In the summer, the park becomes a hub for picnics and outdoor events, \\nincluding the popular Tam-Tams festival, where locals gather to enjoy music and dance. \\nMile End District   \\nFor a modern twist, the Mile End district is a must-visit. Known for its bohemian vibe, this\", metadata={'source': 'data\\\\montreal.pdf(smaller chunk)', 'page': 0, 'doc_id': '44840752-2ea4-51bd-9ece-fd7cf31454b9'}),\n",
       " Document(page_content=\"Mile End District   \\nFor a modern twist, the Mile End district is a must-visit. Known for its bohemian vibe, this \\narea is packed with indie boutiques, art galleries, and eclectic cafes. Don’t miss the vibrant \\nstreet art that adorns many of the buildings here. \\nMontreal’s Underground City   \\nIf you're visiting in the winter, Montreal’s Underground City is a unique experience,\", metadata={'source': 'data\\\\montreal.pdf(smaller chunk)', 'page': 0, 'doc_id': '44840752-2ea4-51bd-9ece-fd7cf31454b9'}),\n",
       " Document(page_content=\"street art that adorns many of the buildings here. \\nMontreal’s Underground City   \\nIf you're visiting in the winter, Montreal’s Underground City is a unique experience, \\nproviding over 30 kilometers of pedestrian pathways that connect shops, hotels, and metro \\nstations, all sheltered from the cold. \\nFestivals\", metadata={'source': 'data\\\\montreal.pdf(smaller chunk)', 'page': 0, 'doc_id': '44840752-2ea4-51bd-9ece-fd7cf31454b9'}),\n",
       " Document(page_content='providing over 30 kilometers of pedestrian pathways that connect shops, hotels, and metro \\nstations, all sheltered from the cold. \\nFestivals   \\nAdditionally, the city is famous for its festivals, such as the Montreal International Jazz \\nFestival and Just for Laughs, which attract visitors from around the globe.', metadata={'source': 'data\\\\montreal.pdf(smaller chunk)', 'page': 0, 'doc_id': '44840752-2ea4-51bd-9ece-fd7cf31454b9'}),\n",
       " Document(page_content='Dining in Montreal \\nMontreal’s culinary scene is just as diverse and exciting as its activities. \\nSchwartz’s Deli  \\nStart your gastronomic journey with a visit to Schwartz’s Deli, an iconic establishment \\nknown for its mouth-watering smoked meat sandwiches. \\nLa Banquise  \\nFor a true taste of Montreal, try poutine – a delectable dish of fries topped with cheese', metadata={'source': 'data\\\\montreal.pdf(smaller chunk)', 'page': 1, 'doc_id': '8ce6d14a-45f3-559f-a679-09f830fd5199'}),\n",
       " Document(page_content='known for its mouth-watering smoked meat sandwiches. \\nLa Banquise  \\nFor a true taste of Montreal, try poutine – a delectable dish of fries topped with cheese \\ncurds and gravy – available at La Banquise, a local favorite that o Ưers numerous variations \\nof this classic comfort food. \\nToqué!  \\nFor ﬁne dining, Toqué! is a standout choice, o Ưering an innovative menu that highlights', metadata={'source': 'data\\\\montreal.pdf(smaller chunk)', 'page': 1, 'doc_id': '8ce6d14a-45f3-559f-a679-09f830fd5199'}),\n",
       " Document(page_content='of this classic comfort food. \\nToqué!  \\nFor ﬁne dining, Toqué! is a standout choice, o Ưering an innovative menu that highlights \\nseasonal ingredients and Quebecois ﬂavors. \\nJoe Beef  \\nFoodies will also appreciate Joe Beef, a beloved bistro that combines French culinary \\ntechniques with hearty, local ingredients. \\nFairmount Bagel and St-Viateur Bagel', metadata={'source': 'data\\\\montreal.pdf(smaller chunk)', 'page': 1, 'doc_id': '8ce6d14a-45f3-559f-a679-09f830fd5199'}),\n",
       " Document(page_content='Joe Beef  \\nFoodies will also appreciate Joe Beef, a beloved bistro that combines French culinary \\ntechniques with hearty, local ingredients. \\nFairmount Bagel and St-Viateur Bagel  \\nIf you’re in the mood for something sweet, a stop at Fairmount Bagel or St-Viateur Bagel is \\nessential. These bagel shops have been serving freshly baked, wood-ﬁred bagels for', metadata={'source': 'data\\\\montreal.pdf(smaller chunk)', 'page': 1, 'doc_id': '8ce6d14a-45f3-559f-a679-09f830fd5199'}),\n",
       " Document(page_content='If you’re in the mood for something sweet, a stop at Fairmount Bagel or St-Viateur Bagel is \\nessential. These bagel shops have been serving freshly baked, wood-ﬁred bagels for \\ndecades and are a staple of Montreal’s food culture. \\nCandide and Damas  \\nIn the mood for something more exotic? Try Candide, which serves contemporary dishes', metadata={'source': 'data\\\\montreal.pdf(smaller chunk)', 'page': 1, 'doc_id': '8ce6d14a-45f3-559f-a679-09f830fd5199'}),\n",
       " Document(page_content='decades and are a staple of Montreal’s food culture. \\nCandide and Damas  \\nIn the mood for something more exotic? Try Candide, which serves contemporary dishes \\nwith a focus on local and sustainable ingredients, or Damas, a high-end Syrian restaurant \\nknown for its exquisite Middle Eastern cuisine. \\nWith its diverse array of dining options, Montreal truly o Ưers something for every palate.', metadata={'source': 'data\\\\montreal.pdf(smaller chunk)', 'page': 1, 'doc_id': '8ce6d14a-45f3-559f-a679-09f830fd5199'})]"
      ]
     },
     "execution_count": 6,
     "metadata": {},
     "output_type": "execute_result"
    }
   ],
   "source": [
    "from langchain.schema.document import Document\n",
    "from langchain.text_splitter import RecursiveCharacterTextSplitter\n",
    "\n",
    "# Assume documents is a list of Document objects with 'doc_id' in their metadata\n",
    "child_text_splitter = RecursiveCharacterTextSplitter(chunk_size=400)\n",
    "\n",
    "all_sub_docs = []\n",
    "for doc in documents:\n",
    "    doc_id = doc.metadata.get(\"doc_id\")  # Retrieve the doc_id from the document's metadata\n",
    "    source = doc.metadata.get(\"source\")  # Retrieve the source from the document's metadata\n",
    "    sub_docs = child_text_splitter.split_documents([doc])\n",
    "    for sub_doc in sub_docs:\n",
    "        sub_doc.metadata[\"doc_id\"] = doc_id  # Assign the same doc_id to each sub-document\n",
    "        sub_doc.metadata[\"source\"] = f\"{source}(smaller chunk)\"  # Add the suffix to the source\n",
    "    all_sub_docs.extend(sub_docs)\n",
    "\n",
    "# Display the resulting sub-documents\n",
    "all_sub_docs\n"
   ]
  },
  {
   "cell_type": "code",
   "execution_count": 7,
   "id": "132b537e",
   "metadata": {},
   "outputs": [],
   "source": [
    "idx = index_with_ids(all_sub_docs, record_manager, vectorstore, cleanup=\"incremental\",\n",
    "                                          source_id_key=\"source\")\n",
    "# Generate the list of (doc_id, document) tuples from the documents\n",
    "doc_id_document_tuples = [(doc.metadata[\"doc_id\"], doc) for doc in documents]\n",
    "\n",
    "# Pass the list of tuples to retriever.docstore.mset\n",
    "retriever.docstore.mset(doc_id_document_tuples)"
   ]
  },
  {
   "cell_type": "code",
   "execution_count": 8,
   "id": "8a239bcb",
   "metadata": {},
   "outputs": [
    {
     "data": {
      "text/plain": [
       "{'status': 'success',\n",
       " 'ids': [{'key': '3a4ade9a-4a8e-5b46-9ec8-112ced503fe6', 'operation': 'SKIP'},\n",
       "  {'key': '6b1f540c-debf-58cc-9f82-861ebce92536', 'operation': 'SKIP'},\n",
       "  {'key': 'f5281ed9-73b3-58a1-917c-36dff1b14ec1', 'operation': 'SKIP'},\n",
       "  {'key': '4f6633c1-2b12-5f63-a447-979984220e2d', 'operation': 'SKIP'},\n",
       "  {'key': '64627492-283d-5b95-af68-3187770e2877', 'operation': 'SKIP'},\n",
       "  {'key': '0f5c3a6c-100b-5ed9-ad77-d2ebbe34f91e', 'operation': 'SKIP'},\n",
       "  {'key': '44f33f3e-6046-51fb-8bb7-9ba26a4d30a3', 'operation': 'SKIP'},\n",
       "  {'key': 'b84cc28f-308f-5042-b610-6e9c36e0368d', 'operation': 'SKIP'},\n",
       "  {'key': 'e263e3b8-6a68-5793-8c9f-60415a95f23c', 'operation': 'SKIP'},\n",
       "  {'key': '99408ed0-96ab-5eb4-9650-40497861fb9d', 'operation': 'SKIP'},\n",
       "  {'key': 'a94e4047-3a07-5c88-b449-3f9876ae98a6', 'operation': 'SKIP'},\n",
       "  {'key': 'd16ecc12-0c16-51f6-b280-80dbdbf3958c', 'operation': 'SKIP'},\n",
       "  {'key': '3b9c4ef0-00a6-5c69-8a62-d49cdc5ca0cd', 'operation': 'SKIP'}],\n",
       " 'results': [{'num_added': 0,\n",
       "   'num_updated': 0,\n",
       "   'num_skipped': 13,\n",
       "   'num_deleted': 0}]}"
      ]
     },
     "execution_count": 8,
     "metadata": {},
     "output_type": "execute_result"
    }
   ],
   "source": [
    "idx"
   ]
  },
  {
   "cell_type": "markdown",
   "id": "288b2e37",
   "metadata": {},
   "source": [
    "### Creating Summaries for Each Parent Chunk"
   ]
  },
  {
   "cell_type": "code",
   "execution_count": 9,
   "id": "4a0407a3",
   "metadata": {},
   "outputs": [],
   "source": [
    "from langchain_core.output_parsers import StrOutputParser\n",
    "from langchain_core.prompts import ChatPromptTemplate\n",
    "from langchain_openai import ChatOpenAI\n",
    "\n",
    "prompt_text = \"\"\"You are an assistant tasked with summarizing text. \\\n",
    "Directly summarize the following text chunk: {element} \"\"\"\n",
    "prompt = ChatPromptTemplate.from_template(prompt_text)\n",
    "\n",
    "# Initialize the Language Model (LLM)\n",
    "model = ChatOpenAI(temperature=0, model=\"gpt-4o\")\n",
    "\n",
    "# Define the summary chain\n",
    "summarize_chain = {\"element\": lambda x: x} | prompt | model | StrOutputParser()"
   ]
  },
  {
   "cell_type": "code",
   "execution_count": 10,
   "id": "32aca4b7",
   "metadata": {},
   "outputs": [
    {
     "data": {
      "text/plain": [
       "[Document(page_content=\"Things to Do in Montreal \\nMontréal is a vibrant city with a rich cultural heritage and an array of activities to suit every \\ninterest. \\nOld Montreal  \\nDebute  your exploration in the historic Old Montreal, where cobblestone streets and 17th-\\ncentury architecture transport you back in time. Visit the stunning Notre-Dame Basilica, \\nrenowned for its intricate interior and dramatic light shows. \\nMontreal Museum of Fine Arts  \\nFor a taste of the local arts scene, head to the Montreal Museum of Fine Arts, home to an \\nimpressive collection of Canadian and international works. \\nMont Royal  \\nIf you're an outdoor enthusiast, Mont Royal o Ưers scenic hiking trails and panoramic views \\nof the city. In the summer, the park becomes a hub for picnics and outdoor events, \\nincluding the popular Tam-Tams festival, where locals gather to enjoy music and dance. \\nMile End District   \\nFor a modern twist, the Mile End district is a must-visit. Known for its bohemian vibe, this \\narea is packed with indie boutiques, art galleries, and eclectic cafes. Don’t miss the vibrant \\nstreet art that adorns many of the buildings here. \\nMontreal’s Underground City   \\nIf you're visiting in the winter, Montreal’s Underground City is a unique experience, \\nproviding over 30 kilometers of pedestrian pathways that connect shops, hotels, and metro \\nstations, all sheltered from the cold. \\nFestivals   \\nAdditionally, the city is famous for its festivals, such as the Montreal International Jazz \\nFestival and Just for Laughs, which attract visitors from around the globe.\", metadata={'source': 'data\\\\montreal.pdf', 'page': 0, 'doc_id': '44840752-2ea4-51bd-9ece-fd7cf31454b9'}),\n",
       " Document(page_content='Dining in Montreal \\nMontreal’s culinary scene is just as diverse and exciting as its activities. \\nSchwartz’s Deli  \\nStart your gastronomic journey with a visit to Schwartz’s Deli, an iconic establishment \\nknown for its mouth-watering smoked meat sandwiches. \\nLa Banquise  \\nFor a true taste of Montreal, try poutine – a delectable dish of fries topped with cheese \\ncurds and gravy – available at La Banquise, a local favorite that o Ưers numerous variations \\nof this classic comfort food. \\nToqué!  \\nFor ﬁne dining, Toqué! is a standout choice, o Ưering an innovative menu that highlights \\nseasonal ingredients and Quebecois ﬂavors. \\nJoe Beef  \\nFoodies will also appreciate Joe Beef, a beloved bistro that combines French culinary \\ntechniques with hearty, local ingredients. \\nFairmount Bagel and St-Viateur Bagel  \\nIf you’re in the mood for something sweet, a stop at Fairmount Bagel or St-Viateur Bagel is \\nessential. These bagel shops have been serving freshly baked, wood-ﬁred bagels for \\ndecades and are a staple of Montreal’s food culture. \\nCandide and Damas  \\nIn the mood for something more exotic? Try Candide, which serves contemporary dishes \\nwith a focus on local and sustainable ingredients, or Damas, a high-end Syrian restaurant \\nknown for its exquisite Middle Eastern cuisine. \\nWith its diverse array of dining options, Montreal truly o Ưers something for every palate.', metadata={'source': 'data\\\\montreal.pdf', 'page': 1, 'doc_id': '8ce6d14a-45f3-559f-a679-09f830fd5199'})]"
      ]
     },
     "execution_count": 10,
     "metadata": {},
     "output_type": "execute_result"
    }
   ],
   "source": [
    "documents"
   ]
  },
  {
   "cell_type": "code",
   "execution_count": 11,
   "id": "14af703e",
   "metadata": {},
   "outputs": [],
   "source": [
    "parent_chunk = [i.page_content for i in documents]\n",
    "text_summaries = summarize_chain.batch(parent_chunk, {\"max_concurrency\": 5})"
   ]
  },
  {
   "cell_type": "code",
   "execution_count": null,
   "id": "2cce7567",
   "metadata": {},
   "outputs": [],
   "source": [
    "# from langchain.schema.document import Document\n",
    "\n",
    "# # Extract metadata from documents\n",
    "# metadata = [i.metadata for i in documents]\n",
    "\n",
    "# # Create new Document objects with the summaries and the original metadata\n",
    "# text_summaries_with_metadata = [\n",
    "#     Document(page_content=summary, metadata=meta)\n",
    "#     for summary, meta in zip(text_summaries, metadata)\n",
    "# ]"
   ]
  },
  {
   "cell_type": "code",
   "execution_count": 13,
   "id": "7f14bd96",
   "metadata": {},
   "outputs": [],
   "source": [
    "from langchain.schema.document import Document\n",
    "import copy\n",
    "\n",
    "# Extract metadata from documents\n",
    "metadata = [i.metadata for i in documents]\n",
    "\n",
    "# Create new Document objects with the summaries and the original metadata\n",
    "text_summaries_with_metadata = []\n",
    "for summary, meta in zip(text_summaries, metadata):\n",
    "    # Create a copy of the metadata dictionary\n",
    "    new_meta = copy.deepcopy(meta)\n",
    "    \n",
    "    # Add the suffix \"(summary)\" to the source in the copied metadata\n",
    "    if 'source' in new_meta:\n",
    "        new_meta['source'] += ' (summary)'\n",
    "        \n",
    "    text_summaries_with_metadata.append(Document(page_content=summary, metadata=new_meta))\n",
    "\n"
   ]
  },
  {
   "cell_type": "code",
   "execution_count": 16,
   "id": "8c4de4c8",
   "metadata": {},
   "outputs": [
    {
     "data": {
      "text/plain": [
       "[Document(page_content=\"Things to Do in Montreal \\nMontréal is a vibrant city with a rich cultural heritage and an array of activities to suit every \\ninterest. \\nOld Montreal  \\nDebute  your exploration in the historic Old Montreal, where cobblestone streets and 17th-\\ncentury architecture transport you back in time. Visit the stunning Notre-Dame Basilica, \\nrenowned for its intricate interior and dramatic light shows. \\nMontreal Museum of Fine Arts  \\nFor a taste of the local arts scene, head to the Montreal Museum of Fine Arts, home to an \\nimpressive collection of Canadian and international works. \\nMont Royal  \\nIf you're an outdoor enthusiast, Mont Royal o Ưers scenic hiking trails and panoramic views \\nof the city. In the summer, the park becomes a hub for picnics and outdoor events, \\nincluding the popular Tam-Tams festival, where locals gather to enjoy music and dance. \\nMile End District   \\nFor a modern twist, the Mile End district is a must-visit. Known for its bohemian vibe, this \\narea is packed with indie boutiques, art galleries, and eclectic cafes. Don’t miss the vibrant \\nstreet art that adorns many of the buildings here. \\nMontreal’s Underground City   \\nIf you're visiting in the winter, Montreal’s Underground City is a unique experience, \\nproviding over 30 kilometers of pedestrian pathways that connect shops, hotels, and metro \\nstations, all sheltered from the cold. \\nFestivals   \\nAdditionally, the city is famous for its festivals, such as the Montreal International Jazz \\nFestival and Just for Laughs, which attract visitors from around the globe.\", metadata={'source': 'data\\\\montreal.pdf', 'page': 0, 'doc_id': '44840752-2ea4-51bd-9ece-fd7cf31454b9'}),\n",
       " Document(page_content='Dining in Montreal \\nMontreal’s culinary scene is just as diverse and exciting as its activities. \\nSchwartz’s Deli  \\nStart your gastronomic journey with a visit to Schwartz’s Deli, an iconic establishment \\nknown for its mouth-watering smoked meat sandwiches. \\nLa Banquise  \\nFor a true taste of Montreal, try poutine – a delectable dish of fries topped with cheese \\ncurds and gravy – available at La Banquise, a local favorite that o Ưers numerous variations \\nof this classic comfort food. \\nToqué!  \\nFor ﬁne dining, Toqué! is a standout choice, o Ưering an innovative menu that highlights \\nseasonal ingredients and Quebecois ﬂavors. \\nJoe Beef  \\nFoodies will also appreciate Joe Beef, a beloved bistro that combines French culinary \\ntechniques with hearty, local ingredients. \\nFairmount Bagel and St-Viateur Bagel  \\nIf you’re in the mood for something sweet, a stop at Fairmount Bagel or St-Viateur Bagel is \\nessential. These bagel shops have been serving freshly baked, wood-ﬁred bagels for \\ndecades and are a staple of Montreal’s food culture. \\nCandide and Damas  \\nIn the mood for something more exotic? Try Candide, which serves contemporary dishes \\nwith a focus on local and sustainable ingredients, or Damas, a high-end Syrian restaurant \\nknown for its exquisite Middle Eastern cuisine. \\nWith its diverse array of dining options, Montreal truly o Ưers something for every palate.', metadata={'source': 'data\\\\montreal.pdf', 'page': 1, 'doc_id': '8ce6d14a-45f3-559f-a679-09f830fd5199'})]"
      ]
     },
     "execution_count": 16,
     "metadata": {},
     "output_type": "execute_result"
    }
   ],
   "source": [
    "documents"
   ]
  },
  {
   "cell_type": "code",
   "execution_count": 19,
   "id": "830970cb",
   "metadata": {},
   "outputs": [
    {
     "data": {
      "text/plain": [
       "[Document(page_content='Montréal offers a variety of activities for all interests, reflecting its rich cultural heritage. Start in Old Montreal with its historic architecture and the Notre-Dame Basilica. Art enthusiasts should visit the Montreal Museum of Fine Arts. Outdoor lovers can explore Mont Royal for hiking and city views, and enjoy summer events like the Tam-Tams festival. The Mile End district offers a bohemian atmosphere with indie shops, galleries, and street art. In winter, the Underground City provides 30 kilometers of sheltered pathways connecting shops and metro stations. The city is also renowned for festivals like the Montreal International Jazz Festival and Just for Laughs.', metadata={'source': 'data\\\\montreal.pdf (summary)', 'page': 0, 'doc_id': '44840752-2ea4-51bd-9ece-fd7cf31454b9'}),\n",
       " Document(page_content=\"Montreal's culinary scene is diverse and exciting, featuring iconic establishments like Schwartz’s Deli for smoked meat sandwiches and La Banquise for poutine. For fine dining, Toqué! offers an innovative menu with seasonal Quebecois flavors, while Joe Beef combines French techniques with local ingredients. Fairmount Bagel and St-Viateur Bagel are essential stops for freshly baked, wood-fired bagels. For more exotic tastes, Candide focuses on local and sustainable ingredients, and Damas offers high-end Syrian cuisine. Montreal offers a wide array of dining options to suit every palate.\", metadata={'source': 'data\\\\montreal.pdf (summary)', 'page': 1, 'doc_id': '8ce6d14a-45f3-559f-a679-09f830fd5199'})]"
      ]
     },
     "execution_count": 19,
     "metadata": {},
     "output_type": "execute_result"
    }
   ],
   "source": [
    "text_summaries_with_metadata"
   ]
  },
  {
   "cell_type": "code",
   "execution_count": 17,
   "id": "a9317f1e",
   "metadata": {},
   "outputs": [],
   "source": [
    "idx = index_with_ids(text_summaries_with_metadata, record_manager, vectorstore, cleanup=\"incremental\",\n",
    "                                          source_id_key=\"source\")\n",
    "# Generate the list of (doc_id, document) tuples from the documents\n",
    "doc_id_document_tuples = [(doc.metadata[\"doc_id\"], doc) for doc in documents]\n",
    "\n",
    "# Pass the list of tuples to retriever.docstore.mset\n",
    "retriever.docstore.mset(doc_id_document_tuples)"
   ]
  },
  {
   "cell_type": "code",
   "execution_count": 18,
   "id": "4be2dc9d",
   "metadata": {},
   "outputs": [
    {
     "data": {
      "text/plain": [
       "{'status': 'success',\n",
       " 'ids': [{'key': '5505cf9b-a554-5490-8f02-350e72e79393', 'operation': 'INS'},\n",
       "  {'key': 'd70df60f-f993-5fdf-8c43-c506e8171c89', 'operation': 'SKIP'}],\n",
       " 'results': [{'num_added': 1,\n",
       "   'num_updated': 0,\n",
       "   'num_skipped': 1,\n",
       "   'num_deleted': 1}]}"
      ]
     },
     "execution_count": 18,
     "metadata": {},
     "output_type": "execute_result"
    }
   ],
   "source": [
    "idx"
   ]
  },
  {
   "cell_type": "code",
   "execution_count": null,
   "id": "018e8474",
   "metadata": {},
   "outputs": [],
   "source": [
    "# retriever.vectorstore.add_documents(summary_docs)\n",
    "# retriever.docstore.mset(list(zip(doc_ids, documents)))"
   ]
  },
  {
   "cell_type": "markdown",
   "id": "7bbf4b08",
   "metadata": {},
   "source": [
    "### Generating Hypothetical Questions for Each Parent Chunk"
   ]
  },
  {
   "cell_type": "code",
   "execution_count": 20,
   "id": "8ec26a03",
   "metadata": {},
   "outputs": [],
   "source": [
    "functions = [\n",
    "    {\n",
    "        \"name\": \"hypothetical_questions\",\n",
    "        \"description\": \"Generate hypothetical questions\",\n",
    "        \"parameters\": {\n",
    "            \"type\": \"object\",\n",
    "            \"properties\": {\n",
    "                \"questions\": {\n",
    "                    \"type\": \"array\",\n",
    "                    \"items\": {\"type\": \"string\"},\n",
    "                },\n",
    "            },\n",
    "            \"required\": [\"questions\"],\n",
    "        },\n",
    "    }\n",
    "]"
   ]
  },
  {
   "cell_type": "code",
   "execution_count": 21,
   "id": "14e853c2",
   "metadata": {},
   "outputs": [],
   "source": [
    "from langchain.output_parsers.openai_functions import JsonKeyOutputFunctionsParser\n",
    "\n",
    "question_chain = (\n",
    "    {\"doc\": lambda x: x.page_content}\n",
    "    # Only asking for 5 hypothetical questions, but this could be adjusted\n",
    "    | ChatPromptTemplate.from_template(\n",
    "        \"\"\"Generate a list of exactly 5 hypothetical questions that the below document could be used to answer:\\n\\n{doc}\n",
    "        seperate each question with a comma (,)\n",
    "        \"\"\"\n",
    "    )\n",
    "    | ChatOpenAI(max_retries=0, model=\"gpt-4o\").bind(\n",
    "        functions=functions, function_call={\"name\": \"hypothetical_questions\"}\n",
    "    )\n",
    "    | JsonKeyOutputFunctionsParser(key_name=\"questions\")\n",
    ")"
   ]
  },
  {
   "cell_type": "code",
   "execution_count": 22,
   "id": "82a1ebd7",
   "metadata": {},
   "outputs": [],
   "source": [
    "hypothetical_questions = question_chain.batch(documents, {\"max_concurrency\": 5})"
   ]
  },
  {
   "cell_type": "code",
   "execution_count": 23,
   "id": "b62a398c",
   "metadata": {},
   "outputs": [
    {
     "data": {
      "text/plain": [
       "[['What historical attractions can be found in Old Montreal?',\n",
       "  'Where can I experience local and international art in Montreal?',\n",
       "  'What are some outdoor activities available at Mont Royal?',\n",
       "  'What makes the Mile End district a unique place to visit?',\n",
       "  'How can visitors navigate Montreal during the winter?'],\n",
       " ['What is a must-visit deli in Montreal for smoked meat sandwiches?',\n",
       "  'Where can one find the best poutine in Montreal?',\n",
       "  'Which restaurant in Montreal is known for its innovative fine dining menu?',\n",
       "  'What bistro in Montreal combines French culinary techniques with local ingredients?',\n",
       "  'Where can you find freshly baked, wood-fired bagels in Montreal?']]"
      ]
     },
     "execution_count": 23,
     "metadata": {},
     "output_type": "execute_result"
    }
   ],
   "source": [
    "hypothetical_questions"
   ]
  },
  {
   "cell_type": "code",
   "execution_count": null,
   "id": "59fdcaf0",
   "metadata": {},
   "outputs": [],
   "source": [
    "# from langchain.schema.document import Document\n",
    "\n",
    "# hypothetical_docs = []\n",
    "# for question_list, doc_id in zip(hypothetical_questions, doc_ids):\n",
    "#     for question in question_list:\n",
    "#         # Define your new metadata here\n",
    "#         new_metadata = {\"doc_id\": doc_id}\n",
    "\n",
    "#         # Create a new Document instance for each question\n",
    "#         # The question itself is the page_content\n",
    "#         doc = Document(page_content=question, metadata=new_metadata)\n",
    "\n",
    "#         # Add the Document to the list\n",
    "#         hypothetical_docs.append(doc)"
   ]
  },
  {
   "cell_type": "code",
   "execution_count": 24,
   "id": "b732079c",
   "metadata": {},
   "outputs": [
    {
     "data": {
      "text/plain": [
       "[Document(page_content=\"Things to Do in Montreal \\nMontréal is a vibrant city with a rich cultural heritage and an array of activities to suit every \\ninterest. \\nOld Montreal  \\nDebute  your exploration in the historic Old Montreal, where cobblestone streets and 17th-\\ncentury architecture transport you back in time. Visit the stunning Notre-Dame Basilica, \\nrenowned for its intricate interior and dramatic light shows. \\nMontreal Museum of Fine Arts  \\nFor a taste of the local arts scene, head to the Montreal Museum of Fine Arts, home to an \\nimpressive collection of Canadian and international works. \\nMont Royal  \\nIf you're an outdoor enthusiast, Mont Royal o Ưers scenic hiking trails and panoramic views \\nof the city. In the summer, the park becomes a hub for picnics and outdoor events, \\nincluding the popular Tam-Tams festival, where locals gather to enjoy music and dance. \\nMile End District   \\nFor a modern twist, the Mile End district is a must-visit. Known for its bohemian vibe, this \\narea is packed with indie boutiques, art galleries, and eclectic cafes. Don’t miss the vibrant \\nstreet art that adorns many of the buildings here. \\nMontreal’s Underground City   \\nIf you're visiting in the winter, Montreal’s Underground City is a unique experience, \\nproviding over 30 kilometers of pedestrian pathways that connect shops, hotels, and metro \\nstations, all sheltered from the cold. \\nFestivals   \\nAdditionally, the city is famous for its festivals, such as the Montreal International Jazz \\nFestival and Just for Laughs, which attract visitors from around the globe.\", metadata={'source': 'data\\\\montreal.pdf', 'page': 0, 'doc_id': '44840752-2ea4-51bd-9ece-fd7cf31454b9'}),\n",
       " Document(page_content='Dining in Montreal \\nMontreal’s culinary scene is just as diverse and exciting as its activities. \\nSchwartz’s Deli  \\nStart your gastronomic journey with a visit to Schwartz’s Deli, an iconic establishment \\nknown for its mouth-watering smoked meat sandwiches. \\nLa Banquise  \\nFor a true taste of Montreal, try poutine – a delectable dish of fries topped with cheese \\ncurds and gravy – available at La Banquise, a local favorite that o Ưers numerous variations \\nof this classic comfort food. \\nToqué!  \\nFor ﬁne dining, Toqué! is a standout choice, o Ưering an innovative menu that highlights \\nseasonal ingredients and Quebecois ﬂavors. \\nJoe Beef  \\nFoodies will also appreciate Joe Beef, a beloved bistro that combines French culinary \\ntechniques with hearty, local ingredients. \\nFairmount Bagel and St-Viateur Bagel  \\nIf you’re in the mood for something sweet, a stop at Fairmount Bagel or St-Viateur Bagel is \\nessential. These bagel shops have been serving freshly baked, wood-ﬁred bagels for \\ndecades and are a staple of Montreal’s food culture. \\nCandide and Damas  \\nIn the mood for something more exotic? Try Candide, which serves contemporary dishes \\nwith a focus on local and sustainable ingredients, or Damas, a high-end Syrian restaurant \\nknown for its exquisite Middle Eastern cuisine. \\nWith its diverse array of dining options, Montreal truly o Ưers something for every palate.', metadata={'source': 'data\\\\montreal.pdf', 'page': 1, 'doc_id': '8ce6d14a-45f3-559f-a679-09f830fd5199'})]"
      ]
     },
     "execution_count": 24,
     "metadata": {},
     "output_type": "execute_result"
    }
   ],
   "source": [
    "documents"
   ]
  },
  {
   "cell_type": "code",
   "execution_count": 25,
   "id": "f4486d7c",
   "metadata": {},
   "outputs": [],
   "source": [
    "from langchain.schema.document import Document\n",
    "\n",
    "hypothetical_docs = []\n",
    "for original_doc, question_list in zip(documents, hypothetical_questions):\n",
    "    doc_id = original_doc.metadata[\"doc_id\"]\n",
    "    page = original_doc.metadata.get(\"page\")\n",
    "    source = original_doc.metadata.get(\"source\")\n",
    "\n",
    "    for question in question_list:\n",
    "        # Define your new metadata here with modified source\n",
    "        new_metadata = {\n",
    "            \"doc_id\": doc_id,\n",
    "            \"page\": page,\n",
    "            \"source\": f\"{source}(question)\"  # Add the suffix to the source\n",
    "        }\n",
    "\n",
    "        # Create a new Document instance for each question\n",
    "        # The question itself is the page_content\n",
    "        doc = Document(page_content=question, metadata=new_metadata)\n",
    "\n",
    "        # Add the Document to the list\n",
    "        hypothetical_docs.append(doc)"
   ]
  },
  {
   "cell_type": "code",
   "execution_count": 26,
   "id": "524590ce",
   "metadata": {},
   "outputs": [
    {
     "data": {
      "text/plain": [
       "[Document(page_content='What historical attractions can be found in Old Montreal?', metadata={'doc_id': '44840752-2ea4-51bd-9ece-fd7cf31454b9', 'page': 0, 'source': 'data\\\\montreal.pdf(question)'}),\n",
       " Document(page_content='Where can I experience local and international art in Montreal?', metadata={'doc_id': '44840752-2ea4-51bd-9ece-fd7cf31454b9', 'page': 0, 'source': 'data\\\\montreal.pdf(question)'}),\n",
       " Document(page_content='What are some outdoor activities available at Mont Royal?', metadata={'doc_id': '44840752-2ea4-51bd-9ece-fd7cf31454b9', 'page': 0, 'source': 'data\\\\montreal.pdf(question)'}),\n",
       " Document(page_content='What makes the Mile End district a unique place to visit?', metadata={'doc_id': '44840752-2ea4-51bd-9ece-fd7cf31454b9', 'page': 0, 'source': 'data\\\\montreal.pdf(question)'}),\n",
       " Document(page_content='How can visitors navigate Montreal during the winter?', metadata={'doc_id': '44840752-2ea4-51bd-9ece-fd7cf31454b9', 'page': 0, 'source': 'data\\\\montreal.pdf(question)'}),\n",
       " Document(page_content='What is a must-visit deli in Montreal for smoked meat sandwiches?', metadata={'doc_id': '8ce6d14a-45f3-559f-a679-09f830fd5199', 'page': 1, 'source': 'data\\\\montreal.pdf(question)'}),\n",
       " Document(page_content='Where can one find the best poutine in Montreal?', metadata={'doc_id': '8ce6d14a-45f3-559f-a679-09f830fd5199', 'page': 1, 'source': 'data\\\\montreal.pdf(question)'}),\n",
       " Document(page_content='Which restaurant in Montreal is known for its innovative fine dining menu?', metadata={'doc_id': '8ce6d14a-45f3-559f-a679-09f830fd5199', 'page': 1, 'source': 'data\\\\montreal.pdf(question)'}),\n",
       " Document(page_content='What bistro in Montreal combines French culinary techniques with local ingredients?', metadata={'doc_id': '8ce6d14a-45f3-559f-a679-09f830fd5199', 'page': 1, 'source': 'data\\\\montreal.pdf(question)'}),\n",
       " Document(page_content='Where can you find freshly baked, wood-fired bagels in Montreal?', metadata={'doc_id': '8ce6d14a-45f3-559f-a679-09f830fd5199', 'page': 1, 'source': 'data\\\\montreal.pdf(question)'})]"
      ]
     },
     "execution_count": 26,
     "metadata": {},
     "output_type": "execute_result"
    }
   ],
   "source": [
    "hypothetical_docs"
   ]
  },
  {
   "cell_type": "code",
   "execution_count": 27,
   "id": "fc293300",
   "metadata": {},
   "outputs": [],
   "source": [
    "idx = index_with_ids(hypothetical_docs, record_manager, vectorstore, cleanup=\"incremental\",\n",
    "                                          source_id_key=\"source\")\n",
    "\n",
    "# Generate the list of (doc_id, document) tuples from the documents\n",
    "doc_id_document_tuples = [(doc.metadata[\"doc_id\"], doc) for doc in documents]\n",
    "\n",
    "# Pass the list of tuples to retriever.docstore.mset\n",
    "retriever.docstore.mset(doc_id_document_tuples)"
   ]
  },
  {
   "cell_type": "code",
   "execution_count": 28,
   "id": "41ce2538",
   "metadata": {},
   "outputs": [
    {
     "data": {
      "text/plain": [
       "{'status': 'success',\n",
       " 'ids': [{'key': 'ba823492-3737-5d19-861c-ef04d1f1476f', 'operation': 'INS'},\n",
       "  {'key': 'f1452626-b31d-530b-8721-0059d4493aff', 'operation': 'INS'},\n",
       "  {'key': '9b06b25b-cfaa-505d-8121-d5aeeaa95197', 'operation': 'INS'},\n",
       "  {'key': '6b0b99f5-c96f-56f2-bc62-c94053ccece6', 'operation': 'INS'},\n",
       "  {'key': '33c6f2f0-6ea8-55b4-86ad-08c97f87c238', 'operation': 'INS'},\n",
       "  {'key': '61019741-a6dc-50d2-83ff-7572eefa155e', 'operation': 'INS'},\n",
       "  {'key': '9332c277-dca9-5651-9f34-d98fc79ea0b7', 'operation': 'INS'},\n",
       "  {'key': 'ab064cce-ac7f-5198-b69e-3b6712c30dbc', 'operation': 'INS'},\n",
       "  {'key': '70c6744a-0c85-54f6-9691-9f79be122ab2', 'operation': 'INS'},\n",
       "  {'key': '3b4ea6cc-6a21-5750-a87a-35510f887e43', 'operation': 'INS'}],\n",
       " 'results': [{'num_added': 10,\n",
       "   'num_updated': 0,\n",
       "   'num_skipped': 0,\n",
       "   'num_deleted': 0}]}"
      ]
     },
     "execution_count": 28,
     "metadata": {},
     "output_type": "execute_result"
    }
   ],
   "source": [
    "idx"
   ]
  },
  {
   "cell_type": "code",
   "execution_count": null,
   "id": "12247d7e",
   "metadata": {},
   "outputs": [],
   "source": [
    "# retriever.vectorstore.add_documents(hypothetical_docs)\n",
    "# retriever.docstore.mset(list(zip(doc_ids, documents)))"
   ]
  },
  {
   "cell_type": "code",
   "execution_count": 29,
   "id": "520296eb",
   "metadata": {},
   "outputs": [
    {
     "data": {
      "text/plain": [
       "[Document(page_content='Which restaurant in Montreal is known for its innovative fine dining menu?', metadata={'page': 1, 'doc_id': '8ce6d14a-45f3-559f-a679-09f830fd5199', 'source': 'data\\\\montreal.pdf(question)'}),\n",
       " Document(page_content='What bistro in Montreal combines French culinary techniques with local ingredients?', metadata={'page': 1, 'doc_id': '8ce6d14a-45f3-559f-a679-09f830fd5199', 'source': 'data\\\\montreal.pdf(question)'}),\n",
       " Document(page_content='decades and are a staple of Montreal’s food culture. \\nCandide and Damas  \\nIn the mood for something more exotic? Try Candide, which serves contemporary dishes \\nwith a focus on local and sustainable ingredients, or Damas, a high-end Syrian restaurant \\nknown for its exquisite Middle Eastern cuisine. \\nWith its diverse array of dining options, Montreal truly o Ưers something for every palate.', metadata={'page': 1, 'doc_id': '8ce6d14a-45f3-559f-a679-09f830fd5199', 'source': 'data\\\\montreal.pdf(smaller chunk)'}),\n",
       " Document(page_content=\"Montreal's culinary scene is diverse and exciting, featuring iconic establishments like Schwartz’s Deli for smoked meat sandwiches and La Banquise for poutine. For fine dining, Toqué! offers an innovative menu with seasonal Quebecois flavors, while Joe Beef combines French techniques with local ingredients. Fairmount Bagel and St-Viateur Bagel are essential stops for freshly baked, wood-fired bagels. For more exotic tastes, Candide focuses on local and sustainable ingredients, and Damas offers high-end Syrian cuisine. Montreal offers a wide array of dining options to suit every palate.\", metadata={'page': 1, 'doc_id': '8ce6d14a-45f3-559f-a679-09f830fd5199', 'source': 'data\\\\montreal.pdf (summary)'})]"
      ]
     },
     "execution_count": 29,
     "metadata": {},
     "output_type": "execute_result"
    }
   ],
   "source": [
    "retriever.vectorstore.similarity_search(\"What dining options are available in Montreal for those interested in Middle Eastern cuisine?\")"
   ]
  },
  {
   "cell_type": "code",
   "execution_count": 30,
   "id": "4b99ab71",
   "metadata": {},
   "outputs": [
    {
     "data": {
      "text/plain": [
       "[Document(page_content='Dining in Montreal \\nMontreal’s culinary scene is just as diverse and exciting as its activities. \\nSchwartz’s Deli  \\nStart your gastronomic journey with a visit to Schwartz’s Deli, an iconic establishment \\nknown for its mouth-watering smoked meat sandwiches. \\nLa Banquise  \\nFor a true taste of Montreal, try poutine – a delectable dish of fries topped with cheese \\ncurds and gravy – available at La Banquise, a local favorite that o Ưers numerous variations \\nof this classic comfort food. \\nToqué!  \\nFor ﬁne dining, Toqué! is a standout choice, o Ưering an innovative menu that highlights \\nseasonal ingredients and Quebecois ﬂavors. \\nJoe Beef  \\nFoodies will also appreciate Joe Beef, a beloved bistro that combines French culinary \\ntechniques with hearty, local ingredients. \\nFairmount Bagel and St-Viateur Bagel  \\nIf you’re in the mood for something sweet, a stop at Fairmount Bagel or St-Viateur Bagel is \\nessential. These bagel shops have been serving freshly baked, wood-ﬁred bagels for \\ndecades and are a staple of Montreal’s food culture. \\nCandide and Damas  \\nIn the mood for something more exotic? Try Candide, which serves contemporary dishes \\nwith a focus on local and sustainable ingredients, or Damas, a high-end Syrian restaurant \\nknown for its exquisite Middle Eastern cuisine. \\nWith its diverse array of dining options, Montreal truly o Ưers something for every palate.', metadata={'source': 'data\\\\montreal.pdf', 'page': 1, 'doc_id': '8ce6d14a-45f3-559f-a679-09f830fd5199'})]"
      ]
     },
     "execution_count": 30,
     "metadata": {},
     "output_type": "execute_result"
    }
   ],
   "source": [
    "retriever.invoke(\"What dining options are available in Montreal for those interested in Middle Eastern cuisine?\")"
   ]
  },
  {
   "cell_type": "markdown",
   "id": "abbdbcd4",
   "metadata": {},
   "source": [
    "### Creating an LCEL Chain and Testing the Retriever"
   ]
  },
  {
   "cell_type": "code",
   "execution_count": 31,
   "id": "47d2764b",
   "metadata": {},
   "outputs": [],
   "source": [
    "from langchain_core.runnables import RunnablePassthrough\n",
    "from langchain_core.output_parsers import StrOutputParser\n",
    "from langchain_core.prompts import ChatPromptTemplate\n",
    "from langchain_openai import ChatOpenAI\n",
    "\n",
    "# Prompt template\n",
    "template = \"\"\"Answer the question based only on the following context:\n",
    "{context}\n",
    "Question: {question}\n",
    "\"\"\"\n",
    "prompt = ChatPromptTemplate.from_template(template)\n",
    "\n",
    "# LLM\n",
    "model = ChatOpenAI(temperature=0, model=\"gpt-4o\")\n",
    "\n",
    "# RAG pipeline\n",
    "chain = (\n",
    "    {\"context\": retriever, \"question\": RunnablePassthrough()}\n",
    "    | prompt\n",
    "    | model\n",
    "    | StrOutputParser()\n",
    ")"
   ]
  },
  {
   "cell_type": "code",
   "execution_count": 32,
   "id": "2798ab6c",
   "metadata": {},
   "outputs": [
    {
     "data": {
      "text/plain": [
       "'For those interested in Middle Eastern cuisine, Damas is a high-end Syrian restaurant in Montreal known for its exquisite Middle Eastern cuisine.'"
      ]
     },
     "execution_count": 32,
     "metadata": {},
     "output_type": "execute_result"
    }
   ],
   "source": [
    "chain.invoke(\"What dining options are available in Montreal for those interested in Middle Eastern cuisine?\")"
   ]
  },
  {
   "cell_type": "code",
   "execution_count": 33,
   "id": "9cb9b4df",
   "metadata": {},
   "outputs": [
    {
     "data": {
      "text/plain": [
       "'You can find the best smoked meat sandwiches in Montreal at Schwartz’s Deli.'"
      ]
     },
     "execution_count": 33,
     "metadata": {},
     "output_type": "execute_result"
    }
   ],
   "source": [
    "chain.invoke(\"Where can I find the best smoked meat sandwiches in Montreal?\")"
   ]
  },
  {
   "cell_type": "code",
   "execution_count": 34,
   "id": "9f2f0da4",
   "metadata": {},
   "outputs": [
    {
     "data": {
      "text/plain": [
       "\"Montreal offers a diverse array of dining options that cater to various tastes. Some standout places include:\\n\\n- **Schwartz’s Deli** for mouth-watering smoked meat sandwiches.\\n- **La Banquise** for a true taste of Montreal's poutine.\\n- **Toqué!** for fine dining with an innovative menu.\\n- **Joe Beef** for a combination of French culinary techniques and local ingredients.\\n- **Fairmount Bagel and St-Viateur Bagel** for freshly baked, wood-fired bagels.\\n- **Candide** for contemporary dishes with a focus on local and sustainable ingredients.\\n- **Damas** for exquisite Middle Eastern cuisine.\\n\\nThese establishments are highly recommended for experiencing the best food in Montreal.\""
      ]
     },
     "execution_count": 34,
     "metadata": {},
     "output_type": "execute_result"
    }
   ],
   "source": [
    "chain.invoke(\"Where can I find the best food in Montreal?\")"
   ]
  }
 ],
 "metadata": {
  "kernelspec": {
   "display_name": ".venv",
   "language": "python",
   "name": "python3"
  },
  "language_info": {
   "codemirror_mode": {
    "name": "ipython",
    "version": 3
   },
   "file_extension": ".py",
   "mimetype": "text/x-python",
   "name": "python",
   "nbconvert_exporter": "python",
   "pygments_lexer": "ipython3",
   "version": "3.11.7"
  }
 },
 "nbformat": 4,
 "nbformat_minor": 5
}
