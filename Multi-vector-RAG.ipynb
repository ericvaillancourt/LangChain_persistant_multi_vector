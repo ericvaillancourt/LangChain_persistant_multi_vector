{
 "cells": [
  {
   "cell_type": "code",
   "execution_count": 1,
   "id": "0d0a71bd",
   "metadata": {},
   "outputs": [
    {
     "data": {
      "text/plain": [
       "True"
      ]
     },
     "execution_count": 1,
     "metadata": {},
     "output_type": "execute_result"
    }
   ],
   "source": [
    "from dotenv import load_dotenv\n",
    "import os\n",
    "\n",
    "# Load environment variables\n",
    "load_dotenv()"
   ]
  },
  {
   "cell_type": "markdown",
   "id": "f45d302a",
   "metadata": {},
   "source": [
    "### Understanding InMemory Store in LangChain"
   ]
  },
  {
   "cell_type": "code",
   "execution_count": 2,
   "id": "28880508",
   "metadata": {},
   "outputs": [
    {
     "data": {
      "text/plain": [
       "[Document(page_content=\"Things to Do in Montreal \\nMontreal is a vibrant city with a rich cultural heritage and an array of \\nactivities to suit every interest. Start your exploration in the historic \\nOld Montreal, where cobblestone streets and 17th-century \\narchitecture transport you back in time. Visit the stunning Notre-\\nDame Basilica, renowned for its intricate interior and dramatic light \\nshows. For a taste of the local arts scene, head to the Montreal \\nMuseum of Fine Arts, home to an impressive collection of Canadian \\nand international works. If you're an outdoor enthusiast, Mont Royal \\noƯers scenic hiking trails and panoramic views of the city. In the \\nsummer, the park becomes a hub for picnics and outdoor events, \\nincluding the popular Tam-Tams festival, where locals gather to \\nenjoy music and dance. \\nFor a modern twist, the Mile End district is a must-visit. Known for its \\nbohemian vibe, this area is packed with indie boutiques, art \\ngalleries, and eclectic cafes. Don’t miss the vibrant street art that \\nadorns many of the buildings here. If you're visiting in the winter, \\nMontreal’s Underground City is a unique experience, providing over \\n30 kilometers of pedestrian pathways that connect shops, hotels, \\nand metro stations, all sheltered from the cold. Additionally, the city \\nis famous for its festivals, such as the Montreal International Jazz \\nFestival and Just for Laughs, which attract visitors from around the \\nglobe.\", metadata={'source': 'data\\\\montreal.pdf', 'page': 0}),\n",
       " Document(page_content='Dining in Montreal \\nMontreal’s culinary scene is just as diverse and exciting as its \\nactivities. Start your gastronomic journey with a visit to Schwartz’s \\nDeli, an iconic establishment known for its mouth-watering smoked \\nmeat sandwiches. For a true taste of Montreal, try poutine – a \\ndelectable dish of fries topped with cheese curds and gravy – \\navailable at La Banquise, a local favorite that o Ưers numerous \\nvariations of this classic comfort food. \\nFor ﬁne dining, Toqué! is a standout choice, o Ưering an innovative \\nmenu that highlights seasonal ingredients and Quebecois ﬂavors. \\nFoodies will also appreciate Joe Beef, a beloved bistro that \\ncombines French culinary techniques with hearty, local ingredients. \\nIf you’re in the mood for something sweet, a stop at Fairmount Bagel \\nor St-Viateur Bagel is essential. These bagel shops have been \\nserving freshly baked, wood-ﬁred bagels for decades and are a \\nstaple of Montreal’s food culture. \\nIn the mood for something more exotic? Try Candide, which serves \\ncontemporary dishes with a focus on local and sustainable \\ningredients, or Damas, a high-end Syrian restaurant known for its \\nexquisite Middle Eastern cuisine. With its diverse array of dining \\noptions, Montreal truly o Ưers something for every palate.', metadata={'source': 'data\\\\montreal.pdf', 'page': 1})]"
      ]
     },
     "execution_count": 2,
     "metadata": {},
     "output_type": "execute_result"
    }
   ],
   "source": [
    "from langchain.document_loaders import PyPDFLoader\n",
    "from langchain.text_splitter import RecursiveCharacterTextSplitter\n",
    "\n",
    "file_path = r\"data\\montreal.pdf\"\n",
    "\n",
    "loader = PyPDFLoader(file_path=file_path)\n",
    "\n",
    "# by default, we will split by pages with no text_splitter\n",
    "documents = loader.load_and_split(text_splitter=None)\n",
    "documents"
   ]
  },
  {
   "cell_type": "markdown",
   "id": "ad2d7f0f",
   "metadata": {},
   "source": [
    "### Unsing the InMemoryStore"
   ]
  },
  {
   "cell_type": "code",
   "execution_count": 3,
   "id": "bb4e299e",
   "metadata": {},
   "outputs": [
    {
     "data": {
      "text/plain": [
       "MultiVectorRetriever(vectorstore=<langchain_community.vectorstores.chroma.Chroma object at 0x000001B94DE63B90>, docstore=<langchain_core.stores.InMemoryBaseStore object at 0x000001B950A7CB10>)"
      ]
     },
     "execution_count": 3,
     "metadata": {},
     "output_type": "execute_result"
    }
   ],
   "source": [
    "from langchain.vectorstores import Chroma\n",
    "from langchain.storage import InMemoryStore\n",
    "from langchain_openai import OpenAIEmbeddings\n",
    "from langchain.retrievers.multi_vector import MultiVectorRetriever\n",
    "from database import COLLECTION_NAME\n",
    "\n",
    "vectorstore = Chroma(\n",
    "    collection_name=COLLECTION_NAME,\n",
    "    embedding_function=OpenAIEmbeddings()\n",
    ")\n",
    "\n",
    "store = InMemoryStore()\n",
    "\n",
    "id_key = \"doc_id\"\n",
    "\n",
    "retriever = MultiVectorRetriever(\n",
    "    vectorstore=vectorstore, \n",
    "    docstore=store, \n",
    "    id_key=id_key,\n",
    ")\n",
    "\n",
    "retriever"
   ]
  },
  {
   "cell_type": "markdown",
   "id": "b41e5a7f",
   "metadata": {},
   "source": [
    "### Unsing the PostgresByteStore"
   ]
  },
  {
   "cell_type": "code",
   "execution_count": null,
   "id": "833c1001",
   "metadata": {},
   "outputs": [],
   "source": [
    "from langchain.vectorstores import Chroma\n",
    "from langchain.storage import InMemoryStore\n",
    "from langchain_openai import OpenAIEmbeddings\n",
    "from langchain.retrievers.multi_vector import MultiVectorRetriever\n",
    "from langchain_postgres import PGVector\n",
    "from database import COLLECTION_NAME, CONNECTION_STRING\n",
    "from store import PostgresByteStore\n",
    "from langchain_postgres import PostgresSaver, PickleCheckpointSerializer\n",
    "\n",
    "embeddings = OpenAIEmbeddings()\n",
    "vectorstore = PGVector(\n",
    "    embeddings=embeddings,\n",
    "    collection_name=COLLECTION_NAME,\n",
    "    connection=CONNECTION_STRING,\n",
    "    use_jsonb=True,\n",
    ")\n",
    "\n",
    "store = PostgresByteStore(CONNECTION_STRING, COLLECTION_NAME)\n",
    "id_key = \"doc_id\"\n",
    "\n",
    "retriever = MultiVectorRetriever(\n",
    "    vectorstore=vectorstore, \n",
    "    docstore=store, \n",
    "    id_key=id_key,\n",
    ")\n",
    "\n",
    "retriever"
   ]
  },
  {
   "cell_type": "code",
   "execution_count": 4,
   "id": "90c6b671",
   "metadata": {},
   "outputs": [
    {
     "data": {
      "text/plain": [
       "['3b849434-11f2-45db-b2fb-121ffe77f990',\n",
       " '3d68a4c4-1cd9-4995-9701-0b6d57576566']"
      ]
     },
     "execution_count": 4,
     "metadata": {},
     "output_type": "execute_result"
    }
   ],
   "source": [
    "import uuid\n",
    "\n",
    "doc_ids = [str(uuid.uuid4()) for _ in documents]\n",
    "doc_ids"
   ]
  },
  {
   "cell_type": "markdown",
   "id": "0d8b8904",
   "metadata": {},
   "source": []
  },
  {
   "cell_type": "code",
   "execution_count": 5,
   "id": "2e3c48fd",
   "metadata": {},
   "outputs": [
    {
     "data": {
      "text/plain": [
       "[Document(page_content='Things to Do in Montreal \\nMontreal is a vibrant city with a rich cultural heritage and an array of \\nactivities to suit every interest. Start your exploration in the historic \\nOld Montreal, where cobblestone streets and 17th-century \\narchitecture transport you back in time. Visit the stunning Notre-\\nDame Basilica, renowned for its intricate interior and dramatic light', metadata={'source': 'data\\\\montreal.pdf', 'page': 0, 'doc_id': '3b849434-11f2-45db-b2fb-121ffe77f990'}),\n",
       " Document(page_content=\"Old Montreal, where cobblestone streets and 17th-century \\narchitecture transport you back in time. Visit the stunning Notre-\\nDame Basilica, renowned for its intricate interior and dramatic light \\nshows. For a taste of the local arts scene, head to the Montreal \\nMuseum of Fine Arts, home to an impressive collection of Canadian \\nand international works. If you're an outdoor enthusiast, Mont Royal\", metadata={'source': 'data\\\\montreal.pdf', 'page': 0, 'doc_id': '3b849434-11f2-45db-b2fb-121ffe77f990'}),\n",
       " Document(page_content=\"Museum of Fine Arts, home to an impressive collection of Canadian \\nand international works. If you're an outdoor enthusiast, Mont Royal \\noƯers scenic hiking trails and panoramic views of the city. In the \\nsummer, the park becomes a hub for picnics and outdoor events, \\nincluding the popular Tam-Tams festival, where locals gather to \\nenjoy music and dance.\", metadata={'source': 'data\\\\montreal.pdf', 'page': 0, 'doc_id': '3b849434-11f2-45db-b2fb-121ffe77f990'}),\n",
       " Document(page_content='summer, the park becomes a hub for picnics and outdoor events, \\nincluding the popular Tam-Tams festival, where locals gather to \\nenjoy music and dance. \\nFor a modern twist, the Mile End district is a must-visit. Known for its \\nbohemian vibe, this area is packed with indie boutiques, art \\ngalleries, and eclectic cafes. Don’t miss the vibrant street art that', metadata={'source': 'data\\\\montreal.pdf', 'page': 0, 'doc_id': '3b849434-11f2-45db-b2fb-121ffe77f990'}),\n",
       " Document(page_content=\"bohemian vibe, this area is packed with indie boutiques, art \\ngalleries, and eclectic cafes. Don’t miss the vibrant street art that \\nadorns many of the buildings here. If you're visiting in the winter, \\nMontreal’s Underground City is a unique experience, providing over \\n30 kilometers of pedestrian pathways that connect shops, hotels,\", metadata={'source': 'data\\\\montreal.pdf', 'page': 0, 'doc_id': '3b849434-11f2-45db-b2fb-121ffe77f990'}),\n",
       " Document(page_content='Montreal’s Underground City is a unique experience, providing over \\n30 kilometers of pedestrian pathways that connect shops, hotels, \\nand metro stations, all sheltered from the cold. Additionally, the city \\nis famous for its festivals, such as the Montreal International Jazz \\nFestival and Just for Laughs, which attract visitors from around the \\nglobe.', metadata={'source': 'data\\\\montreal.pdf', 'page': 0, 'doc_id': '3b849434-11f2-45db-b2fb-121ffe77f990'}),\n",
       " Document(page_content='Dining in Montreal \\nMontreal’s culinary scene is just as diverse and exciting as its \\nactivities. Start your gastronomic journey with a visit to Schwartz’s \\nDeli, an iconic establishment known for its mouth-watering smoked \\nmeat sandwiches. For a true taste of Montreal, try poutine – a \\ndelectable dish of fries topped with cheese curds and gravy –', metadata={'source': 'data\\\\montreal.pdf', 'page': 1, 'doc_id': '3d68a4c4-1cd9-4995-9701-0b6d57576566'}),\n",
       " Document(page_content='Deli, an iconic establishment known for its mouth-watering smoked \\nmeat sandwiches. For a true taste of Montreal, try poutine – a \\ndelectable dish of fries topped with cheese curds and gravy – \\navailable at La Banquise, a local favorite that o Ưers numerous \\nvariations of this classic comfort food. \\nFor ﬁne dining, Toqué! is a standout choice, o Ưering an innovative', metadata={'source': 'data\\\\montreal.pdf', 'page': 1, 'doc_id': '3d68a4c4-1cd9-4995-9701-0b6d57576566'}),\n",
       " Document(page_content='available at La Banquise, a local favorite that o Ưers numerous \\nvariations of this classic comfort food. \\nFor ﬁne dining, Toqué! is a standout choice, o Ưering an innovative \\nmenu that highlights seasonal ingredients and Quebecois ﬂavors. \\nFoodies will also appreciate Joe Beef, a beloved bistro that \\ncombines French culinary techniques with hearty, local ingredients.', metadata={'source': 'data\\\\montreal.pdf', 'page': 1, 'doc_id': '3d68a4c4-1cd9-4995-9701-0b6d57576566'}),\n",
       " Document(page_content='menu that highlights seasonal ingredients and Quebecois ﬂavors. \\nFoodies will also appreciate Joe Beef, a beloved bistro that \\ncombines French culinary techniques with hearty, local ingredients. \\nIf you’re in the mood for something sweet, a stop at Fairmount Bagel \\nor St-Viateur Bagel is essential. These bagel shops have been \\nserving freshly baked, wood-ﬁred bagels for decades and are a', metadata={'source': 'data\\\\montreal.pdf', 'page': 1, 'doc_id': '3d68a4c4-1cd9-4995-9701-0b6d57576566'}),\n",
       " Document(page_content='If you’re in the mood for something sweet, a stop at Fairmount Bagel \\nor St-Viateur Bagel is essential. These bagel shops have been \\nserving freshly baked, wood-ﬁred bagels for decades and are a \\nstaple of Montreal’s food culture. \\nIn the mood for something more exotic? Try Candide, which serves \\ncontemporary dishes with a focus on local and sustainable', metadata={'source': 'data\\\\montreal.pdf', 'page': 1, 'doc_id': '3d68a4c4-1cd9-4995-9701-0b6d57576566'}),\n",
       " Document(page_content='staple of Montreal’s food culture. \\nIn the mood for something more exotic? Try Candide, which serves \\ncontemporary dishes with a focus on local and sustainable \\ningredients, or Damas, a high-end Syrian restaurant known for its \\nexquisite Middle Eastern cuisine. With its diverse array of dining \\noptions, Montreal truly o Ưers something for every palate.', metadata={'source': 'data\\\\montreal.pdf', 'page': 1, 'doc_id': '3d68a4c4-1cd9-4995-9701-0b6d57576566'})]"
      ]
     },
     "execution_count": 5,
     "metadata": {},
     "output_type": "execute_result"
    }
   ],
   "source": [
    "child_text_splitter = RecursiveCharacterTextSplitter(chunk_size=400)\n",
    "\n",
    "all_sub_docs = []\n",
    "for i, doc in enumerate(documents):\n",
    "    doc_id = doc_ids[i]\n",
    "    sub_docs = child_text_splitter.split_documents([doc])\n",
    "    for sub_doc in sub_docs:\n",
    "        sub_doc.metadata[id_key] = doc_id\n",
    "    all_sub_docs.extend(sub_docs)\n",
    "    \n",
    "all_sub_docs"
   ]
  },
  {
   "cell_type": "code",
   "execution_count": 6,
   "id": "ee6b126c",
   "metadata": {},
   "outputs": [],
   "source": [
    "retriever.vectorstore.add_documents(all_sub_docs)\n",
    "retriever.docstore.mset(list(zip(doc_ids, documents)))"
   ]
  },
  {
   "cell_type": "markdown",
   "id": "939ff698",
   "metadata": {},
   "source": [
    "### Testing the retriever"
   ]
  },
  {
   "cell_type": "code",
   "execution_count": 23,
   "id": "de19051b",
   "metadata": {
    "scrolled": false
   },
   "outputs": [
    {
     "data": {
      "text/plain": [
       "[Document(page_content='Montreal is a lively city with a rich cultural heritage and a variety of activities. Visitors can explore the historic Old Montreal, visit the Notre-Dame Basilica, and enjoy the Montreal Museum of Fine Arts. Outdoor enthusiasts can hike Mont Royal, which offers scenic trails and city views. The Mile End district is known for its bohemian atmosphere, indie boutiques, art galleries, and vibrant street art. The Underground City offers a unique experience with over 30 kilometers of pedestrian pathways connecting various establishments. The city is also known for its festivals, including the Montreal International Jazz Festival and Just for Laughs.', metadata={'doc_id': '3b849434-11f2-45db-b2fb-121ffe77f990', 'page': 0}),\n",
       " Document(page_content='Things to Do in Montreal \\nMontreal is a vibrant city with a rich cultural heritage and an array of \\nactivities to suit every interest. Start your exploration in the historic \\nOld Montreal, where cobblestone streets and 17th-century \\narchitecture transport you back in time. Visit the stunning Notre-\\nDame Basilica, renowned for its intricate interior and dramatic light', metadata={'doc_id': '3b849434-11f2-45db-b2fb-121ffe77f990', 'page': 0, 'source': 'data\\\\montreal.pdf'}),\n",
       " Document(page_content=\"Old Montreal, where cobblestone streets and 17th-century \\narchitecture transport you back in time. Visit the stunning Notre-\\nDame Basilica, renowned for its intricate interior and dramatic light \\nshows. For a taste of the local arts scene, head to the Montreal \\nMuseum of Fine Arts, home to an impressive collection of Canadian \\nand international works. If you're an outdoor enthusiast, Mont Royal\", metadata={'doc_id': '3b849434-11f2-45db-b2fb-121ffe77f990', 'page': 0, 'source': 'data\\\\montreal.pdf'}),\n",
       " Document(page_content='Montreal’s Underground City is a unique experience, providing over \\n30 kilometers of pedestrian pathways that connect shops, hotels, \\nand metro stations, all sheltered from the cold. Additionally, the city \\nis famous for its festivals, such as the Montreal International Jazz \\nFestival and Just for Laughs, which attract visitors from around the \\nglobe.', metadata={'doc_id': '3b849434-11f2-45db-b2fb-121ffe77f990', 'page': 0, 'source': 'data\\\\montreal.pdf'})]"
      ]
     },
     "execution_count": 23,
     "metadata": {},
     "output_type": "execute_result"
    }
   ],
   "source": [
    "retriever.vectorstore.similarity_search(\"What are some unique seasonal events in Montreal that a visitor should not miss?\")"
   ]
  },
  {
   "cell_type": "code",
   "execution_count": 24,
   "id": "f8436abc",
   "metadata": {
    "scrolled": false
   },
   "outputs": [
    {
     "data": {
      "text/plain": [
       "[Document(page_content=\"Things to Do in Montreal \\nMontreal is a vibrant city with a rich cultural heritage and an array of \\nactivities to suit every interest. Start your exploration in the historic \\nOld Montreal, where cobblestone streets and 17th-century \\narchitecture transport you back in time. Visit the stunning Notre-\\nDame Basilica, renowned for its intricate interior and dramatic light \\nshows. For a taste of the local arts scene, head to the Montreal \\nMuseum of Fine Arts, home to an impressive collection of Canadian \\nand international works. If you're an outdoor enthusiast, Mont Royal \\noƯers scenic hiking trails and panoramic views of the city. In the \\nsummer, the park becomes a hub for picnics and outdoor events, \\nincluding the popular Tam-Tams festival, where locals gather to \\nenjoy music and dance. \\nFor a modern twist, the Mile End district is a must-visit. Known for its \\nbohemian vibe, this area is packed with indie boutiques, art \\ngalleries, and eclectic cafes. Don’t miss the vibrant street art that \\nadorns many of the buildings here. If you're visiting in the winter, \\nMontreal’s Underground City is a unique experience, providing over \\n30 kilometers of pedestrian pathways that connect shops, hotels, \\nand metro stations, all sheltered from the cold. Additionally, the city \\nis famous for its festivals, such as the Montreal International Jazz \\nFestival and Just for Laughs, which attract visitors from around the \\nglobe.\", metadata={'source': 'data\\\\montreal.pdf', 'page': 0})]"
      ]
     },
     "execution_count": 24,
     "metadata": {},
     "output_type": "execute_result"
    }
   ],
   "source": [
    "retriever.invoke(\"What are some unique seasonal events in Montreal that a visitor should not miss?\")"
   ]
  },
  {
   "cell_type": "markdown",
   "id": "288b2e37",
   "metadata": {},
   "source": [
    "### Creating Summaries for Each Parent Chunk"
   ]
  },
  {
   "cell_type": "code",
   "execution_count": 71,
   "id": "4a0407a3",
   "metadata": {},
   "outputs": [],
   "source": [
    "prompt_text = \"\"\"You are an assistant tasked with summarizing text. \\\n",
    "Directly summarize the following text chunk: {element} \"\"\"\n",
    "prompt = ChatPromptTemplate.from_template(prompt_text)\n",
    "\n",
    "# Initialize the Language Model (LLM)\n",
    "model = ChatOpenAI(temperature=0, model=\"gpt-4\")\n",
    "\n",
    "# Define the summary chain\n",
    "summarize_chain = {\"element\": lambda x: x} | prompt | model | StrOutputParser()"
   ]
  },
  {
   "cell_type": "code",
   "execution_count": 18,
   "id": "14af703e",
   "metadata": {},
   "outputs": [],
   "source": [
    "parent_chunk = [i.page_content for i in documents]\n",
    "text_summaries = summarize_chain.batch(parent_chunk, {\"max_concurrency\": 5})"
   ]
  },
  {
   "cell_type": "code",
   "execution_count": 19,
   "id": "830970cb",
   "metadata": {},
   "outputs": [
    {
     "data": {
      "text/plain": [
       "['Montreal is a lively city with a rich cultural heritage and a variety of activities. Visitors can explore the historic Old Montreal, visit the Notre-Dame Basilica, and enjoy the Montreal Museum of Fine Arts. Outdoor enthusiasts can hike Mont Royal, which offers scenic trails and city views. The Mile End district is known for its bohemian atmosphere, indie boutiques, art galleries, and vibrant street art. The Underground City offers a unique experience with over 30 kilometers of pedestrian pathways connecting various establishments. The city is also known for its festivals, including the Montreal International Jazz Festival and Just for Laughs.',\n",
       " \"Montreal's diverse culinary scene includes iconic establishments like Schwartz’s Deli, known for smoked meat sandwiches, and La Banquise, famous for its poutine. For fine dining, Toqué! offers a menu with seasonal ingredients and Quebecois flavors, while Joe Beef combines French culinary techniques with local ingredients. Sweet lovers can visit Fairmount Bagel or St-Viateur Bagel, both serving freshly baked, wood-fired bagels. For more exotic tastes, Candide focuses on local and sustainable ingredients, and Damas offers high-end Syrian cuisine.\"]"
      ]
     },
     "execution_count": 19,
     "metadata": {},
     "output_type": "execute_result"
    }
   ],
   "source": [
    "text_summaries"
   ]
  },
  {
   "cell_type": "code",
   "execution_count": 20,
   "id": "85f8375d",
   "metadata": {},
   "outputs": [],
   "source": [
    "from langchain.schema.document import Document\n",
    "\n",
    "summary_docs = []\n",
    "for i, (summary, doc_id) in enumerate(zip(text_summaries, doc_ids)):\n",
    "    # Define your new metadata here\n",
    "    new_metadata = {\"page\": i, \"doc_id\": doc_id}\n",
    "\n",
    "    # Create a new Document instance for each summary\n",
    "    doc = Document(page_content=str(summary))\n",
    "\n",
    "    # Replace the metadata\n",
    "    doc.metadata = new_metadata\n",
    "\n",
    "    # Add the Document to the list\n",
    "    summary_docs.append(doc)\n"
   ]
  },
  {
   "cell_type": "code",
   "execution_count": 21,
   "id": "5ef3efb3",
   "metadata": {},
   "outputs": [
    {
     "data": {
      "text/plain": [
       "[Document(page_content='Montreal is a lively city with a rich cultural heritage and a variety of activities. Visitors can explore the historic Old Montreal, visit the Notre-Dame Basilica, and enjoy the Montreal Museum of Fine Arts. Outdoor enthusiasts can hike Mont Royal, which offers scenic trails and city views. The Mile End district is known for its bohemian atmosphere, indie boutiques, art galleries, and vibrant street art. The Underground City offers a unique experience with over 30 kilometers of pedestrian pathways connecting various establishments. The city is also known for its festivals, including the Montreal International Jazz Festival and Just for Laughs.', metadata={'page': 0, 'doc_id': '3b849434-11f2-45db-b2fb-121ffe77f990'}),\n",
       " Document(page_content=\"Montreal's diverse culinary scene includes iconic establishments like Schwartz’s Deli, known for smoked meat sandwiches, and La Banquise, famous for its poutine. For fine dining, Toqué! offers a menu with seasonal ingredients and Quebecois flavors, while Joe Beef combines French culinary techniques with local ingredients. Sweet lovers can visit Fairmount Bagel or St-Viateur Bagel, both serving freshly baked, wood-fired bagels. For more exotic tastes, Candide focuses on local and sustainable ingredients, and Damas offers high-end Syrian cuisine.\", metadata={'page': 1, 'doc_id': '3d68a4c4-1cd9-4995-9701-0b6d57576566'})]"
      ]
     },
     "execution_count": 21,
     "metadata": {},
     "output_type": "execute_result"
    }
   ],
   "source": [
    "summary_docs"
   ]
  },
  {
   "cell_type": "code",
   "execution_count": 22,
   "id": "018e8474",
   "metadata": {},
   "outputs": [],
   "source": [
    "retriever.vectorstore.add_documents(summary_docs)\n",
    "retriever.docstore.mset(list(zip(doc_ids, documents)))"
   ]
  },
  {
   "cell_type": "markdown",
   "id": "7bbf4b08",
   "metadata": {},
   "source": []
  },
  {
   "cell_type": "code",
   "execution_count": 41,
   "id": "8ec26a03",
   "metadata": {},
   "outputs": [],
   "source": [
    "functions = [\n",
    "    {\n",
    "        \"name\": \"hypothetical_questions\",\n",
    "        \"description\": \"Generate hypothetical questions\",\n",
    "        \"parameters\": {\n",
    "            \"type\": \"object\",\n",
    "            \"properties\": {\n",
    "                \"questions\": {\n",
    "                    \"type\": \"array\",\n",
    "                    \"items\": {\"type\": \"string\"},\n",
    "                },\n",
    "            },\n",
    "            \"required\": [\"questions\"],\n",
    "        },\n",
    "    }\n",
    "]"
   ]
  },
  {
   "cell_type": "code",
   "execution_count": 45,
   "id": "14e853c2",
   "metadata": {},
   "outputs": [],
   "source": [
    "from langchain.output_parsers.openai_functions import JsonKeyOutputFunctionsParser\n",
    "\n",
    "question_chain = (\n",
    "    {\"doc\": lambda x: x.page_content}\n",
    "    # Only asking for 5 hypothetical questions, but this could be adjusted\n",
    "    | ChatPromptTemplate.from_template(\n",
    "        \"\"\"Generate a list of exactly 5 hypothetical questions that the below document could be used to answer:\\n\\n{doc}\n",
    "        seperate each question with a comma (,)\n",
    "        \"\"\"\n",
    "    )\n",
    "    | ChatOpenAI(max_retries=0, model=\"gpt-4\").bind(\n",
    "        functions=functions, function_call={\"name\": \"hypothetical_questions\"}\n",
    "    )\n",
    "    | JsonKeyOutputFunctionsParser(key_name=\"questions\")\n",
    ")"
   ]
  },
  {
   "cell_type": "code",
   "execution_count": 48,
   "id": "82a1ebd7",
   "metadata": {},
   "outputs": [],
   "source": [
    "hypothetical_questions = question_chain.batch(documents, {\"max_concurrency\": 5})"
   ]
  },
  {
   "cell_type": "code",
   "execution_count": 47,
   "id": "b62a398c",
   "metadata": {},
   "outputs": [
    {
     "data": {
      "text/plain": [
       "[['What can I expect to see in Old Montreal?',\n",
       "  'What kind of art can be found at the Montreal Museum of Fine Arts?',\n",
       "  'What activities are available at Mont Royal during the summer?',\n",
       "  'What makes the Mile End district unique?',\n",
       "  'What is the purpose of Montreal’s Underground City?'],\n",
       " ['What are some iconic food establishments in Montreal?',\n",
       "  \"Where can one find a true taste of Montreal's local food - poutine?\",\n",
       "  'What are some fine dining options in Montreal that highlight Quebecois flavors?',\n",
       "  'Which restaurants in Montreal are known for their focus on local and sustainable ingredients?',\n",
       "  'Which bagel shops in Montreal have been serving freshly baked, wood-fired bagels for decades?']]"
      ]
     },
     "execution_count": 47,
     "metadata": {},
     "output_type": "execute_result"
    }
   ],
   "source": [
    "hypothetical_questions"
   ]
  },
  {
   "cell_type": "code",
   "execution_count": 64,
   "id": "59fdcaf0",
   "metadata": {},
   "outputs": [],
   "source": [
    "from langchain.schema.document import Document\n",
    "\n",
    "hypothetical_docs = []\n",
    "for question_list, doc_id in zip(hypothetical_questions, doc_ids):\n",
    "    for question in question_list:\n",
    "        # Define your new metadata here\n",
    "        new_metadata = {\"doc_id\": doc_id}\n",
    "\n",
    "        # Create a new Document instance for each question\n",
    "        # The question itself is the page_content\n",
    "        doc = Document(page_content=question, metadata=new_metadata)\n",
    "\n",
    "        # Add the Document to the list\n",
    "        hypothetical_docs.append(doc)"
   ]
  },
  {
   "cell_type": "code",
   "execution_count": 65,
   "id": "524590ce",
   "metadata": {},
   "outputs": [
    {
     "data": {
      "text/plain": [
       "[Document(page_content='What are some of the activities you can do in Old Montreal?', metadata={'doc_id': '3b849434-11f2-45db-b2fb-121ffe77f990'}),\n",
       " Document(page_content='What is the Montreal Museum of Fine Arts known for?', metadata={'doc_id': '3b849434-11f2-45db-b2fb-121ffe77f990'}),\n",
       " Document(page_content='What outdoor activities are available in Mont Royal during the summer?', metadata={'doc_id': '3b849434-11f2-45db-b2fb-121ffe77f990'}),\n",
       " Document(page_content='What are some of the unique features of the Mile End district in Montreal?', metadata={'doc_id': '3b849434-11f2-45db-b2fb-121ffe77f990'}),\n",
       " Document(page_content='What facilities can be accessed through Montreal’s Underground City during winter?', metadata={'doc_id': '3b849434-11f2-45db-b2fb-121ffe77f990'}),\n",
       " Document(page_content='What are some iconic food establishments in Montreal?', metadata={'doc_id': '3d68a4c4-1cd9-4995-9701-0b6d57576566'}),\n",
       " Document(page_content='Where can I get the best poutine in Montreal?', metadata={'doc_id': '3d68a4c4-1cd9-4995-9701-0b6d57576566'}),\n",
       " Document(page_content='What are some fine dining options in Montreal?', metadata={'doc_id': '3d68a4c4-1cd9-4995-9701-0b6d57576566'}),\n",
       " Document(page_content='Where can I find freshly baked, wood-fired bagels in Montreal?', metadata={'doc_id': '3d68a4c4-1cd9-4995-9701-0b6d57576566'}),\n",
       " Document(page_content='What dining options are available in Montreal for those interested in Middle Eastern cuisine?', metadata={'doc_id': '3d68a4c4-1cd9-4995-9701-0b6d57576566'})]"
      ]
     },
     "execution_count": 65,
     "metadata": {},
     "output_type": "execute_result"
    }
   ],
   "source": [
    "hypothetical_docs"
   ]
  },
  {
   "cell_type": "code",
   "execution_count": 66,
   "id": "12247d7e",
   "metadata": {},
   "outputs": [],
   "source": [
    "retriever.vectorstore.add_documents(hypothetical_docs)\n",
    "retriever.docstore.mset(list(zip(doc_ids, documents)))"
   ]
  },
  {
   "cell_type": "code",
   "execution_count": 67,
   "id": "520296eb",
   "metadata": {},
   "outputs": [
    {
     "data": {
      "text/plain": [
       "[Document(page_content='What dining options are available in Montreal for those interested in Middle Eastern cuisine?', metadata={'doc_id': '3d68a4c4-1cd9-4995-9701-0b6d57576566'}),\n",
       " Document(page_content='What are some fine dining options in Montreal?', metadata={'doc_id': '3d68a4c4-1cd9-4995-9701-0b6d57576566'}),\n",
       " Document(page_content='staple of Montreal’s food culture. \\nIn the mood for something more exotic? Try Candide, which serves \\ncontemporary dishes with a focus on local and sustainable \\ningredients, or Damas, a high-end Syrian restaurant known for its \\nexquisite Middle Eastern cuisine. With its diverse array of dining \\noptions, Montreal truly o Ưers something for every palate.', metadata={'doc_id': '3d68a4c4-1cd9-4995-9701-0b6d57576566', 'page': 1, 'source': 'data\\\\montreal.pdf'}),\n",
       " Document(page_content='What are some iconic food establishments in Montreal?', metadata={'doc_id': '3d68a4c4-1cd9-4995-9701-0b6d57576566'})]"
      ]
     },
     "execution_count": 67,
     "metadata": {},
     "output_type": "execute_result"
    }
   ],
   "source": [
    "retriever.vectorstore.similarity_search(\"What dining options are available in Montreal for those interested in Middle Eastern cuisine?\")"
   ]
  },
  {
   "cell_type": "code",
   "execution_count": 68,
   "id": "4b99ab71",
   "metadata": {},
   "outputs": [
    {
     "data": {
      "text/plain": [
       "[Document(page_content='Dining in Montreal \\nMontreal’s culinary scene is just as diverse and exciting as its \\nactivities. Start your gastronomic journey with a visit to Schwartz’s \\nDeli, an iconic establishment known for its mouth-watering smoked \\nmeat sandwiches. For a true taste of Montreal, try poutine – a \\ndelectable dish of fries topped with cheese curds and gravy – \\navailable at La Banquise, a local favorite that o Ưers numerous \\nvariations of this classic comfort food. \\nFor ﬁne dining, Toqué! is a standout choice, o Ưering an innovative \\nmenu that highlights seasonal ingredients and Quebecois ﬂavors. \\nFoodies will also appreciate Joe Beef, a beloved bistro that \\ncombines French culinary techniques with hearty, local ingredients. \\nIf you’re in the mood for something sweet, a stop at Fairmount Bagel \\nor St-Viateur Bagel is essential. These bagel shops have been \\nserving freshly baked, wood-ﬁred bagels for decades and are a \\nstaple of Montreal’s food culture. \\nIn the mood for something more exotic? Try Candide, which serves \\ncontemporary dishes with a focus on local and sustainable \\ningredients, or Damas, a high-end Syrian restaurant known for its \\nexquisite Middle Eastern cuisine. With its diverse array of dining \\noptions, Montreal truly o Ưers something for every palate.', metadata={'source': 'data\\\\montreal.pdf', 'page': 1})]"
      ]
     },
     "execution_count": 68,
     "metadata": {},
     "output_type": "execute_result"
    }
   ],
   "source": [
    "retriever.invoke(\"What dining options are available in Montreal for those interested in Middle Eastern cuisine?\")"
   ]
  },
  {
   "cell_type": "markdown",
   "id": "abbdbcd4",
   "metadata": {},
   "source": []
  },
  {
   "cell_type": "code",
   "execution_count": 69,
   "id": "47d2764b",
   "metadata": {},
   "outputs": [],
   "source": [
    "from langchain_core.runnables import RunnablePassthrough\n",
    "from langchain_core.output_parsers import StrOutputParser\n",
    "from langchain_core.prompts import ChatPromptTemplate\n",
    "from langchain_openai import ChatOpenAI\n",
    "\n",
    "# Prompt template\n",
    "template = \"\"\"Answer the question based only on the following context:\n",
    "{context}\n",
    "Question: {question}\n",
    "\"\"\"\n",
    "prompt = ChatPromptTemplate.from_template(template)\n",
    "\n",
    "# LLM\n",
    "model = ChatOpenAI(temperature=0, model=\"gpt-4\")\n",
    "\n",
    "# RAG pipeline\n",
    "chain = (\n",
    "    {\"context\": retriever, \"question\": RunnablePassthrough()}\n",
    "    | prompt\n",
    "    | model\n",
    "    | StrOutputParser()\n",
    ")"
   ]
  },
  {
   "cell_type": "code",
   "execution_count": 70,
   "id": "9cb9b4df",
   "metadata": {},
   "outputs": [
    {
     "data": {
      "text/plain": [
       "'Damas, a high-end Syrian restaurant known for its exquisite Middle Eastern cuisine, is a dining option available in Montreal for those interested in Middle Eastern cuisine.'"
      ]
     },
     "execution_count": 70,
     "metadata": {},
     "output_type": "execute_result"
    }
   ],
   "source": [
    "chain.invoke(\"What dining options are available in Montreal for those interested in Middle Eastern cuisine?\")"
   ]
  }
 ],
 "metadata": {
  "kernelspec": {
   "display_name": ".venv",
   "language": "python",
   "name": "python3"
  },
  "language_info": {
   "codemirror_mode": {
    "name": "ipython",
    "version": 3
   },
   "file_extension": ".py",
   "mimetype": "text/x-python",
   "name": "python",
   "nbconvert_exporter": "python",
   "pygments_lexer": "ipython3",
   "version": "3.11.7"
  }
 },
 "nbformat": 4,
 "nbformat_minor": 5
}
