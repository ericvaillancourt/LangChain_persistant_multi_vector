{
 "cells": [
  {
   "cell_type": "code",
   "execution_count": 8,
   "id": "0d0a71bd",
   "metadata": {},
   "outputs": [
    {
     "data": {
      "text/plain": [
       "True"
      ]
     },
     "execution_count": 8,
     "metadata": {},
     "output_type": "execute_result"
    }
   ],
   "source": [
    "from dotenv import load_dotenv\n",
    "import os\n",
    "\n",
    "# Load environment variables\n",
    "load_dotenv()"
   ]
  },
  {
   "cell_type": "markdown",
   "id": "f45d302a",
   "metadata": {},
   "source": [
    "### Understanding Stores in LangChain"
   ]
  },
  {
   "cell_type": "code",
   "execution_count": 14,
   "id": "28880508",
   "metadata": {},
   "outputs": [
    {
     "data": {
      "text/plain": [
       "[Document(page_content='Things to Do in Toronto \\nPage 1: Introduction \\nToronto, the capital of Ontario, is the largest city in Canada and a dynamic, cosmopolitan \\nhub. Known for its towering skyline, bustling waterfront, and numerous cultural attractions, \\nToronto o Ưers a wealth of experiences for every visitor. Very Nice!! \\nKey Attractions:  \\n\\uf0b7 CN Tower:  This iconic symbol of Toronto o Ưers panoramic views of the city. Don’t \\nmiss the glass ﬂoor and the revolving restaurant at the top. \\n\\uf0b7 Royal Ontario Museum (ROM):  Canada’s largest museum of world cultures and \\nnatural history is a must-visit. \\n\\uf0b7 Toronto Islands:  A group of small islands located just o Ư the city’s shore, o Ưering \\nbeautiful beaches, picnic spots, and bike rentals.', metadata={'source': 'data\\\\toronto.pdf', 'page': 0}),\n",
       " Document(page_content='Page 2: Cultural Experiences \\nToronto is a melting pot of cultures, and this is reﬂected in its neighborhoods and festivals. \\nNeighborhoods:  \\n\\uf0b7 Chinatown:  One of North America’s largest Chinatowns, known for its vibrant food \\nscene. \\n\\uf0b7 Kensington Market:  A bohemian neighborhood o Ưering vintage shops, eclectic \\nboutiques, and international food stalls. \\n\\uf0b7 Distillery District:  Known for its well-preserved Victorian Industrial architecture, it’s \\nnow home to boutiques, art galleries, and performance spaces. \\nFestivals:  \\n\\uf0b7 Caribana:  A festival celebrating Caribbean culture and traditions, held in summer. \\n\\uf0b7 Toronto International Film Festival (TIFF):  One of the most prestigious ﬁlm \\nfestivals in the world, held annually in September.', metadata={'source': 'data\\\\toronto.pdf', 'page': 1}),\n",
       " Document(page_content='Page 3: Outdoor Activities \\nToronto o Ưers numerous opportunities for outdoor activities.  \\n\\uf0b7 High Park:  Toronto’s largest public park featuring many hiking trails, sports facilities, \\na beautiful lakefront, a zoo, and several playgrounds. \\n\\uf0b7 Toronto Zoo:  Home to over 5,000 animals representing over 500 species. \\n\\uf0b7 Ripley’s Aquarium of Canada:  Located at the base of the CN Tower, this enormous \\naquarium is one of the city’s newest top attractions.', metadata={'source': 'data\\\\toronto.pdf', 'page': 2}),\n",
       " Document(page_content='Page 4: Food and Nightlife \\nToronto’s food scene is as diverse as its population. \\n\\uf0b7 St. Lawrence Market:  Named the world’s best food market by National Geographic \\nin 2012, this is a must-visit for foodies. \\n\\uf0b7 Nightlife:  Toronto has a vibrant nightlife with a plethora of bars, nightclubs, and live \\nmusic venues. The Entertainment District is known for its nightclubs and theaters. \\nIn conclusion, whether you’re a lover of art and culture, outdoor activities, food, or just \\nlooking to have a good time, Toronto has something for everyone.', metadata={'source': 'data\\\\toronto.pdf', 'page': 3})]"
      ]
     },
     "execution_count": 14,
     "metadata": {},
     "output_type": "execute_result"
    }
   ],
   "source": [
    "from langchain.document_loaders import PyPDFLoader\n",
    "from langchain.text_splitter import RecursiveCharacterTextSplitter\n",
    "\n",
    "file_path = r\"data\\montreal.pdf\"\n",
    "\n",
    "loader = PyPDFLoader(file_path=file_path)\n",
    "\n",
    "# by default, we will split by pages with no text_splitter\n",
    "documents = loader.load_and_split(text_splitter=None)\n",
    "documents"
   ]
  },
  {
   "cell_type": "markdown",
   "id": "b41e5a7f",
   "metadata": {},
   "source": [
    "### Unsing the PostgresByteStore"
   ]
  },
  {
   "cell_type": "code",
   "execution_count": 15,
   "id": "833c1001",
   "metadata": {},
   "outputs": [
    {
     "data": {
      "text/plain": [
       "MultiVectorRetriever(vectorstore=<langchain_postgres.vectorstores.PGVector object at 0x00000224D86E5510>, docstore=<utils.store.PostgresByteStore object at 0x00000224ACAE58D0>)"
      ]
     },
     "execution_count": 15,
     "metadata": {},
     "output_type": "execute_result"
    }
   ],
   "source": [
    "from langchain.vectorstores import Chroma\n",
    "from langchain.storage import InMemoryStore\n",
    "from langchain_openai import OpenAIEmbeddings\n",
    "from langchain.retrievers.multi_vector import MultiVectorRetriever\n",
    "from langchain_postgres import PGVector\n",
    "from database import COLLECTION_NAME, CONNECTION_STRING\n",
    "from utils.store import PostgresByteStore\n",
    "from langchain_postgres import PostgresSaver, PickleCheckpointSerializer\n",
    "from langchain.indexes import SQLRecordManager, index\n",
    "\n",
    "embeddings = OpenAIEmbeddings()\n",
    "vectorstore = PGVector(\n",
    "    embeddings=embeddings,\n",
    "    collection_name=COLLECTION_NAME,\n",
    "    connection=CONNECTION_STRING,\n",
    "    use_jsonb=True,\n",
    ")\n",
    "\n",
    "store = PostgresByteStore(CONNECTION_STRING, COLLECTION_NAME)\n",
    "id_key = \"doc_id\"\n",
    "\n",
    "retriever = MultiVectorRetriever(\n",
    "    vectorstore=vectorstore, \n",
    "    docstore=store, \n",
    "    id_key=id_key,\n",
    ")\n",
    "\n",
    "# define record manager\n",
    "namespace = f\"pgvector/{COLLECTION_NAME}\"\n",
    "record_manager = SQLRecordManager(\n",
    "    namespace, db_url=CONNECTION_STRING\n",
    ")\n",
    "record_manager.create_schema()\n",
    "\n",
    "retriever"
   ]
  },
  {
   "cell_type": "code",
   "execution_count": 16,
   "id": "90c6b671",
   "metadata": {},
   "outputs": [],
   "source": [
    "import uuid\n",
    "\n",
    "# Add a unique doc_id to each document's metadata\n",
    "for doc in documents:\n",
    "    doc.metadata[\"doc_id\"] = str(uuid.uuid4())"
   ]
  },
  {
   "cell_type": "code",
   "execution_count": null,
   "id": "9e59b583",
   "metadata": {},
   "outputs": [],
   "source": [
    "documents"
   ]
  },
  {
   "cell_type": "code",
   "execution_count": 17,
   "id": "2e3c48fd",
   "metadata": {},
   "outputs": [
    {
     "data": {
      "text/plain": [
       "[Document(page_content='Things to Do in Toronto \\nPage 1: Introduction \\nToronto, the capital of Ontario, is the largest city in Canada and a dynamic, cosmopolitan \\nhub. Known for its towering skyline, bustling waterfront, and numerous cultural attractions, \\nToronto o Ưers a wealth of experiences for every visitor. Very Nice!! \\nKey Attractions:', metadata={'source': 'data\\\\toronto.pdf', 'page': 0, 'doc_id': 'a59b179b-8fa9-49b2-97d7-a40f3cf06259'}),\n",
       " Document(page_content='hub. Known for its towering skyline, bustling waterfront, and numerous cultural attractions, \\nToronto o Ưers a wealth of experiences for every visitor. Very Nice!! \\nKey Attractions:  \\n\\uf0b7 CN Tower:  This iconic symbol of Toronto o Ưers panoramic views of the city. Don’t \\nmiss the glass ﬂoor and the revolving restaurant at the top.', metadata={'source': 'data\\\\toronto.pdf', 'page': 0, 'doc_id': 'a59b179b-8fa9-49b2-97d7-a40f3cf06259'}),\n",
       " Document(page_content='Key Attractions:  \\n\\uf0b7 CN Tower:  This iconic symbol of Toronto o Ưers panoramic views of the city. Don’t \\nmiss the glass ﬂoor and the revolving restaurant at the top. \\n\\uf0b7 Royal Ontario Museum (ROM):  Canada’s largest museum of world cultures and \\nnatural history is a must-visit. \\n\\uf0b7 Toronto Islands:  A group of small islands located just o Ư the city’s shore, o Ưering', metadata={'source': 'data\\\\toronto.pdf', 'page': 0, 'doc_id': 'a59b179b-8fa9-49b2-97d7-a40f3cf06259'}),\n",
       " Document(page_content='natural history is a must-visit. \\n\\uf0b7 Toronto Islands:  A group of small islands located just o Ư the city’s shore, o Ưering \\nbeautiful beaches, picnic spots, and bike rentals.', metadata={'source': 'data\\\\toronto.pdf', 'page': 0, 'doc_id': 'a59b179b-8fa9-49b2-97d7-a40f3cf06259'}),\n",
       " Document(page_content='Page 2: Cultural Experiences \\nToronto is a melting pot of cultures, and this is reﬂected in its neighborhoods and festivals. \\nNeighborhoods:  \\n\\uf0b7 Chinatown:  One of North America’s largest Chinatowns, known for its vibrant food \\nscene. \\n\\uf0b7 Kensington Market:  A bohemian neighborhood o Ưering vintage shops, eclectic \\nboutiques, and international food stalls.', metadata={'source': 'data\\\\toronto.pdf', 'page': 1, 'doc_id': '9b621725-953f-413b-b48d-7b9498d8b315'}),\n",
       " Document(page_content='scene. \\n\\uf0b7 Kensington Market:  A bohemian neighborhood o Ưering vintage shops, eclectic \\nboutiques, and international food stalls. \\n\\uf0b7 Distillery District:  Known for its well-preserved Victorian Industrial architecture, it’s \\nnow home to boutiques, art galleries, and performance spaces. \\nFestivals:  \\n\\uf0b7 Caribana:  A festival celebrating Caribbean culture and traditions, held in summer.', metadata={'source': 'data\\\\toronto.pdf', 'page': 1, 'doc_id': '9b621725-953f-413b-b48d-7b9498d8b315'}),\n",
       " Document(page_content='now home to boutiques, art galleries, and performance spaces. \\nFestivals:  \\n\\uf0b7 Caribana:  A festival celebrating Caribbean culture and traditions, held in summer. \\n\\uf0b7 Toronto International Film Festival (TIFF):  One of the most prestigious ﬁlm \\nfestivals in the world, held annually in September.', metadata={'source': 'data\\\\toronto.pdf', 'page': 1, 'doc_id': '9b621725-953f-413b-b48d-7b9498d8b315'}),\n",
       " Document(page_content='Page 3: Outdoor Activities \\nToronto o Ưers numerous opportunities for outdoor activities.  \\n\\uf0b7 High Park:  Toronto’s largest public park featuring many hiking trails, sports facilities, \\na beautiful lakefront, a zoo, and several playgrounds. \\n\\uf0b7 Toronto Zoo:  Home to over 5,000 animals representing over 500 species. \\n\\uf0b7 Ripley’s Aquarium of Canada:  Located at the base of the CN Tower, this enormous', metadata={'source': 'data\\\\toronto.pdf', 'page': 2, 'doc_id': 'eb15bb17-94b4-4312-b3dd-e86b65840db0'}),\n",
       " Document(page_content='\\uf0b7 Toronto Zoo:  Home to over 5,000 animals representing over 500 species. \\n\\uf0b7 Ripley’s Aquarium of Canada:  Located at the base of the CN Tower, this enormous \\naquarium is one of the city’s newest top attractions.', metadata={'source': 'data\\\\toronto.pdf', 'page': 2, 'doc_id': 'eb15bb17-94b4-4312-b3dd-e86b65840db0'}),\n",
       " Document(page_content='Page 4: Food and Nightlife \\nToronto’s food scene is as diverse as its population. \\n\\uf0b7 St. Lawrence Market:  Named the world’s best food market by National Geographic \\nin 2012, this is a must-visit for foodies. \\n\\uf0b7 Nightlife:  Toronto has a vibrant nightlife with a plethora of bars, nightclubs, and live \\nmusic venues. The Entertainment District is known for its nightclubs and theaters.', metadata={'source': 'data\\\\toronto.pdf', 'page': 3, 'doc_id': 'ee0c95a9-9653-487e-afb3-33467bbf4553'}),\n",
       " Document(page_content='\\uf0b7 Nightlife:  Toronto has a vibrant nightlife with a plethora of bars, nightclubs, and live \\nmusic venues. The Entertainment District is known for its nightclubs and theaters. \\nIn conclusion, whether you’re a lover of art and culture, outdoor activities, food, or just \\nlooking to have a good time, Toronto has something for everyone.', metadata={'source': 'data\\\\toronto.pdf', 'page': 3, 'doc_id': 'ee0c95a9-9653-487e-afb3-33467bbf4553'})]"
      ]
     },
     "execution_count": 17,
     "metadata": {},
     "output_type": "execute_result"
    }
   ],
   "source": [
    "from langchain.schema.document import Document\n",
    "from langchain.text_splitter import RecursiveCharacterTextSplitter\n",
    "\n",
    "# Assume documents is a list of Document objects with 'doc_id' in their metadata\n",
    "child_text_splitter = RecursiveCharacterTextSplitter(chunk_size=400)\n",
    "\n",
    "all_sub_docs = []\n",
    "for doc in documents:\n",
    "    doc_id = doc.metadata.get(\"doc_id\")  # Retrieve the doc_id from the document's metadata\n",
    "    sub_docs = child_text_splitter.split_documents([doc])\n",
    "    for sub_doc in sub_docs:\n",
    "        sub_doc.metadata[\"doc_id\"] = doc_id  # Assign the same doc_id to each sub-document\n",
    "    all_sub_docs.extend(sub_docs)\n",
    "\n",
    "# Display the resulting sub-documents\n",
    "all_sub_docs\n"
   ]
  },
  {
   "cell_type": "code",
   "execution_count": 18,
   "id": "132b537e",
   "metadata": {},
   "outputs": [],
   "source": [
    "idx = index(all_sub_docs, record_manager, vectorstore, cleanup=\"incremental\",\n",
    "                                          source_id_key=\"source\")\n",
    "# Generate the list of (doc_id, document) tuples from the documents\n",
    "doc_id_document_tuples = [(doc.metadata[\"doc_id\"], doc) for doc in documents]\n",
    "\n",
    "# Pass the list of tuples to retriever.docstore.mset\n",
    "retriever.docstore.mset(doc_id_document_tuples)"
   ]
  },
  {
   "cell_type": "code",
   "execution_count": 7,
   "id": "8a239bcb",
   "metadata": {},
   "outputs": [
    {
     "data": {
      "text/plain": [
       "{'num_added': 13, 'num_updated': 0, 'num_skipped': 0, 'num_deleted': 0}"
      ]
     },
     "execution_count": 7,
     "metadata": {},
     "output_type": "execute_result"
    }
   ],
   "source": [
    "idx"
   ]
  },
  {
   "cell_type": "markdown",
   "id": "288b2e37",
   "metadata": {},
   "source": [
    "### Creating Summaries for Each Parent Chunk"
   ]
  },
  {
   "cell_type": "code",
   "execution_count": null,
   "id": "4a0407a3",
   "metadata": {},
   "outputs": [],
   "source": [
    "from langchain_core.output_parsers import StrOutputParser\n",
    "from langchain_core.prompts import ChatPromptTemplate\n",
    "from langchain_openai import ChatOpenAI\n",
    "\n",
    "prompt_text = \"\"\"You are an assistant tasked with summarizing text. \\\n",
    "Directly summarize the following text chunk: {element} \"\"\"\n",
    "prompt = ChatPromptTemplate.from_template(prompt_text)\n",
    "\n",
    "# Initialize the Language Model (LLM)\n",
    "model = ChatOpenAI(temperature=0, model=\"gpt-4o\")\n",
    "\n",
    "# Define the summary chain\n",
    "summarize_chain = {\"element\": lambda x: x} | prompt | model | StrOutputParser()"
   ]
  },
  {
   "cell_type": "code",
   "execution_count": null,
   "id": "14af703e",
   "metadata": {},
   "outputs": [],
   "source": [
    "parent_chunk = [i.page_content for i in documents]\n",
    "text_summaries = summarize_chain.batch(parent_chunk, {\"max_concurrency\": 5})"
   ]
  },
  {
   "cell_type": "code",
   "execution_count": null,
   "id": "27962b60",
   "metadata": {},
   "outputs": [],
   "source": [
    "text_summaries"
   ]
  },
  {
   "cell_type": "code",
   "execution_count": null,
   "id": "7f14bd96",
   "metadata": {},
   "outputs": [],
   "source": [
    "from langchain.schema.document import Document\n",
    "import copy\n",
    "\n",
    "# Extract metadata from documents and create a deep copy of it\n",
    "metadata = [copy.deepcopy(i.metadata) for i in documents]\n",
    "\n",
    "# Create new Document objects with the summaries and the original metadata\n",
    "text_summaries_with_metadata = []\n",
    "for summary, meta in zip(text_summaries, metadata):\n",
    "    # Add the suffix \"(summary)\" to the source in metadata\n",
    "    if 'source' in meta:\n",
    "        meta['source'] += ' (summary)'\n",
    "    text_summaries_with_metadata.append(Document(page_content=summary, metadata=meta))\n"
   ]
  },
  {
   "cell_type": "code",
   "execution_count": null,
   "id": "830970cb",
   "metadata": {},
   "outputs": [],
   "source": [
    "text_summaries_with_metadata"
   ]
  },
  {
   "cell_type": "code",
   "execution_count": null,
   "id": "a9317f1e",
   "metadata": {},
   "outputs": [],
   "source": [
    "idx = index(text_summaries_with_metadata, record_manager, vectorstore, cleanup=\"incremental\",\n",
    "                                          source_id_key=\"source\")\n",
    "# Generate the list of (doc_id, document) tuples from the documents\n",
    "doc_id_document_tuples = [(doc.metadata[\"doc_id\"], doc) for doc in documents]\n",
    "\n",
    "# Pass the list of tuples to retriever.docstore.mset\n",
    "retriever.docstore.mset(doc_id_document_tuples)"
   ]
  },
  {
   "cell_type": "code",
   "execution_count": null,
   "id": "4be2dc9d",
   "metadata": {},
   "outputs": [],
   "source": [
    "idx"
   ]
  },
  {
   "cell_type": "markdown",
   "id": "7bbf4b08",
   "metadata": {},
   "source": [
    "### Generating Hypothetical Questions for Each Parent Chunk"
   ]
  },
  {
   "cell_type": "code",
   "execution_count": null,
   "id": "8ec26a03",
   "metadata": {},
   "outputs": [],
   "source": [
    "functions = [\n",
    "    {\n",
    "        \"name\": \"hypothetical_questions\",\n",
    "        \"description\": \"Generate hypothetical questions\",\n",
    "        \"parameters\": {\n",
    "            \"type\": \"object\",\n",
    "            \"properties\": {\n",
    "                \"questions\": {\n",
    "                    \"type\": \"array\",\n",
    "                    \"items\": {\"type\": \"string\"},\n",
    "                },\n",
    "            },\n",
    "            \"required\": [\"questions\"],\n",
    "        },\n",
    "    }\n",
    "]"
   ]
  },
  {
   "cell_type": "code",
   "execution_count": null,
   "id": "14e853c2",
   "metadata": {},
   "outputs": [],
   "source": [
    "from langchain.output_parsers.openai_functions import JsonKeyOutputFunctionsParser\n",
    "\n",
    "question_chain = (\n",
    "    {\"doc\": lambda x: x.page_content}\n",
    "    # Only asking for 5 hypothetical questions, but this could be adjusted\n",
    "    | ChatPromptTemplate.from_template(\n",
    "        \"\"\"Generate a list of exactly 5 hypothetical questions that the below document could be used to answer:\\n\\n{doc}\n",
    "        seperate each question with a comma (,)\n",
    "        \"\"\"\n",
    "    )\n",
    "    | ChatOpenAI(max_retries=0, model=\"gpt-4o\").bind(\n",
    "        functions=functions, function_call={\"name\": \"hypothetical_questions\"}\n",
    "    )\n",
    "    | JsonKeyOutputFunctionsParser(key_name=\"questions\")\n",
    ")"
   ]
  },
  {
   "cell_type": "code",
   "execution_count": null,
   "id": "82a1ebd7",
   "metadata": {},
   "outputs": [],
   "source": [
    "hypothetical_questions = question_chain.batch(documents, {\"max_concurrency\": 5})"
   ]
  },
  {
   "cell_type": "code",
   "execution_count": null,
   "id": "b62a398c",
   "metadata": {},
   "outputs": [],
   "source": [
    "hypothetical_questions"
   ]
  },
  {
   "cell_type": "code",
   "execution_count": null,
   "id": "59fdcaf0",
   "metadata": {},
   "outputs": [],
   "source": [
    "from langchain.schema.document import Document\n",
    "\n",
    "hypothetical_docs = []\n",
    "for original_doc, question_list in zip(documents, hypothetical_questions):\n",
    "    doc_id = original_doc.metadata[\"doc_id\"]\n",
    "    page = original_doc.metadata.get(\"page\")\n",
    "    source = original_doc.metadata.get(\"source\")\n",
    "\n",
    "    for question in question_list:\n",
    "        # Define your new metadata here with modified source\n",
    "        new_metadata = {\n",
    "            \"doc_id\": doc_id,\n",
    "            \"page\": page,\n",
    "            \"source\": f\"{source}(question)\"  # Add the suffix to the source\n",
    "        }\n",
    "\n",
    "        # Create a new Document instance for each question\n",
    "        # The question itself is the page_content\n",
    "        doc = Document(page_content=question, metadata=new_metadata)\n",
    "\n",
    "        # Add the Document to the list\n",
    "        hypothetical_docs.append(doc)"
   ]
  },
  {
   "cell_type": "code",
   "execution_count": null,
   "id": "524590ce",
   "metadata": {},
   "outputs": [],
   "source": [
    "hypothetical_docs"
   ]
  },
  {
   "cell_type": "code",
   "execution_count": null,
   "id": "fc293300",
   "metadata": {},
   "outputs": [],
   "source": [
    "idx = index(hypothetical_docs, record_manager, vectorstore, cleanup=\"incremental\",\n",
    "                                          source_id_key=\"source\")\n",
    "\n",
    "# Generate the list of (doc_id, document) tuples from the documents\n",
    "doc_id_document_tuples = [(doc.metadata[\"doc_id\"], doc) for doc in documents]\n",
    "\n",
    "# Pass the list of tuples to retriever.docstore.mset\n",
    "retriever.docstore.mset(doc_id_document_tuples)"
   ]
  },
  {
   "cell_type": "code",
   "execution_count": null,
   "id": "41ce2538",
   "metadata": {},
   "outputs": [],
   "source": [
    "idx"
   ]
  },
  {
   "cell_type": "code",
   "execution_count": null,
   "id": "520296eb",
   "metadata": {},
   "outputs": [],
   "source": [
    "retriever.vectorstore.similarity_search(\"What dining options are available in Montreal for those interested in Middle Eastern cuisine?\")"
   ]
  },
  {
   "cell_type": "code",
   "execution_count": null,
   "id": "4b99ab71",
   "metadata": {},
   "outputs": [],
   "source": [
    "retriever.invoke(\"What dining options are available in Montreal for those interested in Middle Eastern cuisine?\")"
   ]
  },
  {
   "cell_type": "markdown",
   "id": "abbdbcd4",
   "metadata": {},
   "source": [
    "### Creating an LCEL Chain and Testing the Retriever"
   ]
  },
  {
   "cell_type": "code",
   "execution_count": null,
   "id": "47d2764b",
   "metadata": {},
   "outputs": [],
   "source": [
    "from langchain_core.runnables import RunnablePassthrough\n",
    "from langchain_core.output_parsers import StrOutputParser\n",
    "from langchain_core.prompts import ChatPromptTemplate\n",
    "from langchain_openai import ChatOpenAI\n",
    "\n",
    "# Prompt template\n",
    "template = \"\"\"Answer the question based only on the following context:\n",
    "{context}\n",
    "Question: {question}\n",
    "\"\"\"\n",
    "prompt = ChatPromptTemplate.from_template(template)\n",
    "\n",
    "# LLM\n",
    "model = ChatOpenAI(temperature=0, model=\"gpt-4o\")\n",
    "\n",
    "# RAG pipeline\n",
    "chain = (\n",
    "    {\"context\": retriever, \"question\": RunnablePassthrough()}\n",
    "    | prompt\n",
    "    | model\n",
    "    | StrOutputParser()\n",
    ")"
   ]
  },
  {
   "cell_type": "code",
   "execution_count": null,
   "id": "2798ab6c",
   "metadata": {},
   "outputs": [],
   "source": [
    "chain.invoke(\"What dining options are available in Montreal for those interested in Middle Eastern cuisine?\")"
   ]
  },
  {
   "cell_type": "code",
   "execution_count": null,
   "id": "9cb9b4df",
   "metadata": {},
   "outputs": [],
   "source": [
    "chain.invoke(\"Where can I find the best smoked meat sandwiches in Montreal?\")"
   ]
  },
  {
   "cell_type": "code",
   "execution_count": null,
   "id": "9f2f0da4",
   "metadata": {},
   "outputs": [],
   "source": [
    "chain.invoke(\"Where can I find the best food in Montreal?\")"
   ]
  }
 ],
 "metadata": {
  "kernelspec": {
   "display_name": ".venv",
   "language": "python",
   "name": "python3"
  },
  "language_info": {
   "codemirror_mode": {
    "name": "ipython",
    "version": 3
   },
   "file_extension": ".py",
   "mimetype": "text/x-python",
   "name": "python",
   "nbconvert_exporter": "python",
   "pygments_lexer": "ipython3",
   "version": "3.11.7"
  }
 },
 "nbformat": 4,
 "nbformat_minor": 5
}
