{
 "cells": [
  {
   "cell_type": "code",
   "execution_count": 76,
   "id": "0d0a71bd",
   "metadata": {},
   "outputs": [
    {
     "data": {
      "text/plain": [
       "True"
      ]
     },
     "execution_count": 76,
     "metadata": {},
     "output_type": "execute_result"
    }
   ],
   "source": [
    "from dotenv import load_dotenv\n",
    "import os\n",
    "\n",
    "# Load environment variables\n",
    "load_dotenv()"
   ]
  },
  {
   "cell_type": "markdown",
   "id": "f45d302a",
   "metadata": {},
   "source": [
    "### Understanding Stores in LangChain"
   ]
  },
  {
   "cell_type": "code",
   "execution_count": 113,
   "id": "28880508",
   "metadata": {},
   "outputs": [
    {
     "data": {
      "text/plain": [
       "[Document(page_content=\"Things to Do in Montreal \\nMontreal is a vibrant city with a rich cultural heritage and an array of activities to suit every \\ninterest. \\nOld Montreal  \\nDebute  your exploration in the historic Old Montreal, where cobblestone streets and 17th-\\ncentury architecture transport you back in time. Visit the stunning Notre-Dame Basilica, \\nrenowned for its intricate interior and dramatic light shows. \\nMontreal Museum of Fine Arts  \\nFor a taste of the local arts scene, head to the Montreal Museum of Fine Arts, home to an \\nimpressive collection of Canadian and international works. \\nMont Royal  \\nIf you're an outdoor enthusiast, Mont Royal o Ưers scenic hiking trails and panoramic views \\nof the city. In the summer, the park becomes a hub for picnics and outdoor events, \\nincluding the popular Tam-Tams festival, where locals gather to enjoy music and dance. \\nMile End District   \\nFor a modern twist, the Mile End district is a must-visit. Known for its bohemian vibe, this \\narea is packed with indie boutiques, art galleries, and eclectic cafes. Don’t miss the vibrant \\nstreet art that adorns many of the buildings here. \\nMontreal’s Underground City   \\nIf you're visiting in the winter, Montreal’s Underground City is a unique experience, \\nproviding over 30 kilometers of pedestrian pathways that connect shops, hotels, and metro \\nstations, all sheltered from the cold. \\nFestivals   \\nAdditionally, the city is famous for its festivals, such as the Montreal International Jazz \\nFestival and Just for Laughs, which attract visitors from around the globe.\", metadata={'source': 'data\\\\montreal.pdf', 'page': 0}),\n",
       " Document(page_content='Dining in Montreal \\nMontreal’s culinary scene is just as diverse and exciting as its activities. \\nSchwartz’s Deli  \\nStart your gastronomic journey with a visit to Schwartz’s Deli, an iconic establishment \\nknown for its mouth-watering smoked meat sandwiches. \\nLa Banquise  \\nFor a true taste of Montreal, try poutine – a delectable dish of fries topped with cheese \\ncurds and gravy – available at La Banquise, a local favorite that o Ưers numerous variations \\nof this classic comfort food. \\nToqué!  \\nFor ﬁne dining, Toqué! is a standout choice, o Ưering an innovative menu that highlights \\nseasonal ingredients and Quebecois ﬂavors. \\nJoe Beef  \\nFoodies will also appreciate Joe Beef, a beloved bistro that combines French culinary \\ntechniques with hearty, local ingredients. \\nFairmount Bagel and St-Viateur Bagel  \\nIf you’re in the mood for something sweet, a stop at Fairmount Bagel or St-Viateur Bagel is \\nessential. These bagel shops have been serving freshly baked, wood-ﬁred bagels for \\ndecades and are a staple of Montreal’s food culture. \\nCandide and Damas  \\nIn the mood for something more exotic? Try Candide, which serves contemporary dishes \\nwith a focus on local and sustainable ingredients, or Damas, a high-end Syrian restaurant \\nknown for its exquisite Middle Eastern cuisine. \\nWith its diverse array of dining options, Montreal truly o Ưers something for every palate.', metadata={'source': 'data\\\\montreal.pdf', 'page': 1})]"
      ]
     },
     "execution_count": 113,
     "metadata": {},
     "output_type": "execute_result"
    }
   ],
   "source": [
    "from langchain.document_loaders import PyPDFLoader\n",
    "from langchain.text_splitter import RecursiveCharacterTextSplitter\n",
    "\n",
    "file_path = r\"data\\montreal.pdf\"\n",
    "\n",
    "loader = PyPDFLoader(file_path=file_path)\n",
    "\n",
    "# by default, we will split by pages with no text_splitter\n",
    "documents = loader.load_and_split(text_splitter=None)\n",
    "documents"
   ]
  },
  {
   "cell_type": "markdown",
   "id": "b41e5a7f",
   "metadata": {},
   "source": [
    "### Unsing the PostgresByteStore"
   ]
  },
  {
   "cell_type": "code",
   "execution_count": 78,
   "id": "833c1001",
   "metadata": {},
   "outputs": [
    {
     "data": {
      "text/plain": [
       "MultiVectorRetriever(vectorstore=<langchain_postgres.vectorstores.PGVector object at 0x000002E90CA66F10>, docstore=<utils.store.PostgresByteStore object at 0x000002E90CA65D90>)"
      ]
     },
     "execution_count": 78,
     "metadata": {},
     "output_type": "execute_result"
    }
   ],
   "source": [
    "from langchain.vectorstores import Chroma\n",
    "from langchain.storage import InMemoryStore\n",
    "from langchain_openai import OpenAIEmbeddings\n",
    "from langchain.retrievers.multi_vector import MultiVectorRetriever\n",
    "from langchain_postgres import PGVector\n",
    "from database import COLLECTION_NAME, CONNECTION_STRING\n",
    "from utils.store import PostgresByteStore\n",
    "from langchain_postgres import PostgresSaver, PickleCheckpointSerializer\n",
    "from langchain.indexes import SQLRecordManager, index\n",
    "\n",
    "embeddings = OpenAIEmbeddings()\n",
    "vectorstore = PGVector(\n",
    "    embeddings=embeddings,\n",
    "    collection_name=COLLECTION_NAME,\n",
    "    connection=CONNECTION_STRING,\n",
    "    use_jsonb=True,\n",
    ")\n",
    "\n",
    "store = PostgresByteStore(CONNECTION_STRING, COLLECTION_NAME)\n",
    "id_key = \"doc_id\"\n",
    "\n",
    "retriever = MultiVectorRetriever(\n",
    "    vectorstore=vectorstore, \n",
    "    docstore=store, \n",
    "    id_key=id_key,\n",
    ")\n",
    "\n",
    "# define record manager\n",
    "namespace = f\"pgvector/{COLLECTION_NAME}\"\n",
    "record_manager = SQLRecordManager(\n",
    "    namespace, db_url=CONNECTION_STRING\n",
    ")\n",
    "record_manager.create_schema()\n",
    "\n",
    "retriever"
   ]
  },
  {
   "cell_type": "code",
   "execution_count": 114,
   "id": "90c6b671",
   "metadata": {},
   "outputs": [],
   "source": [
    "import uuid\n",
    "\n",
    "# Add a unique doc_id to each document's metadata\n",
    "for doc in documents:\n",
    "    doc.metadata[\"doc_id\"] = str(uuid.uuid4())"
   ]
  },
  {
   "cell_type": "code",
   "execution_count": 115,
   "id": "9e59b583",
   "metadata": {},
   "outputs": [
    {
     "data": {
      "text/plain": [
       "[Document(page_content=\"Things to Do in Montreal \\nMontreal is a vibrant city with a rich cultural heritage and an array of activities to suit every \\ninterest. \\nOld Montreal  \\nDebute  your exploration in the historic Old Montreal, where cobblestone streets and 17th-\\ncentury architecture transport you back in time. Visit the stunning Notre-Dame Basilica, \\nrenowned for its intricate interior and dramatic light shows. \\nMontreal Museum of Fine Arts  \\nFor a taste of the local arts scene, head to the Montreal Museum of Fine Arts, home to an \\nimpressive collection of Canadian and international works. \\nMont Royal  \\nIf you're an outdoor enthusiast, Mont Royal o Ưers scenic hiking trails and panoramic views \\nof the city. In the summer, the park becomes a hub for picnics and outdoor events, \\nincluding the popular Tam-Tams festival, where locals gather to enjoy music and dance. \\nMile End District   \\nFor a modern twist, the Mile End district is a must-visit. Known for its bohemian vibe, this \\narea is packed with indie boutiques, art galleries, and eclectic cafes. Don’t miss the vibrant \\nstreet art that adorns many of the buildings here. \\nMontreal’s Underground City   \\nIf you're visiting in the winter, Montreal’s Underground City is a unique experience, \\nproviding over 30 kilometers of pedestrian pathways that connect shops, hotels, and metro \\nstations, all sheltered from the cold. \\nFestivals   \\nAdditionally, the city is famous for its festivals, such as the Montreal International Jazz \\nFestival and Just for Laughs, which attract visitors from around the globe.\", metadata={'source': 'data\\\\montreal.pdf', 'page': 0, 'doc_id': '20ce5d80-60c9-4173-b157-39db3ffa6ea4'}),\n",
       " Document(page_content='Dining in Montreal \\nMontreal’s culinary scene is just as diverse and exciting as its activities. \\nSchwartz’s Deli  \\nStart your gastronomic journey with a visit to Schwartz’s Deli, an iconic establishment \\nknown for its mouth-watering smoked meat sandwiches. \\nLa Banquise  \\nFor a true taste of Montreal, try poutine – a delectable dish of fries topped with cheese \\ncurds and gravy – available at La Banquise, a local favorite that o Ưers numerous variations \\nof this classic comfort food. \\nToqué!  \\nFor ﬁne dining, Toqué! is a standout choice, o Ưering an innovative menu that highlights \\nseasonal ingredients and Quebecois ﬂavors. \\nJoe Beef  \\nFoodies will also appreciate Joe Beef, a beloved bistro that combines French culinary \\ntechniques with hearty, local ingredients. \\nFairmount Bagel and St-Viateur Bagel  \\nIf you’re in the mood for something sweet, a stop at Fairmount Bagel or St-Viateur Bagel is \\nessential. These bagel shops have been serving freshly baked, wood-ﬁred bagels for \\ndecades and are a staple of Montreal’s food culture. \\nCandide and Damas  \\nIn the mood for something more exotic? Try Candide, which serves contemporary dishes \\nwith a focus on local and sustainable ingredients, or Damas, a high-end Syrian restaurant \\nknown for its exquisite Middle Eastern cuisine. \\nWith its diverse array of dining options, Montreal truly o Ưers something for every palate.', metadata={'source': 'data\\\\montreal.pdf', 'page': 1, 'doc_id': '52712c9e-1792-4efc-a281-0cad853628b0'})]"
      ]
     },
     "execution_count": 115,
     "metadata": {},
     "output_type": "execute_result"
    }
   ],
   "source": [
    "documents"
   ]
  },
  {
   "cell_type": "code",
   "execution_count": 116,
   "id": "2e3c48fd",
   "metadata": {},
   "outputs": [
    {
     "data": {
      "text/plain": [
       "[Document(page_content='Things to Do in Montreal \\nMontreal is a vibrant city with a rich cultural heritage and an array of activities to suit every \\ninterest. \\nOld Montreal  \\nDebute  your exploration in the historic Old Montreal, where cobblestone streets and 17th-\\ncentury architecture transport you back in time. Visit the stunning Notre-Dame Basilica, \\nrenowned for its intricate interior and dramatic light shows.', metadata={'source': 'data\\\\montreal.pdf', 'page': 0, 'doc_id': '20ce5d80-60c9-4173-b157-39db3ffa6ea4'}),\n",
       " Document(page_content='century architecture transport you back in time. Visit the stunning Notre-Dame Basilica, \\nrenowned for its intricate interior and dramatic light shows. \\nMontreal Museum of Fine Arts  \\nFor a taste of the local arts scene, head to the Montreal Museum of Fine Arts, home to an \\nimpressive collection of Canadian and international works. \\nMont Royal', metadata={'source': 'data\\\\montreal.pdf', 'page': 0, 'doc_id': '20ce5d80-60c9-4173-b157-39db3ffa6ea4'}),\n",
       " Document(page_content=\"Montreal Museum of Fine Arts  \\nFor a taste of the local arts scene, head to the Montreal Museum of Fine Arts, home to an \\nimpressive collection of Canadian and international works. \\nMont Royal  \\nIf you're an outdoor enthusiast, Mont Royal o Ưers scenic hiking trails and panoramic views \\nof the city. In the summer, the park becomes a hub for picnics and outdoor events,\", metadata={'source': 'data\\\\montreal.pdf', 'page': 0, 'doc_id': '20ce5d80-60c9-4173-b157-39db3ffa6ea4'}),\n",
       " Document(page_content=\"Mont Royal  \\nIf you're an outdoor enthusiast, Mont Royal o Ưers scenic hiking trails and panoramic views \\nof the city. In the summer, the park becomes a hub for picnics and outdoor events, \\nincluding the popular Tam-Tams festival, where locals gather to enjoy music and dance. \\nMile End District   \\nFor a modern twist, the Mile End district is a must-visit. Known for its bohemian vibe, this\", metadata={'source': 'data\\\\montreal.pdf', 'page': 0, 'doc_id': '20ce5d80-60c9-4173-b157-39db3ffa6ea4'}),\n",
       " Document(page_content=\"Mile End District   \\nFor a modern twist, the Mile End district is a must-visit. Known for its bohemian vibe, this \\narea is packed with indie boutiques, art galleries, and eclectic cafes. Don’t miss the vibrant \\nstreet art that adorns many of the buildings here. \\nMontreal’s Underground City   \\nIf you're visiting in the winter, Montreal’s Underground City is a unique experience,\", metadata={'source': 'data\\\\montreal.pdf', 'page': 0, 'doc_id': '20ce5d80-60c9-4173-b157-39db3ffa6ea4'}),\n",
       " Document(page_content=\"street art that adorns many of the buildings here. \\nMontreal’s Underground City   \\nIf you're visiting in the winter, Montreal’s Underground City is a unique experience, \\nproviding over 30 kilometers of pedestrian pathways that connect shops, hotels, and metro \\nstations, all sheltered from the cold. \\nFestivals\", metadata={'source': 'data\\\\montreal.pdf', 'page': 0, 'doc_id': '20ce5d80-60c9-4173-b157-39db3ffa6ea4'}),\n",
       " Document(page_content='providing over 30 kilometers of pedestrian pathways that connect shops, hotels, and metro \\nstations, all sheltered from the cold. \\nFestivals   \\nAdditionally, the city is famous for its festivals, such as the Montreal International Jazz \\nFestival and Just for Laughs, which attract visitors from around the globe.', metadata={'source': 'data\\\\montreal.pdf', 'page': 0, 'doc_id': '20ce5d80-60c9-4173-b157-39db3ffa6ea4'}),\n",
       " Document(page_content='Dining in Montreal \\nMontreal’s culinary scene is just as diverse and exciting as its activities. \\nSchwartz’s Deli  \\nStart your gastronomic journey with a visit to Schwartz’s Deli, an iconic establishment \\nknown for its mouth-watering smoked meat sandwiches. \\nLa Banquise  \\nFor a true taste of Montreal, try poutine – a delectable dish of fries topped with cheese', metadata={'source': 'data\\\\montreal.pdf', 'page': 1, 'doc_id': '52712c9e-1792-4efc-a281-0cad853628b0'}),\n",
       " Document(page_content='known for its mouth-watering smoked meat sandwiches. \\nLa Banquise  \\nFor a true taste of Montreal, try poutine – a delectable dish of fries topped with cheese \\ncurds and gravy – available at La Banquise, a local favorite that o Ưers numerous variations \\nof this classic comfort food. \\nToqué!  \\nFor ﬁne dining, Toqué! is a standout choice, o Ưering an innovative menu that highlights', metadata={'source': 'data\\\\montreal.pdf', 'page': 1, 'doc_id': '52712c9e-1792-4efc-a281-0cad853628b0'}),\n",
       " Document(page_content='of this classic comfort food. \\nToqué!  \\nFor ﬁne dining, Toqué! is a standout choice, o Ưering an innovative menu that highlights \\nseasonal ingredients and Quebecois ﬂavors. \\nJoe Beef  \\nFoodies will also appreciate Joe Beef, a beloved bistro that combines French culinary \\ntechniques with hearty, local ingredients. \\nFairmount Bagel and St-Viateur Bagel', metadata={'source': 'data\\\\montreal.pdf', 'page': 1, 'doc_id': '52712c9e-1792-4efc-a281-0cad853628b0'}),\n",
       " Document(page_content='Joe Beef  \\nFoodies will also appreciate Joe Beef, a beloved bistro that combines French culinary \\ntechniques with hearty, local ingredients. \\nFairmount Bagel and St-Viateur Bagel  \\nIf you’re in the mood for something sweet, a stop at Fairmount Bagel or St-Viateur Bagel is \\nessential. These bagel shops have been serving freshly baked, wood-ﬁred bagels for', metadata={'source': 'data\\\\montreal.pdf', 'page': 1, 'doc_id': '52712c9e-1792-4efc-a281-0cad853628b0'}),\n",
       " Document(page_content='If you’re in the mood for something sweet, a stop at Fairmount Bagel or St-Viateur Bagel is \\nessential. These bagel shops have been serving freshly baked, wood-ﬁred bagels for \\ndecades and are a staple of Montreal’s food culture. \\nCandide and Damas  \\nIn the mood for something more exotic? Try Candide, which serves contemporary dishes', metadata={'source': 'data\\\\montreal.pdf', 'page': 1, 'doc_id': '52712c9e-1792-4efc-a281-0cad853628b0'}),\n",
       " Document(page_content='decades and are a staple of Montreal’s food culture. \\nCandide and Damas  \\nIn the mood for something more exotic? Try Candide, which serves contemporary dishes \\nwith a focus on local and sustainable ingredients, or Damas, a high-end Syrian restaurant \\nknown for its exquisite Middle Eastern cuisine. \\nWith its diverse array of dining options, Montreal truly o Ưers something for every palate.', metadata={'source': 'data\\\\montreal.pdf', 'page': 1, 'doc_id': '52712c9e-1792-4efc-a281-0cad853628b0'})]"
      ]
     },
     "execution_count": 116,
     "metadata": {},
     "output_type": "execute_result"
    }
   ],
   "source": [
    "from langchain.schema.document import Document\n",
    "from langchain.text_splitter import RecursiveCharacterTextSplitter\n",
    "\n",
    "# Assume documents is a list of Document objects with 'doc_id' in their metadata\n",
    "child_text_splitter = RecursiveCharacterTextSplitter(chunk_size=400)\n",
    "\n",
    "all_sub_docs = []\n",
    "for doc in documents:\n",
    "    doc_id = doc.metadata.get(\"doc_id\")  # Retrieve the doc_id from the document's metadata\n",
    "    sub_docs = child_text_splitter.split_documents([doc])\n",
    "    for sub_doc in sub_docs:\n",
    "        sub_doc.metadata[\"doc_id\"] = doc_id  # Assign the same doc_id to each sub-document\n",
    "    all_sub_docs.extend(sub_docs)\n",
    "\n",
    "# Display the resulting sub-documents\n",
    "all_sub_docs\n"
   ]
  },
  {
   "cell_type": "code",
   "execution_count": 117,
   "id": "132b537e",
   "metadata": {},
   "outputs": [],
   "source": [
    "idx = index(all_sub_docs, record_manager, vectorstore, cleanup=\"incremental\",\n",
    "                                          source_id_key=\"source\")\n",
    "# Generate the list of (doc_id, document) tuples from the documents\n",
    "doc_id_document_tuples = [(doc.metadata[\"doc_id\"], doc) for doc in documents]\n",
    "\n",
    "# Pass the list of tuples to retriever.docstore.mset\n",
    "retriever.docstore.mset(doc_id_document_tuples)"
   ]
  },
  {
   "cell_type": "code",
   "execution_count": 118,
   "id": "8a239bcb",
   "metadata": {},
   "outputs": [
    {
     "data": {
      "text/plain": [
       "{'num_added': 13, 'num_updated': 0, 'num_skipped': 0, 'num_deleted': 13}"
      ]
     },
     "execution_count": 118,
     "metadata": {},
     "output_type": "execute_result"
    }
   ],
   "source": [
    "idx"
   ]
  },
  {
   "cell_type": "markdown",
   "id": "288b2e37",
   "metadata": {},
   "source": [
    "### Creating Summaries for Each Parent Chunk"
   ]
  },
  {
   "cell_type": "code",
   "execution_count": 83,
   "id": "4a0407a3",
   "metadata": {},
   "outputs": [],
   "source": [
    "from langchain_core.output_parsers import StrOutputParser\n",
    "from langchain_core.prompts import ChatPromptTemplate\n",
    "from langchain_openai import ChatOpenAI\n",
    "\n",
    "prompt_text = \"\"\"You are an assistant tasked with summarizing text. \\\n",
    "Directly summarize the following text chunk: {element} \"\"\"\n",
    "prompt = ChatPromptTemplate.from_template(prompt_text)\n",
    "\n",
    "# Initialize the Language Model (LLM)\n",
    "model = ChatOpenAI(temperature=0, model=\"gpt-4o\")\n",
    "\n",
    "# Define the summary chain\n",
    "summarize_chain = {\"element\": lambda x: x} | prompt | model | StrOutputParser()"
   ]
  },
  {
   "cell_type": "code",
   "execution_count": 84,
   "id": "14af703e",
   "metadata": {},
   "outputs": [],
   "source": [
    "parent_chunk = [i.page_content for i in documents]\n",
    "text_summaries = summarize_chain.batch(parent_chunk, {\"max_concurrency\": 5})"
   ]
  },
  {
   "cell_type": "code",
   "execution_count": 85,
   "id": "7f14bd96",
   "metadata": {},
   "outputs": [],
   "source": [
    "from langchain.schema.document import Document\n",
    "\n",
    "# Extract metadata from documents\n",
    "metadata = [i.metadata for i in documents]\n",
    "\n",
    "# Create new Document objects with the summaries and the original metadata\n",
    "text_summaries_with_metadata = []\n",
    "for summary, meta in zip(text_summaries, metadata):\n",
    "    # Add the suffix \"(summary)\" to the source in metadata\n",
    "    if 'source' in meta:\n",
    "        meta['source'] += ' (summary)'\n",
    "    text_summaries_with_metadata.append(Document(page_content=summary, metadata=meta))\n"
   ]
  },
  {
   "cell_type": "code",
   "execution_count": 94,
   "id": "830970cb",
   "metadata": {},
   "outputs": [
    {
     "data": {
      "text/plain": [
       "[Document(page_content='Montréal offers a variety of activities for all interests, reflecting its rich cultural heritage. Start in Old Montreal with its historic architecture and the Notre-Dame Basilica. Art enthusiasts should visit the Montreal Museum of Fine Arts. Outdoor lovers can explore Mont Royal for hiking and city views, and enjoy summer events like the Tam-Tams festival. The Mile End district offers a bohemian atmosphere with indie shops, galleries, and street art. In winter, the Underground City provides 30 kilometers of sheltered pathways connecting shops and metro stations. The city is also renowned for festivals like the Montreal International Jazz Festival and Just for Laughs.', metadata={'source': 'data\\\\montreal.pdf (summary)', 'page': 0, 'doc_id': '7b6bd10e-acaf-4aa4-ba7f-8b1bb14763d3'}),\n",
       " Document(page_content=\"Montreal's culinary scene is diverse and exciting, offering a range of dining experiences. Start with Schwartz’s Deli for iconic smoked meat sandwiches, and try poutine at La Banquise. For fine dining, Toqué! offers an innovative menu with seasonal Quebecois flavors, while Joe Beef combines French techniques with local ingredients. For sweet treats, visit Fairmount Bagel or St-Viateur Bagel for freshly baked, wood-fired bagels. For more exotic options, Candide focuses on local and sustainable ingredients, and Damas offers high-end Syrian cuisine. Montreal's dining options cater to every palate.\", metadata={'source': 'data\\\\montreal.pdf (summary)', 'page': 1, 'doc_id': '402364d6-11f4-440e-9156-97643036c7d5'})]"
      ]
     },
     "execution_count": 94,
     "metadata": {},
     "output_type": "execute_result"
    }
   ],
   "source": [
    "text_summaries_with_metadata"
   ]
  },
  {
   "cell_type": "code",
   "execution_count": 95,
   "id": "a9317f1e",
   "metadata": {},
   "outputs": [],
   "source": [
    "idx = index(text_summaries_with_metadata, record_manager, vectorstore, cleanup=\"incremental\",\n",
    "                                          source_id_key=\"source\")\n",
    "# Generate the list of (doc_id, document) tuples from the documents\n",
    "doc_id_document_tuples = [(doc.metadata[\"doc_id\"], doc) for doc in documents]\n",
    "\n",
    "# Pass the list of tuples to retriever.docstore.mset\n",
    "retriever.docstore.mset(doc_id_document_tuples)"
   ]
  },
  {
   "cell_type": "code",
   "execution_count": 96,
   "id": "4be2dc9d",
   "metadata": {},
   "outputs": [
    {
     "data": {
      "text/plain": [
       "{'num_added': 0, 'num_updated': 0, 'num_skipped': 2, 'num_deleted': 0}"
      ]
     },
     "execution_count": 96,
     "metadata": {},
     "output_type": "execute_result"
    }
   ],
   "source": [
    "idx"
   ]
  },
  {
   "cell_type": "markdown",
   "id": "7bbf4b08",
   "metadata": {},
   "source": [
    "### Generating Hypothetical Questions for Each Parent Chunk"
   ]
  },
  {
   "cell_type": "code",
   "execution_count": 97,
   "id": "8ec26a03",
   "metadata": {},
   "outputs": [],
   "source": [
    "functions = [\n",
    "    {\n",
    "        \"name\": \"hypothetical_questions\",\n",
    "        \"description\": \"Generate hypothetical questions\",\n",
    "        \"parameters\": {\n",
    "            \"type\": \"object\",\n",
    "            \"properties\": {\n",
    "                \"questions\": {\n",
    "                    \"type\": \"array\",\n",
    "                    \"items\": {\"type\": \"string\"},\n",
    "                },\n",
    "            },\n",
    "            \"required\": [\"questions\"],\n",
    "        },\n",
    "    }\n",
    "]"
   ]
  },
  {
   "cell_type": "code",
   "execution_count": 98,
   "id": "14e853c2",
   "metadata": {},
   "outputs": [],
   "source": [
    "from langchain.output_parsers.openai_functions import JsonKeyOutputFunctionsParser\n",
    "\n",
    "question_chain = (\n",
    "    {\"doc\": lambda x: x.page_content}\n",
    "    # Only asking for 5 hypothetical questions, but this could be adjusted\n",
    "    | ChatPromptTemplate.from_template(\n",
    "        \"\"\"Generate a list of exactly 5 hypothetical questions that the below document could be used to answer:\\n\\n{doc}\n",
    "        seperate each question with a comma (,)\n",
    "        \"\"\"\n",
    "    )\n",
    "    | ChatOpenAI(max_retries=0, model=\"gpt-4o\").bind(\n",
    "        functions=functions, function_call={\"name\": \"hypothetical_questions\"}\n",
    "    )\n",
    "    | JsonKeyOutputFunctionsParser(key_name=\"questions\")\n",
    ")"
   ]
  },
  {
   "cell_type": "code",
   "execution_count": 99,
   "id": "82a1ebd7",
   "metadata": {},
   "outputs": [],
   "source": [
    "hypothetical_questions = question_chain.batch(documents, {\"max_concurrency\": 5})"
   ]
  },
  {
   "cell_type": "code",
   "execution_count": 100,
   "id": "b62a398c",
   "metadata": {},
   "outputs": [
    {
     "data": {
      "text/plain": [
       "[['What historical sites can I visit in Old Montreal?',\n",
       "  'What art-related attractions are available in Montreal?',\n",
       "  'Where can I go for outdoor activities in Montreal?',\n",
       "  'What can I do in the Mile End district?',\n",
       "  'How can I navigate Montreal during the winter?'],\n",
       " ['What is a must-try iconic dish in Montreal and where can I find it?',\n",
       "  'Where can I experience fine dining in Montreal?',\n",
       "  'Which restaurants in Montreal are known for combining local ingredients with international culinary techniques?',\n",
       "  'Where can I find the best poutine in Montreal?',\n",
       "  'Which establishments in Montreal are famous for their bagels?']]"
      ]
     },
     "execution_count": 100,
     "metadata": {},
     "output_type": "execute_result"
    }
   ],
   "source": [
    "hypothetical_questions"
   ]
  },
  {
   "cell_type": "code",
   "execution_count": 103,
   "id": "59fdcaf0",
   "metadata": {},
   "outputs": [],
   "source": [
    "from langchain.schema.document import Document\n",
    "\n",
    "hypothetical_docs = []\n",
    "for original_doc, question_list in zip(documents, hypothetical_questions):\n",
    "    doc_id = original_doc.metadata[\"doc_id\"]\n",
    "    page = original_doc.metadata.get(\"page\")\n",
    "    source = original_doc.metadata.get(\"source\")\n",
    "\n",
    "    for question in question_list:\n",
    "        # Define your new metadata here with modified source\n",
    "        new_metadata = {\n",
    "            \"doc_id\": doc_id,\n",
    "            \"page\": page,\n",
    "            \"source\": f\"{source}(question)\"  # Add the suffix to the source\n",
    "        }\n",
    "\n",
    "        # Create a new Document instance for each question\n",
    "        # The question itself is the page_content\n",
    "        doc = Document(page_content=question, metadata=new_metadata)\n",
    "\n",
    "        # Add the Document to the list\n",
    "        hypothetical_docs.append(doc)"
   ]
  },
  {
   "cell_type": "code",
   "execution_count": 104,
   "id": "524590ce",
   "metadata": {},
   "outputs": [
    {
     "data": {
      "text/plain": [
       "[Document(page_content='What historical sites can I visit in Old Montreal?', metadata={'doc_id': '7b6bd10e-acaf-4aa4-ba7f-8b1bb14763d3', 'page': 0, 'source': 'data\\\\montreal.pdf (summary)(question)'}),\n",
       " Document(page_content='What art-related attractions are available in Montreal?', metadata={'doc_id': '7b6bd10e-acaf-4aa4-ba7f-8b1bb14763d3', 'page': 0, 'source': 'data\\\\montreal.pdf (summary)(question)'}),\n",
       " Document(page_content='Where can I go for outdoor activities in Montreal?', metadata={'doc_id': '7b6bd10e-acaf-4aa4-ba7f-8b1bb14763d3', 'page': 0, 'source': 'data\\\\montreal.pdf (summary)(question)'}),\n",
       " Document(page_content='What can I do in the Mile End district?', metadata={'doc_id': '7b6bd10e-acaf-4aa4-ba7f-8b1bb14763d3', 'page': 0, 'source': 'data\\\\montreal.pdf (summary)(question)'}),\n",
       " Document(page_content='How can I navigate Montreal during the winter?', metadata={'doc_id': '7b6bd10e-acaf-4aa4-ba7f-8b1bb14763d3', 'page': 0, 'source': 'data\\\\montreal.pdf (summary)(question)'}),\n",
       " Document(page_content='What is a must-try iconic dish in Montreal and where can I find it?', metadata={'doc_id': '402364d6-11f4-440e-9156-97643036c7d5', 'page': 1, 'source': 'data\\\\montreal.pdf (summary)(question)'}),\n",
       " Document(page_content='Where can I experience fine dining in Montreal?', metadata={'doc_id': '402364d6-11f4-440e-9156-97643036c7d5', 'page': 1, 'source': 'data\\\\montreal.pdf (summary)(question)'}),\n",
       " Document(page_content='Which restaurants in Montreal are known for combining local ingredients with international culinary techniques?', metadata={'doc_id': '402364d6-11f4-440e-9156-97643036c7d5', 'page': 1, 'source': 'data\\\\montreal.pdf (summary)(question)'}),\n",
       " Document(page_content='Where can I find the best poutine in Montreal?', metadata={'doc_id': '402364d6-11f4-440e-9156-97643036c7d5', 'page': 1, 'source': 'data\\\\montreal.pdf (summary)(question)'}),\n",
       " Document(page_content='Which establishments in Montreal are famous for their bagels?', metadata={'doc_id': '402364d6-11f4-440e-9156-97643036c7d5', 'page': 1, 'source': 'data\\\\montreal.pdf (summary)(question)'})]"
      ]
     },
     "execution_count": 104,
     "metadata": {},
     "output_type": "execute_result"
    }
   ],
   "source": [
    "hypothetical_docs"
   ]
  },
  {
   "cell_type": "code",
   "execution_count": 105,
   "id": "fc293300",
   "metadata": {},
   "outputs": [],
   "source": [
    "idx = index(hypothetical_docs, record_manager, vectorstore, cleanup=\"incremental\",\n",
    "                                          source_id_key=\"source\")\n",
    "\n",
    "# Generate the list of (doc_id, document) tuples from the documents\n",
    "doc_id_document_tuples = [(doc.metadata[\"doc_id\"], doc) for doc in documents]\n",
    "\n",
    "# Pass the list of tuples to retriever.docstore.mset\n",
    "retriever.docstore.mset(doc_id_document_tuples)"
   ]
  },
  {
   "cell_type": "code",
   "execution_count": 106,
   "id": "41ce2538",
   "metadata": {},
   "outputs": [
    {
     "data": {
      "text/plain": [
       "{'num_added': 10, 'num_updated': 0, 'num_skipped': 0, 'num_deleted': 0}"
      ]
     },
     "execution_count": 106,
     "metadata": {},
     "output_type": "execute_result"
    }
   ],
   "source": [
    "idx"
   ]
  },
  {
   "cell_type": "code",
   "execution_count": 107,
   "id": "520296eb",
   "metadata": {},
   "outputs": [
    {
     "data": {
      "text/plain": [
       "[Document(page_content='Where can I experience fine dining in Montreal?', metadata={'page': 1, 'doc_id': '402364d6-11f4-440e-9156-97643036c7d5', 'source': 'data\\\\montreal.pdf (summary)(question)'}),\n",
       " Document(page_content='Which restaurants in Montreal are known for combining local ingredients with international culinary techniques?', metadata={'page': 1, 'doc_id': '402364d6-11f4-440e-9156-97643036c7d5', 'source': 'data\\\\montreal.pdf (summary)(question)'}),\n",
       " Document(page_content='decades and are a staple of Montreal’s food culture. \\nCandide and Damas  \\nIn the mood for something more exotic? Try Candide, which serves contemporary dishes \\nwith a focus on local and sustainable ingredients, or Damas, a high-end Syrian restaurant \\nknown for its exquisite Middle Eastern cuisine. \\nWith its diverse array of dining options, Montreal truly o Ưers something for every palate.', metadata={'page': 1, 'doc_id': '402364d6-11f4-440e-9156-97643036c7d5', 'source': 'data\\\\montreal.pdf'}),\n",
       " Document(page_content=\"Montreal's culinary scene is diverse and exciting, offering a range of dining experiences. Start with Schwartz’s Deli for iconic smoked meat sandwiches, and try poutine at La Banquise. For fine dining, Toqué! offers an innovative menu with seasonal Quebecois flavors, while Joe Beef combines French techniques with local ingredients. For sweet treats, visit Fairmount Bagel or St-Viateur Bagel for freshly baked, wood-fired bagels. For more exotic options, Candide focuses on local and sustainable ingredients, and Damas offers high-end Syrian cuisine. Montreal's dining options cater to every palate.\", metadata={'page': 1, 'doc_id': '402364d6-11f4-440e-9156-97643036c7d5', 'source': 'data\\\\montreal.pdf (summary)'})]"
      ]
     },
     "execution_count": 107,
     "metadata": {},
     "output_type": "execute_result"
    }
   ],
   "source": [
    "retriever.vectorstore.similarity_search(\"What dining options are available in Montreal for those interested in Middle Eastern cuisine?\")"
   ]
  },
  {
   "cell_type": "code",
   "execution_count": 108,
   "id": "4b99ab71",
   "metadata": {},
   "outputs": [
    {
     "data": {
      "text/plain": [
       "[Document(page_content='Dining in Montreal \\nMontreal’s culinary scene is just as diverse and exciting as its activities. \\nSchwartz’s Deli  \\nStart your gastronomic journey with a visit to Schwartz’s Deli, an iconic establishment \\nknown for its mouth-watering smoked meat sandwiches. \\nLa Banquise  \\nFor a true taste of Montreal, try poutine – a delectable dish of fries topped with cheese \\ncurds and gravy – available at La Banquise, a local favorite that o Ưers numerous variations \\nof this classic comfort food. \\nToqué!  \\nFor ﬁne dining, Toqué! is a standout choice, o Ưering an innovative menu that highlights \\nseasonal ingredients and Quebecois ﬂavors. \\nJoe Beef  \\nFoodies will also appreciate Joe Beef, a beloved bistro that combines French culinary \\ntechniques with hearty, local ingredients. \\nFairmount Bagel and St-Viateur Bagel  \\nIf you’re in the mood for something sweet, a stop at Fairmount Bagel or St-Viateur Bagel is \\nessential. These bagel shops have been serving freshly baked, wood-ﬁred bagels for \\ndecades and are a staple of Montreal’s food culture. \\nCandide and Damas  \\nIn the mood for something more exotic? Try Candide, which serves contemporary dishes \\nwith a focus on local and sustainable ingredients, or Damas, a high-end Syrian restaurant \\nknown for its exquisite Middle Eastern cuisine. \\nWith its diverse array of dining options, Montreal truly o Ưers something for every palate.', metadata={'source': 'data\\\\montreal.pdf (summary)', 'page': 1, 'doc_id': '402364d6-11f4-440e-9156-97643036c7d5'})]"
      ]
     },
     "execution_count": 108,
     "metadata": {},
     "output_type": "execute_result"
    }
   ],
   "source": [
    "retriever.invoke(\"What dining options are available in Montreal for those interested in Middle Eastern cuisine?\")"
   ]
  },
  {
   "cell_type": "markdown",
   "id": "abbdbcd4",
   "metadata": {},
   "source": [
    "### Creating an LCEL Chain and Testing the Retriever"
   ]
  },
  {
   "cell_type": "code",
   "execution_count": 109,
   "id": "47d2764b",
   "metadata": {},
   "outputs": [],
   "source": [
    "from langchain_core.runnables import RunnablePassthrough\n",
    "from langchain_core.output_parsers import StrOutputParser\n",
    "from langchain_core.prompts import ChatPromptTemplate\n",
    "from langchain_openai import ChatOpenAI\n",
    "\n",
    "# Prompt template\n",
    "template = \"\"\"Answer the question based only on the following context:\n",
    "{context}\n",
    "Question: {question}\n",
    "\"\"\"\n",
    "prompt = ChatPromptTemplate.from_template(template)\n",
    "\n",
    "# LLM\n",
    "model = ChatOpenAI(temperature=0, model=\"gpt-4o\")\n",
    "\n",
    "# RAG pipeline\n",
    "chain = (\n",
    "    {\"context\": retriever, \"question\": RunnablePassthrough()}\n",
    "    | prompt\n",
    "    | model\n",
    "    | StrOutputParser()\n",
    ")"
   ]
  },
  {
   "cell_type": "code",
   "execution_count": 110,
   "id": "2798ab6c",
   "metadata": {},
   "outputs": [
    {
     "data": {
      "text/plain": [
       "'For those interested in Middle Eastern cuisine, Damas is a high-end Syrian restaurant in Montreal known for its exquisite Middle Eastern cuisine.'"
      ]
     },
     "execution_count": 110,
     "metadata": {},
     "output_type": "execute_result"
    }
   ],
   "source": [
    "chain.invoke(\"What dining options are available in Montreal for those interested in Middle Eastern cuisine?\")"
   ]
  },
  {
   "cell_type": "code",
   "execution_count": 111,
   "id": "9cb9b4df",
   "metadata": {},
   "outputs": [
    {
     "data": {
      "text/plain": [
       "'You can find the best smoked meat sandwiches in Montreal at Schwartz’s Deli.'"
      ]
     },
     "execution_count": 111,
     "metadata": {},
     "output_type": "execute_result"
    }
   ],
   "source": [
    "chain.invoke(\"Where can I find the best smoked meat sandwiches in Montreal?\")"
   ]
  },
  {
   "cell_type": "code",
   "execution_count": 112,
   "id": "9f2f0da4",
   "metadata": {},
   "outputs": [
    {
     "data": {
      "text/plain": [
       "'Montreal offers a diverse array of dining options that cater to various tastes. Some standout places include Schwartz’s Deli for smoked meat sandwiches, La Banquise for poutine, Toqué! for fine dining with seasonal ingredients, Joe Beef for a mix of French techniques and local ingredients, Fairmount Bagel and St-Viateur Bagel for freshly baked bagels, Candide for contemporary dishes with local and sustainable ingredients, and Damas for high-end Syrian cuisine.'"
      ]
     },
     "execution_count": 112,
     "metadata": {},
     "output_type": "execute_result"
    }
   ],
   "source": [
    "chain.invoke(\"Where can I find the best food in Montreal?\")"
   ]
  }
 ],
 "metadata": {
  "kernelspec": {
   "display_name": ".venv",
   "language": "python",
   "name": "python3"
  },
  "language_info": {
   "codemirror_mode": {
    "name": "ipython",
    "version": 3
   },
   "file_extension": ".py",
   "mimetype": "text/x-python",
   "name": "python",
   "nbconvert_exporter": "python",
   "pygments_lexer": "ipython3",
   "version": "3.11.7"
  }
 },
 "nbformat": 4,
 "nbformat_minor": 5
}
