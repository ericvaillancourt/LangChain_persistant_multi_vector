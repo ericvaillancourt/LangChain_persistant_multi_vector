{
 "cells": [
  {
   "cell_type": "code",
   "execution_count": 1,
   "id": "0d0a71bd",
   "metadata": {},
   "outputs": [
    {
     "data": {
      "text/plain": [
       "True"
      ]
     },
     "execution_count": 1,
     "metadata": {},
     "output_type": "execute_result"
    }
   ],
   "source": [
    "from dotenv import load_dotenv\n",
    "import os\n",
    "\n",
    "# Load environment variables\n",
    "load_dotenv()"
   ]
  },
  {
   "cell_type": "markdown",
   "id": "f45d302a",
   "metadata": {},
   "source": [
    "### Understanding Store in LangChain"
   ]
  },
  {
   "cell_type": "code",
   "execution_count": 38,
   "id": "28880508",
   "metadata": {},
   "outputs": [
    {
     "data": {
      "text/plain": [
       "[Document(page_content='Things to Do in Toronto \\nPage 1: Introduction \\nToronto, the capital of Ontario, is the largest city in Canada and a dynamic, cosmopolitan \\nhub. Known for its towering skyline, bustling waterfront, and numerous cultural attractions, \\nToronto o Ưers a wealth of experiences for every visitor. \\nKey Attractions:  \\n\\uf0b7 CN Tower:  This iconic symbol of Toronto o Ưers panoramic views of the city. Don’t \\nmiss the glass ﬂoor and the revolving restaurant at the top. \\n\\uf0b7 Royal Ontario Museum (ROM):  Canada’s largest museum of world cultures and \\nnatural history is a must-visit. \\n\\uf0b7 Toronto Islands:  A group of small islands located just o Ư the city’s shore, o Ưering \\nbeautiful beaches, picnic spots, and bike rentals.', metadata={'source': 'data\\\\toronto.pdf', 'page': 0}),\n",
       " Document(page_content='Page 2: Cultural Experiences \\nToronto is a melting pot of cultures, and this is reﬂected in its neighborhoods and festivals. \\nNeighborhoods:  \\n\\uf0b7 Chinatown:  One of North America’s largest Chinatowns, known for its vibrant food \\nscene. \\n\\uf0b7 Kensington Market:  A bohemian neighborhood o Ưering vintage shops, eclectic \\nboutiques, and international food stalls. \\n\\uf0b7 Distillery District:  Known for its well-preserved Victorian Industrial architecture, it’s \\nnow home to boutiques, art galleries, and performance spaces. \\nFestivals:  \\n\\uf0b7 Caribana:  A festival celebrating Caribbean culture and traditions, held in summer. \\n\\uf0b7 Toronto International Film Festival (TIFF):  One of the most prestigious ﬁlm \\nfestivals in the world, held annually in September.', metadata={'source': 'data\\\\toronto.pdf', 'page': 1}),\n",
       " Document(page_content='Page 3: Outdoor Activities \\nToronto o Ưers numerous opportunities for outdoor activities.  \\n\\uf0b7 High Park:  Toronto’s largest public park featuring many hiking trails, sports facilities, \\na beautiful lakefront, a zoo, and several playgrounds. \\n\\uf0b7 Toronto Zoo:  Home to over 5,000 animals representing over 500 species. \\n\\uf0b7 Ripley’s Aquarium of Canada:  Located at the base of the CN Tower, this enormous \\naquarium is one of the city’s newest top attractions.', metadata={'source': 'data\\\\toronto.pdf', 'page': 2}),\n",
       " Document(page_content='Page 4: Food and Nightlife \\nToronto’s food scene is as diverse as its population. \\n\\uf0b7 St. Lawrence Market:  Named the world’s best food market by National Geographic \\nin 2012, this is a must-visit for foodies. \\n\\uf0b7 Nightlife:  Toronto has a vibrant nightlife with a plethora of bars, nightclubs, and live \\nmusic venues. The Entertainment District is known for its nightclubs and theaters. \\nIn conclusion, whether you’re a lover of art and culture, outdoor activities, food, or just \\nlooking to have a good time, Toronto has something for everyone.', metadata={'source': 'data\\\\toronto.pdf', 'page': 3})]"
      ]
     },
     "execution_count": 38,
     "metadata": {},
     "output_type": "execute_result"
    }
   ],
   "source": [
    "from langchain.document_loaders import PyPDFLoader\n",
    "from langchain.text_splitter import RecursiveCharacterTextSplitter\n",
    "\n",
    "# file_path = r\"data\\montreal.pdf\"\n",
    "file_path = r\"data\\toronto.pdf\"\n",
    "\n",
    "loader = PyPDFLoader(file_path=file_path)\n",
    "\n",
    "# by default, we will split by pages with no text_splitter\n",
    "documents = loader.load_and_split(text_splitter=None)\n",
    "documents"
   ]
  },
  {
   "cell_type": "markdown",
   "id": "b41e5a7f",
   "metadata": {},
   "source": [
    "### Unsing the PostgresByteStore"
   ]
  },
  {
   "cell_type": "code",
   "execution_count": 3,
   "id": "833c1001",
   "metadata": {},
   "outputs": [
    {
     "data": {
      "text/plain": [
       "MultiVectorRetriever(vectorstore=<langchain_postgres.vectorstores.PGVector object at 0x00000266345C4690>, docstore=<utils.store.PostgresByteStore object at 0x00000266346351D0>)"
      ]
     },
     "execution_count": 3,
     "metadata": {},
     "output_type": "execute_result"
    }
   ],
   "source": [
    "from langchain.vectorstores import Chroma\n",
    "from langchain.storage import InMemoryStore\n",
    "from langchain_openai import OpenAIEmbeddings\n",
    "from langchain.retrievers.multi_vector import MultiVectorRetriever\n",
    "from langchain_postgres import PGVector\n",
    "from database import COLLECTION_NAME, CONNECTION_STRING\n",
    "from utils.store import PostgresByteStore\n",
    "from langchain_postgres import PostgresSaver, PickleCheckpointSerializer\n",
    "from utils.custom_sql_record_manager import CustomSQLRecordManager\n",
    "from utils.index_with_ids import index_with_ids\n",
    "\n",
    "embeddings = OpenAIEmbeddings()\n",
    "vectorstore = PGVector(\n",
    "    embeddings=embeddings,\n",
    "    collection_name=COLLECTION_NAME,\n",
    "    connection=CONNECTION_STRING,\n",
    "    use_jsonb=True,\n",
    ")\n",
    "\n",
    "store = PostgresByteStore(CONNECTION_STRING, COLLECTION_NAME)\n",
    "id_key = \"doc_id\"\n",
    "\n",
    "retriever = MultiVectorRetriever(\n",
    "    vectorstore=vectorstore, \n",
    "    docstore=store, \n",
    "    id_key=id_key,\n",
    ")\n",
    "\n",
    "# define record manager\n",
    "namespace = f\"pgvector/{COLLECTION_NAME}\"\n",
    "record_manager = CustomSQLRecordManager(\n",
    "    namespace, db_url=CONNECTION_STRING\n",
    ")\n",
    "record_manager.create_schema()\n",
    "\n",
    "retriever"
   ]
  },
  {
   "cell_type": "code",
   "execution_count": 39,
   "id": "d6255a2f",
   "metadata": {},
   "outputs": [],
   "source": [
    "from utils.utils import generate_reproducible_id_by_content\n",
    "\n",
    "# Add a reproducible unique doc_id to each document's metadata\n",
    "for position, doc in enumerate(documents):\n",
    "    doc.metadata[\"doc_id\"] = generate_reproducible_id_by_content(doc.page_content, doc.metadata)"
   ]
  },
  {
   "cell_type": "code",
   "execution_count": 40,
   "id": "9924d59d",
   "metadata": {},
   "outputs": [],
   "source": [
    "# Generate the list of (doc_id, document) tuples from the documents\n",
    "doc_id_document_tuples = [(doc.metadata[\"doc_id\"], doc) for doc in documents]\n",
    "\n",
    "# Pass the list of tuples to retriever.docstore.mset\n",
    "parent_docs_operations = retriever.docstore.conditional_mset(doc_id_document_tuples)"
   ]
  },
  {
   "cell_type": "code",
   "execution_count": 41,
   "id": "9e59b583",
   "metadata": {},
   "outputs": [
    {
     "data": {
      "text/plain": [
       "[('eac9bbc7-a391-5931-a26c-11d9ee2402aa', 'SKIP'),\n",
       " ('4d722603-1c85-56ab-82f2-2d4dfdd3eb68', 'SKIP'),\n",
       " ('80e1944b-044e-5dc8-899f-7a941f1fa08b', 'SKIP'),\n",
       " ('a9cace25-2615-59b1-9669-ccd6656ac767', 'SKIP')]"
      ]
     },
     "execution_count": 41,
     "metadata": {},
     "output_type": "execute_result"
    }
   ],
   "source": [
    "parent_docs_operations"
   ]
  },
  {
   "cell_type": "code",
   "execution_count": 42,
   "id": "8cf97bf0",
   "metadata": {},
   "outputs": [
    {
     "data": {
      "text/plain": [
       "[Document(page_content='Things to Do in Toronto \\nPage 1: Introduction \\nToronto, the capital of Ontario, is the largest city in Canada and a dynamic, cosmopolitan \\nhub. Known for its towering skyline, bustling waterfront, and numerous cultural attractions, \\nToronto o Ưers a wealth of experiences for every visitor. \\nKey Attractions:  \\n\\uf0b7 CN Tower:  This iconic symbol of Toronto o Ưers panoramic views of the city. Don’t', metadata={'page': 0, 'type': 'smaller chunk', 'doc_id': 'eac9bbc7-a391-5931-a26c-11d9ee2402aa', 'source': 'data\\\\toronto.pdf(smaller chunk)'}),\n",
       " Document(page_content='Toronto o Ưers a wealth of experiences for every visitor. \\nKey Attractions:  \\n\\uf0b7 CN Tower:  This iconic symbol of Toronto o Ưers panoramic views of the city. Don’t \\nmiss the glass ﬂoor and the revolving restaurant at the top. \\n\\uf0b7 Royal Ontario Museum (ROM):  Canada’s largest museum of world cultures and \\nnatural history is a must-visit.', metadata={'page': 0, 'type': 'smaller chunk', 'doc_id': 'eac9bbc7-a391-5931-a26c-11d9ee2402aa', 'source': 'data\\\\toronto.pdf(smaller chunk)'}),\n",
       " Document(page_content='miss the glass ﬂoor and the revolving restaurant at the top. \\n\\uf0b7 Royal Ontario Museum (ROM):  Canada’s largest museum of world cultures and \\nnatural history is a must-visit. \\n\\uf0b7 Toronto Islands:  A group of small islands located just o Ư the city’s shore, o Ưering \\nbeautiful beaches, picnic spots, and bike rentals.', metadata={'page': 0, 'type': 'smaller chunk', 'doc_id': 'eac9bbc7-a391-5931-a26c-11d9ee2402aa', 'source': 'data\\\\toronto.pdf(smaller chunk)'}),\n",
       " Document(page_content='Page 2: Cultural Experiences \\nToronto is a melting pot of cultures, and this is reﬂected in its neighborhoods and festivals. \\nNeighborhoods:  \\n\\uf0b7 Chinatown:  One of North America’s largest Chinatowns, known for its vibrant food \\nscene. \\n\\uf0b7 Kensington Market:  A bohemian neighborhood o Ưering vintage shops, eclectic \\nboutiques, and international food stalls.', metadata={'page': 1, 'type': 'smaller chunk', 'doc_id': '4d722603-1c85-56ab-82f2-2d4dfdd3eb68', 'source': 'data\\\\toronto.pdf(smaller chunk)'}),\n",
       " Document(page_content='scene. \\n\\uf0b7 Kensington Market:  A bohemian neighborhood o Ưering vintage shops, eclectic \\nboutiques, and international food stalls. \\n\\uf0b7 Distillery District:  Known for its well-preserved Victorian Industrial architecture, it’s \\nnow home to boutiques, art galleries, and performance spaces. \\nFestivals:  \\n\\uf0b7 Caribana:  A festival celebrating Caribbean culture and traditions, held in summer.', metadata={'page': 1, 'type': 'smaller chunk', 'doc_id': '4d722603-1c85-56ab-82f2-2d4dfdd3eb68', 'source': 'data\\\\toronto.pdf(smaller chunk)'}),\n",
       " Document(page_content='now home to boutiques, art galleries, and performance spaces. \\nFestivals:  \\n\\uf0b7 Caribana:  A festival celebrating Caribbean culture and traditions, held in summer. \\n\\uf0b7 Toronto International Film Festival (TIFF):  One of the most prestigious ﬁlm \\nfestivals in the world, held annually in September.', metadata={'page': 1, 'type': 'smaller chunk', 'doc_id': '4d722603-1c85-56ab-82f2-2d4dfdd3eb68', 'source': 'data\\\\toronto.pdf(smaller chunk)'}),\n",
       " Document(page_content='Page 3: Outdoor Activities \\nToronto o Ưers numerous opportunities for outdoor activities.  \\n\\uf0b7 High Park:  Toronto’s largest public park featuring many hiking trails, sports facilities, \\na beautiful lakefront, a zoo, and several playgrounds. \\n\\uf0b7 Toronto Zoo:  Home to over 5,000 animals representing over 500 species. \\n\\uf0b7 Ripley’s Aquarium of Canada:  Located at the base of the CN Tower, this enormous', metadata={'page': 2, 'type': 'smaller chunk', 'doc_id': '80e1944b-044e-5dc8-899f-7a941f1fa08b', 'source': 'data\\\\toronto.pdf(smaller chunk)'}),\n",
       " Document(page_content='\\uf0b7 Toronto Zoo:  Home to over 5,000 animals representing over 500 species. \\n\\uf0b7 Ripley’s Aquarium of Canada:  Located at the base of the CN Tower, this enormous \\naquarium is one of the city’s newest top attractions.', metadata={'page': 2, 'type': 'smaller chunk', 'doc_id': '80e1944b-044e-5dc8-899f-7a941f1fa08b', 'source': 'data\\\\toronto.pdf(smaller chunk)'}),\n",
       " Document(page_content='Page 4: Food and Nightlife \\nToronto’s food scene is as diverse as its population. \\n\\uf0b7 St. Lawrence Market:  Named the world’s best food market by National Geographic \\nin 2012, this is a must-visit for foodies. \\n\\uf0b7 Nightlife:  Toronto has a vibrant nightlife with a plethora of bars, nightclubs, and live \\nmusic venues. The Entertainment District is known for its nightclubs and theaters.', metadata={'page': 3, 'type': 'smaller chunk', 'doc_id': 'a9cace25-2615-59b1-9669-ccd6656ac767', 'source': 'data\\\\toronto.pdf(smaller chunk)'}),\n",
       " Document(page_content='\\uf0b7 Nightlife:  Toronto has a vibrant nightlife with a plethora of bars, nightclubs, and live \\nmusic venues. The Entertainment District is known for its nightclubs and theaters. \\nIn conclusion, whether you’re a lover of art and culture, outdoor activities, food, or just \\nlooking to have a good time, Toronto has something for everyone.', metadata={'page': 3, 'type': 'smaller chunk', 'doc_id': 'a9cace25-2615-59b1-9669-ccd6656ac767', 'source': 'data\\\\toronto.pdf(smaller chunk)'})]"
      ]
     },
     "execution_count": 42,
     "metadata": {},
     "output_type": "execute_result"
    }
   ],
   "source": [
    "from sqlalchemy import create_engine, Column, String, LargeBinary, select, delete, Table, MetaData\n",
    "from sqlalchemy.orm import sessionmaker\n",
    "from sqlalchemy.dialects.postgresql import JSONB\n",
    "from sqlalchemy.sql import cast\n",
    "from langchain.schema.document import Document\n",
    "from langchain.text_splitter import RecursiveCharacterTextSplitter\n",
    "\n",
    "# Assume documents is a list of Document objects with 'doc_id' in their metadata\n",
    "child_text_splitter = RecursiveCharacterTextSplitter(chunk_size=400)\n",
    "\n",
    "# List to store all sub-documents\n",
    "all_sub_docs = []\n",
    "\n",
    "# Database connection setup\n",
    "engine = create_engine(CONNECTION_STRING)\n",
    "Session = sessionmaker(bind=engine)\n",
    "session = Session()\n",
    "\n",
    "# Define table structure\n",
    "metadata = MetaData()\n",
    "langchain_pg_embedding = Table(\n",
    "    'langchain_pg_embedding', metadata,\n",
    "    Column('id', String, primary_key=True),\n",
    "    Column('collection_id', String),\n",
    "    Column('embedding', LargeBinary),\n",
    "    Column('document', String),\n",
    "    Column('cmetadata', JSONB)\n",
    ")\n",
    "\n",
    "# Iterate through the operations\n",
    "for doc_id, operation in parent_docs_operations:\n",
    "    if operation == 'SKIP':\n",
    "        # Fetch records from langchain_pg_embedding table\n",
    "        query = select(\n",
    "            langchain_pg_embedding.c.id,\n",
    "            langchain_pg_embedding.c.collection_id,\n",
    "            langchain_pg_embedding.c.embedding,\n",
    "            langchain_pg_embedding.c.document,\n",
    "            langchain_pg_embedding.c.cmetadata\n",
    "        ).where(\n",
    "            (langchain_pg_embedding.c.cmetadata['doc_id'].astext == doc_id) &\n",
    "            (langchain_pg_embedding.c.cmetadata['type'].astext == 'smaller chunk')\n",
    "        )\n",
    "        \n",
    "        result = session.execute(query).fetchall()\n",
    "        \n",
    "        # Recreate sub-documents from fetched records\n",
    "        for row in result:\n",
    "            metadata = row.cmetadata\n",
    "            sub_doc_content = row.document\n",
    "            sub_doc = Document(page_content=sub_doc_content, metadata=metadata)\n",
    "            all_sub_docs.append(sub_doc)\n",
    "    else:\n",
    "        # Retrieve the document from the docstore\n",
    "        doc = retriever.docstore.get(doc_id)\n",
    "        if doc:\n",
    "            source = doc.metadata.get(\"source\")  # Retrieve the source from the document's metadata\n",
    "            sub_docs = child_text_splitter.split_documents([doc])\n",
    "            for sub_doc in sub_docs:\n",
    "                sub_doc.metadata[\"doc_id\"] = doc_id  # Assign the same doc_id to each sub-document\n",
    "                sub_doc.metadata[\"source\"] = f\"{source}(smaller chunk)\"  # Add the suffix to the source\n",
    "                sub_doc.metadata[\"type\"] = \"smaller chunk\"\n",
    "            all_sub_docs.extend(sub_docs)\n",
    "\n",
    "# Close the session after use\n",
    "session.close()\n",
    "\n",
    "# The resulting sub-documents\n",
    "all_sub_docs\n"
   ]
  },
  {
   "cell_type": "code",
   "execution_count": 43,
   "id": "132b537e",
   "metadata": {},
   "outputs": [],
   "source": [
    "idx = index_with_ids(all_sub_docs, record_manager, vectorstore, cleanup=\"incremental\",\n",
    "                                          source_id_key=\"source\")\n"
   ]
  },
  {
   "cell_type": "code",
   "execution_count": 44,
   "id": "970b7df2",
   "metadata": {},
   "outputs": [
    {
     "data": {
      "text/plain": [
       "{'status': 'success',\n",
       " 'ids': [{'key': 'de64f070-8219-5b39-8032-cc0f8b38129c', 'operation': 'SKIP'},\n",
       "  {'key': '7e3089a7-17c8-5f81-85bf-85d2ffbd49e5', 'operation': 'SKIP'},\n",
       "  {'key': 'f5d04788-e830-5f9e-a59b-6f868320a1aa', 'operation': 'SKIP'},\n",
       "  {'key': '503d7916-e17c-560b-8f6d-fb43883ba7bf', 'operation': 'SKIP'},\n",
       "  {'key': 'be89892a-f871-5170-9e26-ea9b31662aab', 'operation': 'SKIP'},\n",
       "  {'key': '1bdda57a-675b-5bb3-8a3c-0484976f70f1', 'operation': 'SKIP'},\n",
       "  {'key': '5a393ada-9b12-5354-b38f-295b353ce558', 'operation': 'SKIP'},\n",
       "  {'key': '3862ca2f-e184-5d94-8ed9-1747dbecdfc0', 'operation': 'SKIP'},\n",
       "  {'key': '55c17723-722d-53da-ad32-56d0c6e00111', 'operation': 'SKIP'},\n",
       "  {'key': '664c65ff-79b2-551c-93e5-fba7ece620cb', 'operation': 'SKIP'}],\n",
       " 'results': [{'num_added': 0,\n",
       "   'num_updated': 0,\n",
       "   'num_skipped': 10,\n",
       "   'num_deleted': 0}]}"
      ]
     },
     "execution_count": 44,
     "metadata": {},
     "output_type": "execute_result"
    }
   ],
   "source": [
    "idx"
   ]
  },
  {
   "cell_type": "markdown",
   "id": "288b2e37",
   "metadata": {},
   "source": [
    "### Creating Summaries for Each Parent Chunk"
   ]
  },
  {
   "cell_type": "code",
   "execution_count": 45,
   "id": "4a0407a3",
   "metadata": {},
   "outputs": [],
   "source": [
    "from langchain_core.output_parsers import StrOutputParser\n",
    "from langchain_core.prompts import ChatPromptTemplate\n",
    "from langchain_openai import ChatOpenAI\n",
    "\n",
    "prompt_text = \"\"\"You are an assistant tasked with summarizing text. \\\n",
    "Directly summarize the following text chunk: {element} \"\"\"\n",
    "prompt = ChatPromptTemplate.from_template(prompt_text)\n",
    "\n",
    "# Initialize the Language Model (LLM)\n",
    "model = ChatOpenAI(temperature=0, model=\"gpt-4o\")\n",
    "\n",
    "# Define the summary chain\n",
    "summarize_chain = {\"element\": lambda x: x} | prompt | model | StrOutputParser()"
   ]
  },
  {
   "cell_type": "code",
   "execution_count": 46,
   "id": "14af703e",
   "metadata": {},
   "outputs": [
    {
     "data": {
      "text/plain": [
       "[Document(page_content=\"Toronto, the capital of Ontario and Canada's largest city, is a vibrant and cosmopolitan hub known for its skyline, waterfront, and cultural attractions. Key attractions include the CN Tower with its panoramic views and revolving restaurant, the Royal Ontario Museum (ROM) which is Canada's largest museum of world cultures and natural history, and the Toronto Islands offering beaches, picnic spots, and bike rentals.\", metadata={'page': 0, 'type': 'summary', 'doc_id': 'eac9bbc7-a391-5931-a26c-11d9ee2402aa', 'source': 'data\\\\toronto.pdf(summary)'}),\n",
       " Document(page_content=\"Toronto's cultural experiences are highlighted through its diverse neighborhoods and festivals. Key neighborhoods include Chinatown, known for its vibrant food scene; Kensington Market, offering vintage shops and international food stalls; and the Distillery District, featuring Victorian Industrial architecture with boutiques and art galleries. Notable festivals include Caribana, celebrating Caribbean culture in the summer, and the Toronto International Film Festival (TIFF), a prestigious annual event in September.\", metadata={'page': 1, 'type': 'summary', 'doc_id': '4d722603-1c85-56ab-82f2-2d4dfdd3eb68', 'source': 'data\\\\toronto.pdf(summary)'}),\n",
       " Document(page_content=\"Toronto offers numerous opportunities for outdoor activities, including High Park, which is the city's largest public park with hiking trails, sports facilities, a lakefront, a zoo, and playgrounds. The Toronto Zoo houses over 5,000 animals from more than 500 species. Ripley's Aquarium of Canada, located at the base of the CN Tower, is one of the city's newest top attractions.\", metadata={'page': 2, 'type': 'summary', 'doc_id': '80e1944b-044e-5dc8-899f-7a941f1fa08b', 'source': 'data\\\\toronto.pdf(summary)'}),\n",
       " Document(page_content=\"Toronto's food scene is diverse, highlighted by the St. Lawrence Market, named the world's best food market by National Geographic in 2012. The city also boasts a vibrant nightlife with numerous bars, nightclubs, and live music venues, particularly in the Entertainment District. Overall, Toronto offers a wide range of activities for art and culture enthusiasts, outdoor lovers, foodies, and those seeking entertainment.\", metadata={'page': 3, 'type': 'summary', 'doc_id': 'a9cace25-2615-59b1-9669-ccd6656ac767', 'source': 'data\\\\toronto.pdf(summary)'})]"
      ]
     },
     "execution_count": 46,
     "metadata": {},
     "output_type": "execute_result"
    }
   ],
   "source": [
    "from sqlalchemy import create_engine, Column, String, LargeBinary, select, Table, MetaData\n",
    "from sqlalchemy.orm import sessionmaker\n",
    "from sqlalchemy.dialects.postgresql import JSONB\n",
    "from langchain.schema.document import Document\n",
    "\n",
    "# List to store all summary documents\n",
    "summary_docs = []\n",
    "\n",
    "# Database connection setup\n",
    "engine = create_engine(CONNECTION_STRING)\n",
    "Session = sessionmaker(bind=engine)\n",
    "session = Session()\n",
    "\n",
    "# Define table structure\n",
    "metadata = MetaData()\n",
    "langchain_pg_embedding = Table(\n",
    "    'langchain_pg_embedding', metadata,\n",
    "    Column('id', String, primary_key=True),\n",
    "    Column('collection_id', String),\n",
    "    Column('embedding', LargeBinary),\n",
    "    Column('document', String),\n",
    "    Column('cmetadata', JSONB)\n",
    ")\n",
    "\n",
    "# Collect parent chunks and associated document IDs for documents that are not SKIP\n",
    "non_skip_docs = [(doc, doc_id) for doc, (doc_id, operation) in zip(documents, parent_docs_operations) if operation != 'SKIP']\n",
    "parent_chunk = [doc.page_content for doc, _ in non_skip_docs]\n",
    "\n",
    "# Generate summaries for the parent chunks that are not SKIP\n",
    "text_summaries = summarize_chain.batch(parent_chunk, {\"max_concurrency\": 5})\n",
    "\n",
    "# Create an iterator for the generated summaries\n",
    "text_summaries_iter = iter(text_summaries)\n",
    "\n",
    "# Iterate through the operations\n",
    "for doc, (doc_id, operation) in zip(documents, parent_docs_operations):\n",
    "    if operation == 'SKIP':\n",
    "        # Fetch records from langchain_pg_embedding table\n",
    "        query = select(\n",
    "            langchain_pg_embedding.c.id,\n",
    "            langchain_pg_embedding.c.collection_id,\n",
    "            langchain_pg_embedding.c.embedding,\n",
    "            langchain_pg_embedding.c.document,\n",
    "            langchain_pg_embedding.c.cmetadata\n",
    "        ).where(\n",
    "            (langchain_pg_embedding.c.cmetadata['doc_id'].astext == doc_id) &\n",
    "            (langchain_pg_embedding.c.cmetadata['type'].astext == 'summary')\n",
    "        )\n",
    "        \n",
    "        result = session.execute(query).fetchall()\n",
    "        \n",
    "        # Recreate summary documents from fetched records\n",
    "        for row in result:\n",
    "            metadata = row.cmetadata\n",
    "            summary_content = row.document\n",
    "            summary_doc = Document(page_content=summary_content, metadata=metadata)\n",
    "            summary_docs.append(summary_doc)\n",
    "    else:\n",
    "        # Retrieve the source and page from the document's metadata\n",
    "        source = doc.metadata.get(\"source\")\n",
    "        page = doc.metadata.get(\"page\")\n",
    "        \n",
    "        # Get the next generated summary\n",
    "        summary_content = next(text_summaries_iter)\n",
    "        \n",
    "        # Create a summary document\n",
    "        summary_doc = Document(page_content=summary_content, metadata={\n",
    "            \"doc_id\": doc_id,\n",
    "            \"source\": f\"{source}(summary)\",\n",
    "            \"page\": page,\n",
    "            \"type\": \"summary\"\n",
    "        })\n",
    "        summary_docs.append(summary_doc)\n",
    "\n",
    "# Close the session after use\n",
    "session.close()\n",
    "\n",
    "# The resulting summary documents\n",
    "summary_docs\n"
   ]
  },
  {
   "cell_type": "code",
   "execution_count": 47,
   "id": "a9317f1e",
   "metadata": {},
   "outputs": [],
   "source": [
    "idx = index_with_ids(summary_docs, record_manager, vectorstore, cleanup=\"incremental\",\n",
    "                                          source_id_key=\"source\")\n"
   ]
  },
  {
   "cell_type": "code",
   "execution_count": 48,
   "id": "4be2dc9d",
   "metadata": {},
   "outputs": [
    {
     "data": {
      "text/plain": [
       "{'status': 'success',\n",
       " 'ids': [{'key': '951ade68-c534-535c-bba6-fe2ed366eefd', 'operation': 'SKIP'},\n",
       "  {'key': 'fb7fc7df-1de3-5af3-9483-f5fdddfaf66e', 'operation': 'SKIP'},\n",
       "  {'key': 'a9199eb6-da61-5344-a93d-e02d82f6ed34', 'operation': 'SKIP'},\n",
       "  {'key': '1cd7a39b-13f5-59c4-a583-bf9c48c6c8f2', 'operation': 'SKIP'}],\n",
       " 'results': [{'num_added': 0,\n",
       "   'num_updated': 0,\n",
       "   'num_skipped': 4,\n",
       "   'num_deleted': 0}]}"
      ]
     },
     "execution_count": 48,
     "metadata": {},
     "output_type": "execute_result"
    }
   ],
   "source": [
    "idx"
   ]
  },
  {
   "cell_type": "markdown",
   "id": "7bbf4b08",
   "metadata": {},
   "source": [
    "### Generating Hypothetical Questions for Each Parent Chunk"
   ]
  },
  {
   "cell_type": "code",
   "execution_count": 49,
   "id": "8ec26a03",
   "metadata": {},
   "outputs": [],
   "source": [
    "functions = [\n",
    "    {\n",
    "        \"name\": \"hypothetical_questions\",\n",
    "        \"description\": \"Generate hypothetical questions\",\n",
    "        \"parameters\": {\n",
    "            \"type\": \"object\",\n",
    "            \"properties\": {\n",
    "                \"questions\": {\n",
    "                    \"type\": \"array\",\n",
    "                    \"items\": {\"type\": \"string\"},\n",
    "                },\n",
    "            },\n",
    "            \"required\": [\"questions\"],\n",
    "        },\n",
    "    }\n",
    "]"
   ]
  },
  {
   "cell_type": "code",
   "execution_count": 50,
   "id": "14e853c2",
   "metadata": {},
   "outputs": [],
   "source": [
    "from langchain.output_parsers.openai_functions import JsonKeyOutputFunctionsParser\n",
    "\n",
    "question_chain = (\n",
    "    {\"doc\": lambda x: x.page_content}\n",
    "    # Only asking for 5 hypothetical questions, but this could be adjusted\n",
    "    | ChatPromptTemplate.from_template(\n",
    "        \"\"\"Generate a list of exactly 5 hypothetical questions that the below document could be used to answer:\\n\\n{doc}\n",
    "        seperate each question with a comma (,)\n",
    "        \"\"\"\n",
    "    )\n",
    "    | ChatOpenAI(max_retries=0, model=\"gpt-4o\").bind(\n",
    "        functions=functions, function_call={\"name\": \"hypothetical_questions\"}\n",
    "    )\n",
    "    | JsonKeyOutputFunctionsParser(key_name=\"questions\")\n",
    ")"
   ]
  },
  {
   "cell_type": "code",
   "execution_count": 51,
   "id": "6a0b9723",
   "metadata": {},
   "outputs": [
    {
     "data": {
      "text/plain": [
       "[Document(page_content='What are some of the top attractions to visit in Toronto?', metadata={'page': 0, 'type': 'question', 'doc_id': 'eac9bbc7-a391-5931-a26c-11d9ee2402aa', 'source': 'data\\\\toronto.pdf(question)'}),\n",
       " Document(page_content='Is the CN Tower worth visiting for a panoramic view of Toronto?', metadata={'page': 0, 'type': 'question', 'doc_id': 'eac9bbc7-a391-5931-a26c-11d9ee2402aa', 'source': 'data\\\\toronto.pdf(question)'}),\n",
       " Document(page_content='What can visitors do on the Toronto Islands?', metadata={'page': 0, 'type': 'question', 'doc_id': 'eac9bbc7-a391-5931-a26c-11d9ee2402aa', 'source': 'data\\\\toronto.pdf(question)'}),\n",
       " Document(page_content='Are there any notable museums in Toronto?', metadata={'page': 0, 'type': 'question', 'doc_id': 'eac9bbc7-a391-5931-a26c-11d9ee2402aa', 'source': 'data\\\\toronto.pdf(question)'}),\n",
       " Document(page_content='What makes Toronto a dynamic and cosmopolitan hub?', metadata={'page': 0, 'type': 'question', 'doc_id': 'eac9bbc7-a391-5931-a26c-11d9ee2402aa', 'source': 'data\\\\toronto.pdf(question)'}),\n",
       " Document(page_content='What are some cultural neighborhoods to explore in Toronto?', metadata={'page': 1, 'type': 'question', 'doc_id': '4d722603-1c85-56ab-82f2-2d4dfdd3eb68', 'source': 'data\\\\toronto.pdf(question)'}),\n",
       " Document(page_content='Where can I find a large Chinatown in North America?', metadata={'page': 1, 'type': 'question', 'doc_id': '4d722603-1c85-56ab-82f2-2d4dfdd3eb68', 'source': 'data\\\\toronto.pdf(question)'}),\n",
       " Document(page_content='What types of shops and food can I find in Kensington Market?', metadata={'page': 1, 'type': 'question', 'doc_id': '4d722603-1c85-56ab-82f2-2d4dfdd3eb68', 'source': 'data\\\\toronto.pdf(question)'}),\n",
       " Document(page_content='What is unique about the Distillery District in Toronto?', metadata={'page': 1, 'type': 'question', 'doc_id': '4d722603-1c85-56ab-82f2-2d4dfdd3eb68', 'source': 'data\\\\toronto.pdf(question)'}),\n",
       " Document(page_content='Which festivals celebrate culture and arts in Toronto?', metadata={'page': 1, 'type': 'question', 'doc_id': '4d722603-1c85-56ab-82f2-2d4dfdd3eb68', 'source': 'data\\\\toronto.pdf(question)'}),\n",
       " Document(page_content='What are some outdoor activities available in Toronto?', metadata={'page': 2, 'type': 'question', 'doc_id': '80e1944b-044e-5dc8-899f-7a941f1fa08b', 'source': 'data\\\\toronto.pdf(question)'}),\n",
       " Document(page_content='What can visitors expect to find at High Park in Toronto?', metadata={'page': 2, 'type': 'question', 'doc_id': '80e1944b-044e-5dc8-899f-7a941f1fa08b', 'source': 'data\\\\toronto.pdf(question)'}),\n",
       " Document(page_content='How many animals are housed at the Toronto Zoo?', metadata={'page': 2, 'type': 'question', 'doc_id': '80e1944b-044e-5dc8-899f-7a941f1fa08b', 'source': 'data\\\\toronto.pdf(question)'}),\n",
       " Document(page_content=\"Where is Ripley's Aquarium of Canada located?\", metadata={'page': 2, 'type': 'question', 'doc_id': '80e1944b-044e-5dc8-899f-7a941f1fa08b', 'source': 'data\\\\toronto.pdf(question)'}),\n",
       " Document(page_content='What is one of the newest top attractions in Toronto?', metadata={'page': 2, 'type': 'question', 'doc_id': '80e1944b-044e-5dc8-899f-7a941f1fa08b', 'source': 'data\\\\toronto.pdf(question)'}),\n",
       " Document(page_content='What are some must-visit food markets in Toronto?', metadata={'page': 3, 'type': 'question', 'doc_id': 'a9cace25-2615-59b1-9669-ccd6656ac767', 'source': 'data\\\\toronto.pdf(question)'}),\n",
       " Document(page_content=\"How is Toronto's nightlife described in the document?\", metadata={'page': 3, 'type': 'question', 'doc_id': 'a9cace25-2615-59b1-9669-ccd6656ac767', 'source': 'data\\\\toronto.pdf(question)'}),\n",
       " Document(page_content='Which market was named the world’s best food market by National Geographic in 2012?', metadata={'page': 3, 'type': 'question', 'doc_id': 'a9cace25-2615-59b1-9669-ccd6656ac767', 'source': 'data\\\\toronto.pdf(question)'}),\n",
       " Document(page_content=\"Where is Toronto's Entertainment District and what is it known for?\", metadata={'page': 3, 'type': 'question', 'doc_id': 'a9cace25-2615-59b1-9669-ccd6656ac767', 'source': 'data\\\\toronto.pdf(question)'}),\n",
       " Document(page_content='What types of activities and attractions does Toronto offer according to the document?', metadata={'page': 3, 'type': 'question', 'doc_id': 'a9cace25-2615-59b1-9669-ccd6656ac767', 'source': 'data\\\\toronto.pdf(question)'})]"
      ]
     },
     "execution_count": 51,
     "metadata": {},
     "output_type": "execute_result"
    }
   ],
   "source": [
    "from sqlalchemy import create_engine, Column, String, LargeBinary, select, Table, MetaData\n",
    "from sqlalchemy.orm import sessionmaker\n",
    "from sqlalchemy.dialects.postgresql import JSONB\n",
    "from langchain.schema.document import Document\n",
    "\n",
    "# List to store all question documents\n",
    "question_docs = []\n",
    "\n",
    "# Database connection setup\n",
    "engine = create_engine(CONNECTION_STRING)\n",
    "Session = sessionmaker(bind=engine)\n",
    "session = Session()\n",
    "\n",
    "# Define table structure\n",
    "metadata = MetaData()\n",
    "langchain_pg_embedding = Table(\n",
    "    'langchain_pg_embedding', metadata,\n",
    "    Column('id', String, primary_key=True),\n",
    "    Column('collection_id', String),\n",
    "    Column('embedding', LargeBinary),\n",
    "    Column('document', String),\n",
    "    Column('cmetadata', JSONB)\n",
    ")\n",
    "\n",
    "# Collect parent documents and associated document IDs for documents that are not SKIP\n",
    "non_skip_docs = [(doc, doc_id) for doc, (doc_id, operation) in zip(documents, parent_docs_operations) if operation != 'SKIP']\n",
    "parent_documents = [doc for doc, _ in non_skip_docs]\n",
    "\n",
    "# Generate hypothetical questions for the parent documents that are not SKIP\n",
    "hypothetical_questions = question_chain.batch(parent_documents, {\"max_concurrency\": 5})\n",
    "\n",
    "# Create an iterator for the generated questions\n",
    "hypothetical_questions_iter = iter(hypothetical_questions)\n",
    "\n",
    "# Iterate through the operations\n",
    "for doc, (doc_id, operation) in zip(documents, parent_docs_operations):\n",
    "    if operation == 'SKIP':\n",
    "        # Fetch records from langchain_pg_embedding table\n",
    "        query = select(\n",
    "            langchain_pg_embedding.c.id,\n",
    "            langchain_pg_embedding.c.collection_id,\n",
    "            langchain_pg_embedding.c.embedding,\n",
    "            langchain_pg_embedding.c.document,\n",
    "            langchain_pg_embedding.c.cmetadata\n",
    "        ).where(\n",
    "            (langchain_pg_embedding.c.cmetadata['doc_id'].astext == doc_id) &\n",
    "            (langchain_pg_embedding.c.cmetadata['type'].astext == 'question')\n",
    "        )\n",
    "        \n",
    "        result = session.execute(query).fetchall()\n",
    "        \n",
    "        # Recreate question documents from fetched records\n",
    "        for row in result:\n",
    "            metadata = row.cmetadata\n",
    "            question_content = row.document\n",
    "            question_doc = Document(page_content=question_content, metadata=metadata)\n",
    "            question_docs.append(question_doc)\n",
    "    else:\n",
    "        # Retrieve the source and page from the document's metadata\n",
    "        source = doc.metadata.get(\"source\")\n",
    "        page = doc.metadata.get(\"page\")\n",
    "        \n",
    "        # Get the list of generated questions for this document\n",
    "        question_list = next(hypothetical_questions_iter)\n",
    "        \n",
    "        # Create a question document for each question in the list\n",
    "        for question_content in question_list:\n",
    "            # Define the metadata for the question document\n",
    "            new_metadata = {\n",
    "                \"doc_id\": doc_id,\n",
    "                \"source\": f\"{source}(question)\",\n",
    "                \"page\": page,\n",
    "                \"type\": \"question\"\n",
    "            }\n",
    "            \n",
    "            # Create the question document\n",
    "            question_doc = Document(page_content=question_content, metadata=new_metadata)\n",
    "            question_docs.append(question_doc)\n",
    "\n",
    "# Close the session after use\n",
    "session.close()\n",
    "\n",
    "# The resulting question documents\n",
    "question_docs\n"
   ]
  },
  {
   "cell_type": "code",
   "execution_count": 52,
   "id": "fc293300",
   "metadata": {},
   "outputs": [],
   "source": [
    "idx = index_with_ids(question_docs, record_manager, vectorstore, cleanup=\"incremental\",\n",
    "                                          source_id_key=\"source\")\n",
    "\n"
   ]
  },
  {
   "cell_type": "code",
   "execution_count": 53,
   "id": "41ce2538",
   "metadata": {},
   "outputs": [
    {
     "data": {
      "text/plain": [
       "{'status': 'success',\n",
       " 'ids': [{'key': '97ebcb97-f2a5-5da7-b1e1-2c66d9c763ef', 'operation': 'SKIP'},\n",
       "  {'key': '80a1f94f-f85b-540d-a8ad-6483007e2a65', 'operation': 'SKIP'},\n",
       "  {'key': '6086e0e0-7c2a-569e-8c79-c11f6e272540', 'operation': 'SKIP'},\n",
       "  {'key': '50a1af88-0d1e-566c-b100-4c8390db89a3', 'operation': 'SKIP'},\n",
       "  {'key': 'f74077eb-a538-57fa-a8cc-067468ba2652', 'operation': 'SKIP'},\n",
       "  {'key': '33b30531-4744-5a34-aad0-e375b0e0b47e', 'operation': 'SKIP'},\n",
       "  {'key': '34d85a51-ff59-5a51-ac21-fdedc576d740', 'operation': 'SKIP'},\n",
       "  {'key': '51d7af49-b3cf-5ef0-862d-b8e21d108c4e', 'operation': 'SKIP'},\n",
       "  {'key': '0600d956-c4f0-51e6-99f4-174fdde4efe1', 'operation': 'SKIP'},\n",
       "  {'key': 'd06b267c-9920-5637-9ae4-b214fcd040f0', 'operation': 'SKIP'},\n",
       "  {'key': 'ae0d77ee-12f9-5c17-b4b8-de28d261e3eb', 'operation': 'SKIP'},\n",
       "  {'key': '442bc5ab-b40f-5c1f-b95e-aab596a0d3b2', 'operation': 'SKIP'},\n",
       "  {'key': '0fb59fc5-23c0-5b9c-92cb-28cdc0f52c37', 'operation': 'SKIP'},\n",
       "  {'key': '71173b29-71ed-5c9e-9958-3032b3308cd0', 'operation': 'SKIP'},\n",
       "  {'key': '8f2e44f4-4800-5309-9b1b-74878cfe7f68', 'operation': 'SKIP'},\n",
       "  {'key': 'dfdf9178-90db-5011-a219-1dd0a68f10da', 'operation': 'SKIP'},\n",
       "  {'key': 'b4fe0823-52f8-587f-879a-a67138b957c3', 'operation': 'SKIP'},\n",
       "  {'key': 'cfddccef-9310-5544-9bcb-363173146215', 'operation': 'SKIP'},\n",
       "  {'key': '1e90606d-194f-5d83-8229-64d4739f2872', 'operation': 'SKIP'},\n",
       "  {'key': 'f4084503-6378-537d-aaee-d440ef935ba8', 'operation': 'SKIP'}],\n",
       " 'results': [{'num_added': 0,\n",
       "   'num_updated': 0,\n",
       "   'num_skipped': 20,\n",
       "   'num_deleted': 0}]}"
      ]
     },
     "execution_count": 53,
     "metadata": {},
     "output_type": "execute_result"
    }
   ],
   "source": [
    "idx"
   ]
  },
  {
   "cell_type": "code",
   "execution_count": null,
   "id": "520296eb",
   "metadata": {},
   "outputs": [],
   "source": [
    "retriever.vectorstore.similarity_search(\"What dining options are available in Montreal for those interested in Middle Eastern cuisine?\")"
   ]
  },
  {
   "cell_type": "code",
   "execution_count": null,
   "id": "4b99ab71",
   "metadata": {},
   "outputs": [],
   "source": [
    "retriever.invoke(\"What dining options are available in Montreal for those interested in Middle Eastern cuisine?\")"
   ]
  },
  {
   "cell_type": "markdown",
   "id": "abbdbcd4",
   "metadata": {},
   "source": [
    "### Creating an LCEL Chain and Testing the Retriever"
   ]
  },
  {
   "cell_type": "code",
   "execution_count": null,
   "id": "47d2764b",
   "metadata": {},
   "outputs": [],
   "source": [
    "from langchain_core.runnables import RunnablePassthrough\n",
    "from langchain_core.output_parsers import StrOutputParser\n",
    "from langchain_core.prompts import ChatPromptTemplate\n",
    "from langchain_openai import ChatOpenAI\n",
    "\n",
    "# Prompt template\n",
    "template = \"\"\"Answer the question based only on the following context:\n",
    "{context}\n",
    "Question: {question}\n",
    "\"\"\"\n",
    "prompt = ChatPromptTemplate.from_template(template)\n",
    "\n",
    "# LLM\n",
    "model = ChatOpenAI(temperature=0, model=\"gpt-4o\")\n",
    "\n",
    "# RAG pipeline\n",
    "chain = (\n",
    "    {\"context\": retriever, \"question\": RunnablePassthrough()}\n",
    "    | prompt\n",
    "    | model\n",
    "    | StrOutputParser()\n",
    ")"
   ]
  },
  {
   "cell_type": "code",
   "execution_count": null,
   "id": "2798ab6c",
   "metadata": {},
   "outputs": [],
   "source": [
    "chain.invoke(\"What dining options are available in Montreal for those interested in Middle Eastern cuisine?\")"
   ]
  },
  {
   "cell_type": "code",
   "execution_count": null,
   "id": "9cb9b4df",
   "metadata": {},
   "outputs": [],
   "source": [
    "chain.invoke(\"Where can I find the best smoked meat sandwiches in Montreal?\")"
   ]
  },
  {
   "cell_type": "code",
   "execution_count": null,
   "id": "9f2f0da4",
   "metadata": {},
   "outputs": [],
   "source": [
    "chain.invoke(\"Where can I find the best food in Montreal?\")"
   ]
  }
 ],
 "metadata": {
  "kernelspec": {
   "display_name": ".venv",
   "language": "python",
   "name": "python3"
  },
  "language_info": {
   "codemirror_mode": {
    "name": "ipython",
    "version": 3
   },
   "file_extension": ".py",
   "mimetype": "text/x-python",
   "name": "python",
   "nbconvert_exporter": "python",
   "pygments_lexer": "ipython3",
   "version": "3.11.7"
  }
 },
 "nbformat": 4,
 "nbformat_minor": 5
}
