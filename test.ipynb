{
 "cells": [
  {
   "cell_type": "code",
   "execution_count": 13,
   "metadata": {},
   "outputs": [
    {
     "name": "stdout",
     "output_type": "stream",
     "text": [
      "Initial Indexing result: {'status': 'success', 'ids': [{'key': '3dade02b-1f2e-5b0b-b835-de895ee38d06', 'operation': 'INS'}, {'key': '7da5d2fd-1437-57de-b3e8-309f4a053eac', 'operation': 'INS'}, {'key': 'da8ec9e5-3c8d-5f58-ae34-1c8b584a6688', 'operation': 'DEL'}, {'key': 'a4801c03-4797-5a1b-b3f1-4cbba079a63f', 'operation': 'DEL'}], 'results': [{'num_added': 2, 'num_updated': 0, 'num_skipped': 0, 'num_deleted': 2}]}\n",
      "Second Indexing result: {'status': 'success', 'ids': [{'key': '3dade02b-1f2e-5b0b-b835-de895ee38d06', 'operation': 'SKIP'}, {'key': '7da5d2fd-1437-57de-b3e8-309f4a053eac', 'operation': 'SKIP'}], 'results': [{'num_added': 0, 'num_updated': 0, 'num_skipped': 2, 'num_deleted': 0}]}\n"
     ]
    }
   ],
   "source": [
    "from langchain_core.documents import Document\n",
    "from langchain_openai import OpenAIEmbeddings\n",
    "from langchain_postgres import PGVector\n",
    "from index_with_ids import index_with_ids\n",
    "from custom_sql_record_manager import CustomSQLRecordManager\n",
    "from database import COLLECTION_NAME, CONNECTION_STRING\n",
    "\n",
    "# Create example documents and record manager\n",
    "documents = [\n",
    "    Document(page_content=\"Document 111 content\", metadata={\"source\": \"source_11\"}),\n",
    "    Document(page_content=\"Document 311 content\", metadata={\"source\": \"source_31\"}),\n",
    "]\n",
    "\n",
    "namespace = f\"{COLLECTION_NAME}\"\n",
    "record_manager = CustomSQLRecordManager(namespace, db_url=CONNECTION_STRING)\n",
    "\n",
    "embeddings = OpenAIEmbeddings()\n",
    "vectorstore = PGVector(\n",
    "    embeddings=embeddings,\n",
    "    collection_name=COLLECTION_NAME,\n",
    "    connection=CONNECTION_STRING,\n",
    "    use_jsonb=True,\n",
    ")\n",
    "\n",
    "indexing_result = index_with_ids(documents, record_manager, vectorstore, cleanup=\"incremental\", source_id_key=\"source\")\n",
    "print(\"Initial Indexing result:\", indexing_result)\n",
    "\n",
    "indexing_result = index_with_ids(documents, record_manager, vectorstore, cleanup=\"full\", source_id_key=\"source\")\n",
    "print(\"Second Indexing result:\", indexing_result)\n",
    "\n",
    "# documents = [\n",
    "#     # Document(page_content=\"Document 11 content\", metadata={\"source\": \"source_11\"}),\n",
    "#     Document(page_content=\"Document 32 content\", metadata={\"source\": \"source_31\"}),\n",
    "#     Document(page_content=\"Document 22 content\", metadata={\"source\": \"source_11\"}),\n",
    "#     Document(page_content=\"Document 44 content\", metadata={\"source\": \"source_31\"}),\n",
    "    \n",
    "# ]\n",
    "\n",
    "# indexing_result = index_with_ids(documents, record_manager, vectorstore, cleanup=\"full\", source_id_key=\"source\")\n",
    "# print(\"After Deletion Indexing result:\", indexing_result)\n"
   ]
  },
  {
   "cell_type": "code",
   "execution_count": 12,
   "metadata": {},
   "outputs": [
    {
     "name": "stdout",
     "output_type": "stream",
     "text": [
      "Initial Indexing result: {'num_added': 2, 'num_updated': 0, 'num_skipped': 0, 'num_deleted': 2}\n",
      "Second Indexing result: {'num_added': 0, 'num_updated': 0, 'num_skipped': 2, 'num_deleted': 0}\n"
     ]
    }
   ],
   "source": [
    "from langchain_core.documents import Document\n",
    "from langchain_openai import OpenAIEmbeddings\n",
    "from langchain_postgres import PGVector\n",
    "from index_with_ids import index_with_ids\n",
    "from custom_sql_record_manager import CustomSQLRecordManager\n",
    "from database import COLLECTION_NAME, CONNECTION_STRING\n",
    "from langchain.indexes import SQLRecordManager, index\n",
    "\n",
    "# Create example documents and record manager\n",
    "documents = [\n",
    "    Document(page_content=\"Document 11 content\", metadata={\"source\": \"source_11\"}),\n",
    "    Document(page_content=\"Document 31 content\", metadata={\"source\": \"source_31\"}),\n",
    "]\n",
    "\n",
    "namespace = f\"{COLLECTION_NAME}\"\n",
    "record_manager = SQLRecordManager(namespace, db_url=CONNECTION_STRING)\n",
    "\n",
    "embeddings = OpenAIEmbeddings()\n",
    "vectorstore = PGVector(\n",
    "    embeddings=embeddings,\n",
    "    collection_name=COLLECTION_NAME,\n",
    "    connection=CONNECTION_STRING,\n",
    "    use_jsonb=True,\n",
    ")\n",
    "\n",
    "indexing_result = index(documents, record_manager, vectorstore, cleanup=\"incremental\", source_id_key=\"source\")\n",
    "print(\"Initial Indexing result:\", indexing_result)\n",
    "\n",
    "indexing_result = index(documents, record_manager, vectorstore, cleanup=\"full\", source_id_key=\"source\")\n",
    "print(\"Second Indexing result:\", indexing_result)\n",
    "\n",
    "# documents = [\n",
    "#     # Document(page_content=\"Document 11 content\", metadata={\"source\": \"source_11\"}),\n",
    "#     Document(page_content=\"Document 31 content\", metadata={\"source\": \"source_31\"}),\n",
    "#     Document(page_content=\"Document 22 content\", metadata={\"source\": \"source_11\"}),\n",
    "#     Document(page_content=\"Document 44 content\", metadata={\"source\": \"source_31\"}),\n",
    "    \n",
    "# ]\n",
    "\n",
    "# indexing_result = index(documents, record_manager, vectorstore, cleanup=\"full\", source_id_key=\"source\")\n",
    "# print(\"After Deletion Indexing result:\", indexing_result)\n"
   ]
  }
 ],
 "metadata": {
  "kernelspec": {
   "display_name": ".venv",
   "language": "python",
   "name": "python3"
  },
  "language_info": {
   "codemirror_mode": {
    "name": "ipython",
    "version": 3
   },
   "file_extension": ".py",
   "mimetype": "text/x-python",
   "name": "python",
   "nbconvert_exporter": "python",
   "pygments_lexer": "ipython3",
   "version": "3.11.7"
  }
 },
 "nbformat": 4,
 "nbformat_minor": 2
}
